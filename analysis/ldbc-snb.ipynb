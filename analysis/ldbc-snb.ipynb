{
 "cells": [
  {
   "cell_type": "code",
   "execution_count": 76,
   "outputs": [
    {
     "data": {
      "text/plain": "     System                Time                          Execution ID                                                                                                               Notes\n0   Graphix 2023-02-28 20:06:14  98ab0355-c945-45e6-a86f-58fb5535cb30                                                                             Using CBO. EXPLAIN issued before query.\n1   Graphix 2023-02-28 22:56:02  04f5fb88-f7f5-4075-9890-37291c859767                                                                             Using CBO. EXPLAIN issued before query.\n2   Graphix 2023-03-01 03:23:45  9268fcd6-8a61-40cb-b01f-107105a1dd65                                                                             Using CBO. EXPLAIN issued before query.\n3   Graphix 2023-03-01 22:25:10  5b8a6d7a-6e57-4b06-83d2-b7c8ec533bad                                                                             Using CBO. EXPLAIN issued before query.\n4   Graphix 2023-03-02 18:44:51  f5046266-da89-4b63-bb4a-1e4a2d2852fd                                                                 1NC. Using CBO. CC on NC. Cluster built w/ ansible.\n5   Graphix 2023-04-20 03:38:11  ad01f0ed-fb37-486a-b020-ee5084e01fce                                                                                        Just BI workload. First run.\n6   Graphix 2023-04-20 03:56:50  d1ab0c50-ccb9-480f-b84d-fd1213f5148e                                                                                       Just BI workload. Second run.\n7   Graphix 2023-04-20 04:35:11  27e99a18-6017-466f-ac72-c16af8fd4d6b                                                                       Just BI workload. Debug run (issue with BI2).\n8   Graphix 2023-04-20 04:41:03  3031c0f8-0f30-4359-ba3d-7b9f21c95877                                                                       Just BI workload. Debug run (issue with BI2).\n9   Graphix 2023-04-20 04:47:17  2741338d-55be-4741-82d9-31090a49d46c                                                                       Just BI workload. Debug run (issue with BI2).\n10  Graphix 2023-04-20 04:52:40  95c4b0ea-7b5e-4378-ab08-e47d0ce05d32                                                                      Just BI workload. Last run for April 19, 2023.\n11  Graphix 2023-04-20 19:46:59  b1de07b5-881d-4505-b69e-d481f07a3a0f                                                                     Just BI workload. First run for April 20, 2023.\n12  Graphix 2023-04-22 19:51:24  5bf18979-b52e-4893-ab16-d30781a494be                                                    Just BI workload. First run for April 22, 2023. 32-node cluster.\n13  Graphix 2023-04-28 21:18:18  e6cd282c-7da9-4875-9542-698b6538395e    Second run for April 28, 2023. Includes BI and interactive workloads, for non-recursive queries. 1-node cluster.\n14  Graphix 2023-05-02 20:38:18  2316e26c-050f-45f0-b777-411ef291837e        First run for May 2, 2023. Includes BI and interactive workloads, for non-recursive queries. 2-node cluster.\n15  Graphix 2023-05-05 17:39:20  bf9db62c-8a95-4e22-9c2f-a147d6353c4f        First run for May 5, 2023. Includes BI and interactive workloads, for non-recursive queries. 4-node cluster.\n16  Graphix 2023-05-07 06:12:30  dc0e21b9-f598-4c01-befb-c1ef227f7feb        First run for May 6, 2023. Includes BI and interactive workloads, for non-recursive queries. 8-node cluster.\n17  Graphix 2023-05-09 01:20:48  b6444e6e-4523-40eb-aa30-946303b2d0d5       First run for May 9, 2023. Includes BI and interactive workloads, for non-recursive queries. 16-node cluster.\n18  Graphix 2023-05-10 03:00:51  a1ff52f1-557b-45e1-8d2b-f3b60d614a81      Second run for May 9, 2023. Includes BI and interactive workloads, for non-recursive queries. 32-node cluster.\n19  Graphix 2023-05-12 17:54:45  8fdd2cb7-6c75-4180-b1e0-4efb3185a88c                            First run of may 12. 4-node cluster. Rerunning BI-18 (there was a typo), BI-7, and BI-5.\n20  Graphix 2023-05-12 17:54:52  ce693dd4-f8d3-4960-89f1-b5dd0ed5021a                           First run of may 12. 32-node cluster. Rerunning BI-18 (there was a typo), BI-7, and BI-5.\n21  Graphix 2023-05-13 21:48:10  cb4aafdf-2ec8-41b9-b98b-1ff0a975f747                              2nd run of May 13. 4-node cluster. Rerunning BI-18 (there was a typo), BI-7, and BI-5.\n22  Graphix 2023-05-14 01:46:10  0a326ea1-03ff-41c0-b3ea-eb51e9393bda                              3rd run of May 13. 8-node cluster. Rerunning BI-18 (there was a typo), BI-7, and BI-5.\n23  Graphix 2023-05-14 01:46:28  529ef238-8af4-437a-b83e-a099ac37c359                            First run of May 13. 4-node cluster. Rerunning BI-18 (there was a typo), BI-7, and BI-5.\n24  Graphix 2023-05-14 14:52:17  2f531ec4-f8c7-4a2f-aa90-5e7ceb2e59f6                              3rd run of May 14. 2-node cluster. Rerunning BI-18 (there was a typo), BI-7, and BI-5.\n25    Neo4j 2023-02-28 20:26:00  26c0ba3d-95f8-4e52-8983-e5caf4a73856                                                                                        EXPLAIN issued before query.\n26    Neo4j 2023-02-28 20:49:22  5844a9dc-7704-4827-86b1-44b4fc82cf31                                                                                        EXPLAIN issued before query.\n27    Neo4j 2023-02-28 22:56:18  0036b2fe-e25a-4d26-94ae-956fd106c86f                                                                                        EXPLAIN issued before query.\n28    Neo4j 2023-03-01 01:37:38  d65c911c-63bd-4dba-a2b1-a004791f73fe                                                                                        EXPLAIN issued before query.\n29    Neo4j 2023-03-01 06:15:54  9770e1b0-6051-424b-8383-b462c0c1f7ec                                                                                        EXPLAIN issued before query.\n30    Neo4j 2023-03-01 22:25:33  e568f53e-c49f-434a-97d6-a0af61fe7677                                                                                        EXPLAIN issued before query.\n31    Neo4j 2023-03-03 07:48:11  6e1b5a27-37eb-420c-987b-e81f1e43ce67                                                                                        EXPLAIN issued before query.\n32    Neo4j 2023-04-20 19:31:03  a0ca9313-054c-4c0b-8585-77ed802634e0                                                       Just BI workload. To compare against 32-node Graphix cluster.\n33    Neo4j 2023-04-22 19:53:03  7572f85b-03a9-438b-a34d-12d19ad21644                          Just BI workload. To compare against 32-node Graphix cluster. First run of April 22, 2023.\n34    Neo4j 2023-04-24 21:50:07  9db18297-05fd-4fe4-af81-e0dbcae4070c                          Just BI workload. To compare against 32-node Graphix cluster. First run of April 24, 2023.\n35    Neo4j 2023-04-25 19:11:44  23750fbb-5cb6-407b-b503-a0e78b50d2ce                      First run of April 25, 2023. Includes BI and interactive workloads, for non-recursive queries.\n36    Neo4j 2023-05-11 18:48:26  1dcc51cd-d3cf-4802-8318-f7850f196e1f  First run of May 11, 2023. Includes BI and interactive workloads, for non-recursive queries. Using 3-hour timeout.\n37    Neo4j 2023-05-12 14:40:02  ba8fa58f-397d-4e59-ade6-935deff05e22   First run of May 12, 2023. Includes BI workloads that timed-out, for non-recursive queries. Using 5-hour timeout.",
      "text/html": "<div>\n<style scoped>\n    .dataframe tbody tr th:only-of-type {\n        vertical-align: middle;\n    }\n\n    .dataframe tbody tr th {\n        vertical-align: top;\n    }\n\n    .dataframe thead th {\n        text-align: right;\n    }\n</style>\n<table border=\"1\" class=\"dataframe\">\n  <thead>\n    <tr style=\"text-align: right;\">\n      <th></th>\n      <th>System</th>\n      <th>Time</th>\n      <th>Execution ID</th>\n      <th>Notes</th>\n    </tr>\n  </thead>\n  <tbody>\n    <tr>\n      <th>0</th>\n      <td>Graphix</td>\n      <td>2023-02-28 20:06:14</td>\n      <td>98ab0355-c945-45e6-a86f-58fb5535cb30</td>\n      <td>Using CBO. EXPLAIN issued before query.</td>\n    </tr>\n    <tr>\n      <th>1</th>\n      <td>Graphix</td>\n      <td>2023-02-28 22:56:02</td>\n      <td>04f5fb88-f7f5-4075-9890-37291c859767</td>\n      <td>Using CBO. EXPLAIN issued before query.</td>\n    </tr>\n    <tr>\n      <th>2</th>\n      <td>Graphix</td>\n      <td>2023-03-01 03:23:45</td>\n      <td>9268fcd6-8a61-40cb-b01f-107105a1dd65</td>\n      <td>Using CBO. EXPLAIN issued before query.</td>\n    </tr>\n    <tr>\n      <th>3</th>\n      <td>Graphix</td>\n      <td>2023-03-01 22:25:10</td>\n      <td>5b8a6d7a-6e57-4b06-83d2-b7c8ec533bad</td>\n      <td>Using CBO. EXPLAIN issued before query.</td>\n    </tr>\n    <tr>\n      <th>4</th>\n      <td>Graphix</td>\n      <td>2023-03-02 18:44:51</td>\n      <td>f5046266-da89-4b63-bb4a-1e4a2d2852fd</td>\n      <td>1NC. Using CBO. CC on NC. Cluster built w/ ansible.</td>\n    </tr>\n    <tr>\n      <th>5</th>\n      <td>Graphix</td>\n      <td>2023-04-20 03:38:11</td>\n      <td>ad01f0ed-fb37-486a-b020-ee5084e01fce</td>\n      <td>Just BI workload. First run.</td>\n    </tr>\n    <tr>\n      <th>6</th>\n      <td>Graphix</td>\n      <td>2023-04-20 03:56:50</td>\n      <td>d1ab0c50-ccb9-480f-b84d-fd1213f5148e</td>\n      <td>Just BI workload. Second run.</td>\n    </tr>\n    <tr>\n      <th>7</th>\n      <td>Graphix</td>\n      <td>2023-04-20 04:35:11</td>\n      <td>27e99a18-6017-466f-ac72-c16af8fd4d6b</td>\n      <td>Just BI workload. Debug run (issue with BI2).</td>\n    </tr>\n    <tr>\n      <th>8</th>\n      <td>Graphix</td>\n      <td>2023-04-20 04:41:03</td>\n      <td>3031c0f8-0f30-4359-ba3d-7b9f21c95877</td>\n      <td>Just BI workload. Debug run (issue with BI2).</td>\n    </tr>\n    <tr>\n      <th>9</th>\n      <td>Graphix</td>\n      <td>2023-04-20 04:47:17</td>\n      <td>2741338d-55be-4741-82d9-31090a49d46c</td>\n      <td>Just BI workload. Debug run (issue with BI2).</td>\n    </tr>\n    <tr>\n      <th>10</th>\n      <td>Graphix</td>\n      <td>2023-04-20 04:52:40</td>\n      <td>95c4b0ea-7b5e-4378-ab08-e47d0ce05d32</td>\n      <td>Just BI workload. Last run for April 19, 2023.</td>\n    </tr>\n    <tr>\n      <th>11</th>\n      <td>Graphix</td>\n      <td>2023-04-20 19:46:59</td>\n      <td>b1de07b5-881d-4505-b69e-d481f07a3a0f</td>\n      <td>Just BI workload. First run for April 20, 2023.</td>\n    </tr>\n    <tr>\n      <th>12</th>\n      <td>Graphix</td>\n      <td>2023-04-22 19:51:24</td>\n      <td>5bf18979-b52e-4893-ab16-d30781a494be</td>\n      <td>Just BI workload. First run for April 22, 2023. 32-node cluster.</td>\n    </tr>\n    <tr>\n      <th>13</th>\n      <td>Graphix</td>\n      <td>2023-04-28 21:18:18</td>\n      <td>e6cd282c-7da9-4875-9542-698b6538395e</td>\n      <td>Second run for April 28, 2023. Includes BI and interactive workloads, for non-recursive queries. 1-node cluster.</td>\n    </tr>\n    <tr>\n      <th>14</th>\n      <td>Graphix</td>\n      <td>2023-05-02 20:38:18</td>\n      <td>2316e26c-050f-45f0-b777-411ef291837e</td>\n      <td>First run for May 2, 2023. Includes BI and interactive workloads, for non-recursive queries. 2-node cluster.</td>\n    </tr>\n    <tr>\n      <th>15</th>\n      <td>Graphix</td>\n      <td>2023-05-05 17:39:20</td>\n      <td>bf9db62c-8a95-4e22-9c2f-a147d6353c4f</td>\n      <td>First run for May 5, 2023. Includes BI and interactive workloads, for non-recursive queries. 4-node cluster.</td>\n    </tr>\n    <tr>\n      <th>16</th>\n      <td>Graphix</td>\n      <td>2023-05-07 06:12:30</td>\n      <td>dc0e21b9-f598-4c01-befb-c1ef227f7feb</td>\n      <td>First run for May 6, 2023. Includes BI and interactive workloads, for non-recursive queries. 8-node cluster.</td>\n    </tr>\n    <tr>\n      <th>17</th>\n      <td>Graphix</td>\n      <td>2023-05-09 01:20:48</td>\n      <td>b6444e6e-4523-40eb-aa30-946303b2d0d5</td>\n      <td>First run for May 9, 2023. Includes BI and interactive workloads, for non-recursive queries. 16-node cluster.</td>\n    </tr>\n    <tr>\n      <th>18</th>\n      <td>Graphix</td>\n      <td>2023-05-10 03:00:51</td>\n      <td>a1ff52f1-557b-45e1-8d2b-f3b60d614a81</td>\n      <td>Second run for May 9, 2023. Includes BI and interactive workloads, for non-recursive queries. 32-node cluster.</td>\n    </tr>\n    <tr>\n      <th>19</th>\n      <td>Graphix</td>\n      <td>2023-05-12 17:54:45</td>\n      <td>8fdd2cb7-6c75-4180-b1e0-4efb3185a88c</td>\n      <td>First run of may 12. 4-node cluster. Rerunning BI-18 (there was a typo), BI-7, and BI-5.</td>\n    </tr>\n    <tr>\n      <th>20</th>\n      <td>Graphix</td>\n      <td>2023-05-12 17:54:52</td>\n      <td>ce693dd4-f8d3-4960-89f1-b5dd0ed5021a</td>\n      <td>First run of may 12. 32-node cluster. Rerunning BI-18 (there was a typo), BI-7, and BI-5.</td>\n    </tr>\n    <tr>\n      <th>21</th>\n      <td>Graphix</td>\n      <td>2023-05-13 21:48:10</td>\n      <td>cb4aafdf-2ec8-41b9-b98b-1ff0a975f747</td>\n      <td>2nd run of May 13. 4-node cluster. Rerunning BI-18 (there was a typo), BI-7, and BI-5.</td>\n    </tr>\n    <tr>\n      <th>22</th>\n      <td>Graphix</td>\n      <td>2023-05-14 01:46:10</td>\n      <td>0a326ea1-03ff-41c0-b3ea-eb51e9393bda</td>\n      <td>3rd run of May 13. 8-node cluster. Rerunning BI-18 (there was a typo), BI-7, and BI-5.</td>\n    </tr>\n    <tr>\n      <th>23</th>\n      <td>Graphix</td>\n      <td>2023-05-14 01:46:28</td>\n      <td>529ef238-8af4-437a-b83e-a099ac37c359</td>\n      <td>First run of May 13. 4-node cluster. Rerunning BI-18 (there was a typo), BI-7, and BI-5.</td>\n    </tr>\n    <tr>\n      <th>24</th>\n      <td>Graphix</td>\n      <td>2023-05-14 14:52:17</td>\n      <td>2f531ec4-f8c7-4a2f-aa90-5e7ceb2e59f6</td>\n      <td>3rd run of May 14. 2-node cluster. Rerunning BI-18 (there was a typo), BI-7, and BI-5.</td>\n    </tr>\n    <tr>\n      <th>25</th>\n      <td>Neo4j</td>\n      <td>2023-02-28 20:26:00</td>\n      <td>26c0ba3d-95f8-4e52-8983-e5caf4a73856</td>\n      <td>EXPLAIN issued before query.</td>\n    </tr>\n    <tr>\n      <th>26</th>\n      <td>Neo4j</td>\n      <td>2023-02-28 20:49:22</td>\n      <td>5844a9dc-7704-4827-86b1-44b4fc82cf31</td>\n      <td>EXPLAIN issued before query.</td>\n    </tr>\n    <tr>\n      <th>27</th>\n      <td>Neo4j</td>\n      <td>2023-02-28 22:56:18</td>\n      <td>0036b2fe-e25a-4d26-94ae-956fd106c86f</td>\n      <td>EXPLAIN issued before query.</td>\n    </tr>\n    <tr>\n      <th>28</th>\n      <td>Neo4j</td>\n      <td>2023-03-01 01:37:38</td>\n      <td>d65c911c-63bd-4dba-a2b1-a004791f73fe</td>\n      <td>EXPLAIN issued before query.</td>\n    </tr>\n    <tr>\n      <th>29</th>\n      <td>Neo4j</td>\n      <td>2023-03-01 06:15:54</td>\n      <td>9770e1b0-6051-424b-8383-b462c0c1f7ec</td>\n      <td>EXPLAIN issued before query.</td>\n    </tr>\n    <tr>\n      <th>30</th>\n      <td>Neo4j</td>\n      <td>2023-03-01 22:25:33</td>\n      <td>e568f53e-c49f-434a-97d6-a0af61fe7677</td>\n      <td>EXPLAIN issued before query.</td>\n    </tr>\n    <tr>\n      <th>31</th>\n      <td>Neo4j</td>\n      <td>2023-03-03 07:48:11</td>\n      <td>6e1b5a27-37eb-420c-987b-e81f1e43ce67</td>\n      <td>EXPLAIN issued before query.</td>\n    </tr>\n    <tr>\n      <th>32</th>\n      <td>Neo4j</td>\n      <td>2023-04-20 19:31:03</td>\n      <td>a0ca9313-054c-4c0b-8585-77ed802634e0</td>\n      <td>Just BI workload. To compare against 32-node Graphix cluster.</td>\n    </tr>\n    <tr>\n      <th>33</th>\n      <td>Neo4j</td>\n      <td>2023-04-22 19:53:03</td>\n      <td>7572f85b-03a9-438b-a34d-12d19ad21644</td>\n      <td>Just BI workload. To compare against 32-node Graphix cluster. First run of April 22, 2023.</td>\n    </tr>\n    <tr>\n      <th>34</th>\n      <td>Neo4j</td>\n      <td>2023-04-24 21:50:07</td>\n      <td>9db18297-05fd-4fe4-af81-e0dbcae4070c</td>\n      <td>Just BI workload. To compare against 32-node Graphix cluster. First run of April 24, 2023.</td>\n    </tr>\n    <tr>\n      <th>35</th>\n      <td>Neo4j</td>\n      <td>2023-04-25 19:11:44</td>\n      <td>23750fbb-5cb6-407b-b503-a0e78b50d2ce</td>\n      <td>First run of April 25, 2023. Includes BI and interactive workloads, for non-recursive queries.</td>\n    </tr>\n    <tr>\n      <th>36</th>\n      <td>Neo4j</td>\n      <td>2023-05-11 18:48:26</td>\n      <td>1dcc51cd-d3cf-4802-8318-f7850f196e1f</td>\n      <td>First run of May 11, 2023. Includes BI and interactive workloads, for non-recursive queries. Using 3-hour timeout.</td>\n    </tr>\n    <tr>\n      <th>37</th>\n      <td>Neo4j</td>\n      <td>2023-05-12 14:40:02</td>\n      <td>ba8fa58f-397d-4e59-ade6-935deff05e22</td>\n      <td>First run of May 12, 2023. Includes BI workloads that timed-out, for non-recursive queries. Using 5-hour timeout.</td>\n    </tr>\n  </tbody>\n</table>\n</div>"
     },
     "execution_count": 76,
     "metadata": {},
     "output_type": "execute_result"
    }
   ],
   "source": [
    "import os\n",
    "import json\n",
    "import natsort\n",
    "import datetime\n",
    "import pandas\n",
    "import re\n",
    "\n",
    "# We will determine which result files are relevant for analysis.\n",
    "result_list = []\n",
    "for f in natsort.natsorted(os.listdir('../client/results')):\n",
    "    try:\n",
    "        fp = open('../client/results/' + f, 'r')\n",
    "        time_string = re.search(r'(graphix|neo4j)_(([0-9]|T)+).json', f).group(2)\n",
    "        try:\n",
    "            j = json.loads(fp.readline())\n",
    "            result_list += [[\n",
    "                j['clientClass'].split('BenchmarkClient')[0],\n",
    "                datetime.datetime.strptime(time_string, \"%Y%m%dT%H%M%S\"),\n",
    "                j['executionID'],\n",
    "                j['config']['notes']\n",
    "            ]]\n",
    "        except json.JSONDecodeError:\n",
    "            pass\n",
    "    except IsADirectoryError:\n",
    "        pass\n",
    "\n",
    "pandas.set_option('display.max_colwidth', None)\n",
    "pandas.DataFrame(result_list, columns=['System', 'Time', 'Execution ID', 'Notes'])"
   ],
   "metadata": {
    "collapsed": false
   }
  },
  {
   "cell_type": "code",
   "execution_count": 77,
   "outputs": [
    {
     "data": {
      "text/plain": "['R.executionID = \"e6cd282c-7da9-4875-9542-698b6538395e\" AND R.queryFile NOT LIKE \"bi-18%.sqlpp\" AND R.queryFile NOT LIKE \"bi-7%.sqlpp\" AND R.queryFile NOT LIKE \"bi-5.sqlpp\"',\n 'R.executionID = \"2316e26c-050f-45f0-b777-411ef291837e\" AND R.queryFile NOT LIKE \"bi-18%.sqlpp\" AND R.queryFile NOT LIKE \"bi-7%.sqlpp\" AND R.queryFile NOT LIKE \"bi-5.sqlpp\"',\n 'R.executionID = \"bf9db62c-8a95-4e22-9c2f-a147d6353c4f\" AND R.queryFile NOT LIKE \"bi-18%.sqlpp\" AND R.queryFile NOT LIKE \"bi-7%.sqlpp\" AND R.queryFile NOT LIKE \"bi-5.sqlpp\"',\n 'R.executionID = \"dc0e21b9-f598-4c01-befb-c1ef227f7feb\" AND R.queryFile NOT LIKE \"bi-18%.sqlpp\" AND R.queryFile NOT LIKE \"bi-7%.sqlpp\" AND R.queryFile NOT LIKE \"bi-5.sqlpp\"',\n 'R.executionID = \"b6444e6e-4523-40eb-aa30-946303b2d0d5\" AND R.queryFile NOT LIKE \"bi-18%.sqlpp\" AND R.queryFile NOT LIKE \"bi-7%.sqlpp\" AND R.queryFile NOT LIKE \"bi-5.sqlpp\"',\n 'R.executionID = \"a1ff52f1-557b-45e1-8d2b-f3b60d614a81\" AND R.queryFile NOT LIKE \"bi-18%.sqlpp\" AND R.queryFile NOT LIKE \"bi-7%.sqlpp\" AND R.queryFile NOT LIKE \"bi-5.sqlpp\"',\n 'R.executionID = \"23750fbb-5cb6-407b-b503-a0e78b50d2ce\"',\n 'R.executionID = \"1dcc51cd-d3cf-4802-8318-f7850f196e1f\"',\n 'R.executionID = \"ba8fa58f-397d-4e59-ade6-935deff05e22\"',\n 'R.executionID = \"8fdd2cb7-6c75-4180-b1e0-4efb3185a88c\"',\n 'R.executionID = \"ce693dd4-f8d3-4960-89f1-b5dd0ed5021a\"',\n 'R.executionID = \"cb4aafdf-2ec8-41b9-b98b-1ff0a975f747\"',\n 'R.executionID = \"0a326ea1-03ff-41c0-b3ea-eb51e9393bda\"',\n 'R.executionID = \"529ef238-8af4-437a-b83e-a099ac37c359\"',\n 'R.executionID = \"2f531ec4-f8c7-4a2f-aa90-5e7ceb2e59f6\"']"
     },
     "execution_count": 77,
     "metadata": {},
     "output_type": "execute_result"
    }
   ],
   "source": [
    "# Define the whitelist here, using the dataframe above! We start with our initial Graphix runs...\n",
    "initial_graphix_executions = [\n",
    "    'e6cd282c-7da9-4875-9542-698b6538395e',\n",
    "    '2316e26c-050f-45f0-b777-411ef291837e',\n",
    "    'bf9db62c-8a95-4e22-9c2f-a147d6353c4f',\n",
    "    'dc0e21b9-f598-4c01-befb-c1ef227f7feb',\n",
    "    'b6444e6e-4523-40eb-aa30-946303b2d0d5',\n",
    "    'a1ff52f1-557b-45e1-8d2b-f3b60d614a81'\n",
    "]\n",
    "execution_disjuncts = list(\n",
    "    f'R.executionID = \"{e}\" AND '\n",
    "    f'R.queryFile NOT LIKE \"bi-18%.sqlpp\" AND '\n",
    "    f'R.queryFile NOT LIKE \"bi-7%.sqlpp\" AND '\n",
    "    f'R.queryFile NOT LIKE \"bi-5.sqlpp\"'\n",
    "    for e in initial_graphix_executions\n",
    ")\n",
    "\n",
    "# Now, our next Neo4J runs...\n",
    "neo4j_executions = [\n",
    "    '23750fbb-5cb6-407b-b503-a0e78b50d2ce',\n",
    "    '1dcc51cd-d3cf-4802-8318-f7850f196e1f',\n",
    "    'ba8fa58f-397d-4e59-ade6-935deff05e22'\n",
    "]\n",
    "execution_disjuncts += list(\n",
    "    f'R.executionID = \"{e}\"'\n",
    "    for e in neo4j_executions\n",
    ")\n",
    "\n",
    "# Now, our followup Graphix runs...\n",
    "followup_graphix_executions = [\n",
    "    '8fdd2cb7-6c75-4180-b1e0-4efb3185a88c',\n",
    "    'ce693dd4-f8d3-4960-89f1-b5dd0ed5021a',\n",
    "    'cb4aafdf-2ec8-41b9-b98b-1ff0a975f747',\n",
    "    '0a326ea1-03ff-41c0-b3ea-eb51e9393bda',\n",
    "    '529ef238-8af4-437a-b83e-a099ac37c359',\n",
    "    '2f531ec4-f8c7-4a2f-aa90-5e7ceb2e59f6'\n",
    "]\n",
    "execution_disjuncts += list(\n",
    "    f'R.executionID = \"{e}\"'\n",
    "    for e in followup_graphix_executions\n",
    ")\n",
    "execution_disjuncts"
   ],
   "metadata": {
    "collapsed": false
   }
  },
  {
   "cell_type": "code",
   "execution_count": 78,
   "outputs": [
    {
     "data": {
      "text/plain": "{'requestID': 'f2c35ef1-9f44-4547-9fab-9d98ddd194d6',\n 'plans': {},\n 'status': 'success',\n 'metrics': {'elapsedTime': '1.191393125s',\n  'executionTime': '1.069182625s',\n  'compileTime': '0ns',\n  'resultCount': 0,\n  'resultSize': 0,\n  'processedObjects': 0}}"
     },
     "execution_count": 78,
     "metadata": {},
     "output_type": "execute_result"
    }
   ],
   "source": [
    "import requests\n",
    "import os\n",
    "\n",
    "requests.post('http://localhost:19002/query/service', {\n",
    "    'statement': f\"\"\"\n",
    "        DROP   DATAVERSE SNB.Analysis IF EXISTS;\n",
    "        CREATE DATAVERSE SNB.Analysis;\n",
    "        USE    SNB.Analysis;\n",
    "\n",
    "        CREATE TYPE GenericType AS {{ }};\n",
    "        CREATE EXTERNAL DATASET RawResults (GenericType)\n",
    "        USING  localfs ( (\"path\"=\"localhost://{os.path.abspath('../client/results')}\"),\n",
    "                 (\"expression\"=\"(.)*results.(graphix|neo4j)_([0-9]|T)+.json$\"),\n",
    "                 (\"format\"=\"json\") );\n",
    "\n",
    "        CREATE VIEW ProcessedResults AS\n",
    "            SELECT R.*,\n",
    "                   queryClass,\n",
    "                   queryVersion,\n",
    "                   clusterSize,\n",
    "                   scaleFactor,\n",
    "                   system,\n",
    "                   CASE WHEN IS_STRING(R.results)\n",
    "                        THEN GREATEST(LEN(SPLIT(R.results, \"{{\")) - 1, 0)\n",
    "                        ELSE LEN(R.results)\n",
    "                        END AS resultCount,\n",
    "                   ROW_NUMBER() OVER (PARTITION BY scaleFactor, queryClass, queryVersion, system, clusterSize\n",
    "                                      ORDER BY     R.logTime) AS rowNumber\n",
    "            FROM   SNB.Analysis.RawResults R\n",
    "            LET    queryClass   = SPLIT(SPLIT(R.queryFile, \".\")[0], \"-v\")[0],\n",
    "                   queryVersion = SPLIT(SPLIT(R.queryFile, \".\")[0], \"-v\")[1],\n",
    "                   sfString     = SPLIT(SPLIT(R.config.parametersDir, \"/mnt/efs/fs1/sf-\")[1], \"/parameters\")[0],\n",
    "                   scaleFactor  = CASE sfString\n",
    "                                       WHEN \"0p3\"\n",
    "                                       THEN \"0.3\"\n",
    "                                       ELSE sfString\n",
    "                                       END,\n",
    "                   clusterSize  = CASE R.clientClass\n",
    "                                  WHEN \"Neo4jBenchmarkClient\"\n",
    "                                  THEN NULL\n",
    "                                  ELSE LTRIM(SUBSTR(R.config.notes, POSITION(R.config.notes, \"-node cluster\") - 2, 2))\n",
    "                                  END,\n",
    "                   system       = CASE R.clientClass\n",
    "                                       WHEN \"Neo4jBenchmarkClient\"\n",
    "                                       THEN \"Neo4J\"\n",
    "                                       ELSE RTRIM(R.clientClass, \"BenchmarkClient\")\n",
    "                                       END\n",
    "            WHERE  ( {' OR '.join(\"(\" + e + \")\" for e in execution_disjuncts)} ) AND\n",
    "                   ( EVERY p IN [queryClass, scaleFactor, system] SATISFIES p IS NOT UNKNOWN END );\n",
    "\n",
    "        CREATE VIEW Statistics AS\n",
    "            SELECT   R.queryClass,\n",
    "                     R.queryVersion,\n",
    "                     R.scaleFactor,\n",
    "                     R.system,\n",
    "                     R.clusterSize,\n",
    "                     ( SELECT DISTINCT g.R.config.notes,\n",
    "                                       g.R.executionID\n",
    "                       FROM   g ) AS notes,\n",
    "                     ( SELECT VALUE g.R.clientTime\n",
    "                       FROM   g ) AS allTimes,\n",
    "                     STDDEV_POP(R.clientTime) AS spreadTime,\n",
    "                     MAX(R.clientTime) AS maxTime,\n",
    "                     MIN(R.clientTime) AS minTime,\n",
    "                     AVG(R.clientTime) AS avgTime,\n",
    "                     COUNT(*) AS numPoints\n",
    "            FROM     SNB.Analysis.ProcessedResults R\n",
    "            WHERE    R.rowNumber > 3\n",
    "            GROUP BY R.scaleFactor,\n",
    "                     R.queryClass,\n",
    "                     R.queryVersion,\n",
    "                     R.system,\n",
    "                     R.clusterSize\n",
    "            GROUP AS g;\n",
    "    \"\"\"\n",
    "}).json()"
   ],
   "metadata": {
    "collapsed": false
   }
  },
  {
   "cell_type": "code",
   "execution_count": null,
   "metadata": {
    "pycharm": {
     "is_executing": true
    }
   },
   "outputs": [],
   "source": [
    "import plotly.offline\n",
    "\n",
    "plotly.offline.init_notebook_mode()"
   ]
  },
  {
   "cell_type": "code",
   "execution_count": 73,
   "metadata": {},
   "outputs": [
    {
     "data": {
      "application/vnd.plotly.v1+json": {
       "data": [
        {
         "alignmentgroup": "Graphix",
         "customdata": [
          [
           39.67367575679438,
           2527.6028459209483,
           2416.216672716895,
           "2416.217<br>2446.613<br>2481.908<br>2522.995<br>2484.15<br>2527.603<br>2524.443"
          ]
         ],
         "hovertemplate": "<b>Average:</b> %{y} +/-%{customdata[0]:.3f}<br><b>Maximum:</b> %{customdata[1]:.3f}<br><b>Minimum:</b> %{customdata[2]:.3f}<br><b>Using:</b><br>%{customdata[3]}",
         "marker": {
          "color": "#1F77B4"
         },
         "name": "Graphix",
         "textposition": "outside",
         "texttemplate": "%{y:.3r}",
         "visible": true,
         "x": [
          "300"
         ],
         "y": [
          2486.275514425244
         ],
         "type": "bar"
        },
        {
         "alignmentgroup": "Neo4J",
         "customdata": [
          [
           137.8974001344305,
           10512.639680352993,
           10097.81595580792,
           "10170.014<br>10380.542<br>10412.561<br>10156.53<br>10097.816<br>10386.476<br>10206.936<br>10423.374<br>10512.64<br>10405.142<br>..."
          ]
         ],
         "hovertemplate": "<b>Average:</b> %{y} +/-%{customdata[0]:.3f}<br><b>Maximum:</b> %{customdata[1]:.3f}<br><b>Minimum:</b> %{customdata[2]:.3f}<br><b>Using:</b><br>%{customdata[3]}",
         "marker": {
          "color": "#FF7F0E"
         },
         "name": "Neo4J",
         "textposition": "outside",
         "texttemplate": "%{y:.3r}",
         "visible": true,
         "x": [
          "300"
         ],
         "y": [
          10330.676810829435
         ],
         "type": "bar"
        },
        {
         "alignmentgroup": "Graphix",
         "customdata": [
          [
           433.81680018735176,
           3600.0372043999378,
           2029.0853691000957,
           "2031.066<br>2138.197<br>2029.085<br>2117.454<br>2114.544<br>2100.791<br>2084.116<br>2127.245<br>2106.615<br>2107.107<br>..."
          ]
         ],
         "hovertemplate": "<b>Average:</b> %{y} +/-%{customdata[0]:.3f}<br><b>Maximum:</b> %{customdata[1]:.3f}<br><b>Minimum:</b> %{customdata[2]:.3f}<br><b>Using:</b><br>%{customdata[3]}",
         "marker": {
          "color": "#1F77B4"
         },
         "name": "Graphix",
         "textposition": "outside",
         "texttemplate": "%{y:.3r}",
         "visible": false,
         "x": [
          "300"
         ],
         "y": [
          2232.387118475427
         ],
         "type": "bar"
        },
        {
         "alignmentgroup": "Neo4J",
         "customdata": [
          [
           6625.038861601077,
           18000.05456252722,
           468.57081070682034,
           "632.394<br>10800.018<br>468.571<br>2992.84<br>2136.129<br>13991.149<br>18000.055"
          ]
         ],
         "hovertemplate": "<b>Average:</b> %{y} +/-%{customdata[0]:.3f}<br><b>Maximum:</b> %{customdata[1]:.3f}<br><b>Minimum:</b> %{customdata[2]:.3f}<br><b>Using:</b><br>%{customdata[3]}",
         "marker": {
          "color": "#FF7F0E"
         },
         "name": "Neo4J",
         "textposition": "outside",
         "texttemplate": "%{y:.3r}",
         "visible": false,
         "x": [
          "300"
         ],
         "y": [
          7003.022285007805
         ],
         "type": "bar"
        },
        {
         "alignmentgroup": "Graphix",
         "customdata": [],
         "hovertemplate": "<b>Average:</b> %{y} +/-%{customdata[0]:.3f}<br><b>Maximum:</b> %{customdata[1]:.3f}<br><b>Minimum:</b> %{customdata[2]:.3f}<br><b>Using:</b><br>%{customdata[3]}",
         "marker": {
          "color": "#1F77B4"
         },
         "name": "Graphix",
         "textposition": "outside",
         "texttemplate": "%{y:.3r}",
         "visible": false,
         "x": [],
         "y": [],
         "type": "bar"
        },
        {
         "alignmentgroup": "Neo4J",
         "customdata": [
          [
           26.395894447196326,
           275.7466123509221,
           189.2676380299963,
           "275.365<br>259.109<br>219.802<br>251.47<br>239.455<br>191.242<br>235.689<br>229.708<br>275.747<br>246.343<br>..."
          ]
         ],
         "hovertemplate": "<b>Average:</b> %{y} +/-%{customdata[0]:.3f}<br><b>Maximum:</b> %{customdata[1]:.3f}<br><b>Minimum:</b> %{customdata[2]:.3f}<br><b>Using:</b><br>%{customdata[3]}",
         "marker": {
          "color": "#FF7F0E"
         },
         "name": "Neo4J",
         "textposition": "outside",
         "texttemplate": "%{y:.3r}",
         "visible": false,
         "x": [
          "300"
         ],
         "y": [
          229.84836674532724
         ],
         "type": "bar"
        },
        {
         "alignmentgroup": "Graphix",
         "customdata": [],
         "hovertemplate": "<b>Average:</b> %{y} +/-%{customdata[0]:.3f}<br><b>Maximum:</b> %{customdata[1]:.3f}<br><b>Minimum:</b> %{customdata[2]:.3f}<br><b>Using:</b><br>%{customdata[3]}",
         "marker": {
          "color": "#1F77B4"
         },
         "name": "Graphix",
         "textposition": "outside",
         "texttemplate": "%{y:.3r}",
         "visible": false,
         "x": [],
         "y": [],
         "type": "bar"
        },
        {
         "alignmentgroup": "Neo4J",
         "customdata": [
          [
           160.67864833683845,
           2171.713913653046,
           1702.4040965910535,
           "1779.586<br>1761.181<br>1892.676<br>1782.017<br>2171.714<br>1702.404<br>2053.677"
          ]
         ],
         "hovertemplate": "<b>Average:</b> %{y} +/-%{customdata[0]:.3f}<br><b>Maximum:</b> %{customdata[1]:.3f}<br><b>Minimum:</b> %{customdata[2]:.3f}<br><b>Using:</b><br>%{customdata[3]}",
         "marker": {
          "color": "#FF7F0E"
         },
         "name": "Neo4J",
         "textposition": "outside",
         "texttemplate": "%{y:.3r}",
         "visible": false,
         "x": [
          "300"
         ],
         "y": [
          1877.607759527862
         ],
         "type": "bar"
        },
        {
         "alignmentgroup": "Graphix",
         "customdata": [
          [
           49.615252566111415,
           1888.656876476016,
           1728.660190679133,
           "1739.913<br>1888.657<br>1728.66<br>1787.908<br>1880.993<br>1731.898<br>1851.592<br>1822.668<br>1779.999<br>1814.803<br>..."
          ]
         ],
         "hovertemplate": "<b>Average:</b> %{y} +/-%{customdata[0]:.3f}<br><b>Maximum:</b> %{customdata[1]:.3f}<br><b>Minimum:</b> %{customdata[2]:.3f}<br><b>Using:</b><br>%{customdata[3]}",
         "marker": {
          "color": "#1F77B4"
         },
         "name": "Graphix",
         "textposition": "outside",
         "texttemplate": "%{y:.3r}",
         "visible": false,
         "x": [
          "300"
         ],
         "y": [
          1813.3981360503992
         ],
         "type": "bar"
        },
        {
         "alignmentgroup": "Neo4J",
         "customdata": [],
         "hovertemplate": "<b>Average:</b> %{y} +/-%{customdata[0]:.3f}<br><b>Maximum:</b> %{customdata[1]:.3f}<br><b>Minimum:</b> %{customdata[2]:.3f}<br><b>Using:</b><br>%{customdata[3]}",
         "marker": {
          "color": "#FF7F0E"
         },
         "name": "Neo4J",
         "textposition": "outside",
         "texttemplate": "%{y:.3r}",
         "visible": false,
         "x": [],
         "y": [],
         "type": "bar"
        },
        {
         "alignmentgroup": "Graphix",
         "customdata": [
          [
           2.255501285517579,
           213.03919890592806,
           205.21048436593264,
           "210.625<br>209.945<br>210.395<br>205.21<br>213.039<br>208.271<br>208.528"
          ]
         ],
         "hovertemplate": "<b>Average:</b> %{y} +/-%{customdata[0]:.3f}<br><b>Maximum:</b> %{customdata[1]:.3f}<br><b>Minimum:</b> %{customdata[2]:.3f}<br><b>Using:</b><br>%{customdata[3]}",
         "marker": {
          "color": "#1F77B4"
         },
         "name": "Graphix",
         "textposition": "outside",
         "texttemplate": "%{y:.3r}",
         "visible": false,
         "x": [
          "300"
         ],
         "y": [
          209.430376210383
         ],
         "type": "bar"
        },
        {
         "alignmentgroup": "Neo4J",
         "customdata": [],
         "hovertemplate": "<b>Average:</b> %{y} +/-%{customdata[0]:.3f}<br><b>Maximum:</b> %{customdata[1]:.3f}<br><b>Minimum:</b> %{customdata[2]:.3f}<br><b>Using:</b><br>%{customdata[3]}",
         "marker": {
          "color": "#FF7F0E"
         },
         "name": "Neo4J",
         "textposition": "outside",
         "texttemplate": "%{y:.3r}",
         "visible": false,
         "x": [],
         "y": [],
         "type": "bar"
        },
        {
         "alignmentgroup": "Graphix",
         "customdata": [],
         "hovertemplate": "<b>Average:</b> %{y} +/-%{customdata[0]:.3f}<br><b>Maximum:</b> %{customdata[1]:.3f}<br><b>Minimum:</b> %{customdata[2]:.3f}<br><b>Using:</b><br>%{customdata[3]}",
         "marker": {
          "color": "#1F77B4"
         },
         "name": "Graphix",
         "textposition": "outside",
         "texttemplate": "%{y:.3r}",
         "visible": false,
         "x": [],
         "y": [],
         "type": "bar"
        },
        {
         "alignmentgroup": "Neo4J",
         "customdata": [],
         "hovertemplate": "<b>Average:</b> %{y} +/-%{customdata[0]:.3f}<br><b>Maximum:</b> %{customdata[1]:.3f}<br><b>Minimum:</b> %{customdata[2]:.3f}<br><b>Using:</b><br>%{customdata[3]}",
         "marker": {
          "color": "#FF7F0E"
         },
         "name": "Neo4J",
         "textposition": "outside",
         "texttemplate": "%{y:.3r}",
         "visible": false,
         "x": [],
         "y": [],
         "type": "bar"
        },
        {
         "alignmentgroup": "Graphix",
         "customdata": [],
         "hovertemplate": "<b>Average:</b> %{y} +/-%{customdata[0]:.3f}<br><b>Maximum:</b> %{customdata[1]:.3f}<br><b>Minimum:</b> %{customdata[2]:.3f}<br><b>Using:</b><br>%{customdata[3]}",
         "marker": {
          "color": "#1F77B4"
         },
         "name": "Graphix",
         "textposition": "outside",
         "texttemplate": "%{y:.3r}",
         "visible": false,
         "x": [],
         "y": [],
         "type": "bar"
        },
        {
         "alignmentgroup": "Neo4J",
         "customdata": [
          [
           34.450377327213054,
           567.9467015430564,
           492.47661781299394,
           "562.906<br>492.477<br>567.947"
          ]
         ],
         "hovertemplate": "<b>Average:</b> %{y} +/-%{customdata[0]:.3f}<br><b>Maximum:</b> %{customdata[1]:.3f}<br><b>Minimum:</b> %{customdata[2]:.3f}<br><b>Using:</b><br>%{customdata[3]}",
         "marker": {
          "color": "#FF7F0E"
         },
         "name": "Neo4J",
         "textposition": "outside",
         "texttemplate": "%{y:.3r}",
         "visible": false,
         "x": [
          "300"
         ],
         "y": [
          541.1098149106838
         ],
         "type": "bar"
        },
        {
         "alignmentgroup": "Graphix",
         "customdata": [
          [
           26.738236148535528,
           92.80499579408206,
           0.08058743388392031,
           "71.436<br>71.614<br>92.805<br>8.007<br>64.562<br>40.097<br>75.146<br>50.561<br>77.409<br>72.107<br>..."
          ]
         ],
         "hovertemplate": "<b>Average:</b> %{y} +/-%{customdata[0]:.3f}<br><b>Maximum:</b> %{customdata[1]:.3f}<br><b>Minimum:</b> %{customdata[2]:.3f}<br><b>Using:</b><br>%{customdata[3]}",
         "marker": {
          "color": "#1F77B4"
         },
         "name": "Graphix",
         "textposition": "outside",
         "texttemplate": "%{y:.3r}",
         "visible": false,
         "x": [
          "300"
         ],
         "y": [
          51.445095558274296
         ],
         "type": "bar"
        },
        {
         "alignmentgroup": "Neo4J",
         "customdata": [
          [
           50.16049955081756,
           179.19123562902678,
           0.030682043987326324,
           "151.941<br>154.157<br>110.516<br>172.345<br>53.987<br>105.279<br>33.439<br>179.191<br>96.738<br>78.6<br>..."
          ]
         ],
         "hovertemplate": "<b>Average:</b> %{y} +/-%{customdata[0]:.3f}<br><b>Maximum:</b> %{customdata[1]:.3f}<br><b>Minimum:</b> %{customdata[2]:.3f}<br><b>Using:</b><br>%{customdata[3]}",
         "marker": {
          "color": "#FF7F0E"
         },
         "name": "Neo4J",
         "textposition": "outside",
         "texttemplate": "%{y:.3r}",
         "visible": false,
         "x": [
          "300"
         ],
         "y": [
          101.44813941267785
         ],
         "type": "bar"
        },
        {
         "alignmentgroup": "Graphix",
         "customdata": [
          [
           27.395334513850788,
           96.9663975990843,
           0.21077739307656884,
           "46.089<br>54.43<br>47.472<br>65.62<br>0.335<br>47.523<br>19.049<br>62.81<br>61.899<br>63.863<br>..."
          ]
         ],
         "hovertemplate": "<b>Average:</b> %{y} +/-%{customdata[0]:.3f}<br><b>Maximum:</b> %{customdata[1]:.3f}<br><b>Minimum:</b> %{customdata[2]:.3f}<br><b>Using:</b><br>%{customdata[3]}",
         "marker": {
          "color": "#1F77B4"
         },
         "name": "Graphix",
         "textposition": "outside",
         "texttemplate": "%{y:.3r}",
         "visible": false,
         "x": [
          "300"
         ],
         "y": [
          44.078243732482115
         ],
         "type": "bar"
        },
        {
         "alignmentgroup": "Neo4J",
         "customdata": [
          [
           31.20621498255618,
           112.81136230600532,
           0.037176818936131895,
           "35.187<br>68.108<br>51.692<br>74.574<br>55.009<br>0.053<br>5.716<br>41.965<br>33.399<br>74.94<br>..."
          ]
         ],
         "hovertemplate": "<b>Average:</b> %{y} +/-%{customdata[0]:.3f}<br><b>Maximum:</b> %{customdata[1]:.3f}<br><b>Minimum:</b> %{customdata[2]:.3f}<br><b>Using:</b><br>%{customdata[3]}",
         "marker": {
          "color": "#FF7F0E"
         },
         "name": "Neo4J",
         "textposition": "outside",
         "texttemplate": "%{y:.3r}",
         "visible": false,
         "x": [
          "300"
         ],
         "y": [
          41.26449846264292
         ],
         "type": "bar"
        },
        {
         "alignmentgroup": "Graphix",
         "customdata": [
          [
           1.9856605378284167,
           9.674280396895483,
           0.18087760382331908,
           "3.43<br>2.985<br>5.049<br>9.674<br>4.006<br>1.908<br>5.239<br>2.421<br>1.696<br>0.5<br>..."
          ]
         ],
         "hovertemplate": "<b>Average:</b> %{y} +/-%{customdata[0]:.3f}<br><b>Maximum:</b> %{customdata[1]:.3f}<br><b>Minimum:</b> %{customdata[2]:.3f}<br><b>Using:</b><br>%{customdata[3]}",
         "marker": {
          "color": "#1F77B4"
         },
         "name": "Graphix",
         "textposition": "outside",
         "texttemplate": "%{y:.3r}",
         "visible": false,
         "x": [
          "300"
         ],
         "y": [
          2.5094033171363335
         ],
         "type": "bar"
        },
        {
         "alignmentgroup": "Neo4J",
         "customdata": [
          [
           0.4604699154878552,
           1.835506460047327,
           0.03939656505826861,
           "0.845<br>0.62<br>0.753<br>0.868<br>1.231<br>1.307<br>0.095<br>1.224<br>0.662<br>1.453<br>..."
          ]
         ],
         "hovertemplate": "<b>Average:</b> %{y} +/-%{customdata[0]:.3f}<br><b>Maximum:</b> %{customdata[1]:.3f}<br><b>Minimum:</b> %{customdata[2]:.3f}<br><b>Using:</b><br>%{customdata[3]}",
         "marker": {
          "color": "#FF7F0E"
         },
         "name": "Neo4J",
         "textposition": "outside",
         "texttemplate": "%{y:.3r}",
         "visible": false,
         "x": [
          "300"
         ],
         "y": [
          0.8596987715907435
         ],
         "type": "bar"
        },
        {
         "alignmentgroup": "Graphix",
         "customdata": [
          [
           1.0245801663881573,
           5.318331117043272,
           0.13206508988514543,
           "2.963<br>2.882<br>2.724<br>0.773<br>1.573<br>0.497<br>0.393<br>0.706<br>1.588<br>0.242<br>..."
          ]
         ],
         "hovertemplate": "<b>Average:</b> %{y} +/-%{customdata[0]:.3f}<br><b>Maximum:</b> %{customdata[1]:.3f}<br><b>Minimum:</b> %{customdata[2]:.3f}<br><b>Using:</b><br>%{customdata[3]}",
         "marker": {
          "color": "#1F77B4"
         },
         "name": "Graphix",
         "textposition": "outside",
         "texttemplate": "%{y:.3r}",
         "visible": false,
         "x": [
          "300"
         ],
         "y": [
          1.163901081734753
         ],
         "type": "bar"
        },
        {
         "alignmentgroup": "Neo4J",
         "customdata": [
          [
           0.3103265244271608,
           1.5139015390304849,
           0.022576702060177922,
           "0.381<br>0.588<br>0.65<br>0.027<br>1.037<br>0.449<br>0.911<br>0.572<br>0.023<br>0.82<br>..."
          ]
         ],
         "hovertemplate": "<b>Average:</b> %{y} +/-%{customdata[0]:.3f}<br><b>Maximum:</b> %{customdata[1]:.3f}<br><b>Minimum:</b> %{customdata[2]:.3f}<br><b>Using:</b><br>%{customdata[3]}",
         "marker": {
          "color": "#FF7F0E"
         },
         "name": "Neo4J",
         "textposition": "outside",
         "texttemplate": "%{y:.3r}",
         "visible": false,
         "x": [
          "300"
         ],
         "y": [
          0.6366492685108901
         ],
         "type": "bar"
        },
        {
         "alignmentgroup": "Graphix",
         "customdata": [
          [
           0.33109715558210234,
           1.4414395468775183,
           0.056383271934464574,
           "0.073<br>1.411<br>0.108<br>0.091<br>0.08<br>0.079<br>1.441<br>0.146<br>0.109<br>0.16<br>..."
          ]
         ],
         "hovertemplate": "<b>Average:</b> %{y} +/-%{customdata[0]:.3f}<br><b>Maximum:</b> %{customdata[1]:.3f}<br><b>Minimum:</b> %{customdata[2]:.3f}<br><b>Using:</b><br>%{customdata[3]}",
         "marker": {
          "color": "#1F77B4"
         },
         "name": "Graphix",
         "textposition": "outside",
         "texttemplate": "%{y:.3r}",
         "visible": false,
         "x": [
          "300"
         ],
         "y": [
          0.15903092598780355
         ],
         "type": "bar"
        },
        {
         "alignmentgroup": "Neo4J",
         "customdata": [
          [
           0.006450908156171672,
           0.03690741502214223,
           0.01324474299326539,
           "0.036<br>0.02<br>0.032<br>0.035<br>0.037<br>0.034<br>0.032<br>0.03<br>0.03<br>0.018<br>..."
          ]
         ],
         "hovertemplate": "<b>Average:</b> %{y} +/-%{customdata[0]:.3f}<br><b>Maximum:</b> %{customdata[1]:.3f}<br><b>Minimum:</b> %{customdata[2]:.3f}<br><b>Using:</b><br>%{customdata[3]}",
         "marker": {
          "color": "#FF7F0E"
         },
         "name": "Neo4J",
         "textposition": "outside",
         "texttemplate": "%{y:.3r}",
         "visible": false,
         "x": [
          "300"
         ],
         "y": [
          0.026403239678016843
         ],
         "type": "bar"
        },
        {
         "alignmentgroup": "Graphix",
         "customdata": [
          [
           0.23016708811728553,
           1.66966481693089,
           0.06179100996814668,
           "0.102<br>0.158<br>0.195<br>0.095<br>1.67<br>0.104<br>0.105<br>0.082<br>0.165<br>0.106<br>..."
          ]
         ],
         "hovertemplate": "<b>Average:</b> %{y} +/-%{customdata[0]:.3f}<br><b>Maximum:</b> %{customdata[1]:.3f}<br><b>Minimum:</b> %{customdata[2]:.3f}<br><b>Using:</b><br>%{customdata[3]}",
         "marker": {
          "color": "#1F77B4"
         },
         "name": "Graphix",
         "textposition": "outside",
         "texttemplate": "%{y:.3r}",
         "visible": false,
         "x": [
          "300"
         ],
         "y": [
          0.1395545417908579
         ],
         "type": "bar"
        },
        {
         "alignmentgroup": "Neo4J",
         "customdata": [
          [
           28.79052007775429,
           180.0298429519171,
           0.01362238998990506,
           "0.043<br>0.25<br>0.11<br>0.083<br>0.072<br>0.808<br>0.032<br>0.095<br>0.324<br>0.118<br>..."
          ]
         ],
         "hovertemplate": "<b>Average:</b> %{y} +/-%{customdata[0]:.3f}<br><b>Maximum:</b> %{customdata[1]:.3f}<br><b>Minimum:</b> %{customdata[2]:.3f}<br><b>Using:</b><br>%{customdata[3]}",
         "marker": {
          "color": "#FF7F0E"
         },
         "name": "Neo4J",
         "textposition": "outside",
         "texttemplate": "%{y:.3r}",
         "visible": false,
         "x": [
          "300"
         ],
         "y": [
          4.907451367679689
         ],
         "type": "bar"
        },
        {
         "alignmentgroup": "Graphix",
         "customdata": [
          [
           0.01741188024627952,
           0.16255162796005607,
           0.04345494392327964,
           "0.063<br>0.085<br>0.056<br>0.163<br>0.078<br>0.06<br>0.055<br>0.054<br>0.056<br>0.051<br>..."
          ]
         ],
         "hovertemplate": "<b>Average:</b> %{y} +/-%{customdata[0]:.3f}<br><b>Maximum:</b> %{customdata[1]:.3f}<br><b>Minimum:</b> %{customdata[2]:.3f}<br><b>Using:</b><br>%{customdata[3]}",
         "marker": {
          "color": "#1F77B4"
         },
         "name": "Graphix",
         "textposition": "outside",
         "texttemplate": "%{y:.3r}",
         "visible": false,
         "x": [
          "300"
         ],
         "y": [
          0.05592060050966733
         ],
         "type": "bar"
        },
        {
         "alignmentgroup": "Neo4J",
         "customdata": [
          [
           0.005402816875406186,
           0.035457395017147064,
           0.013204465038143098,
           "0.027<br>0.03<br>0.027<br>0.027<br>0.03<br>0.028<br>0.028<br>0.026<br>0.025<br>0.03<br>..."
          ]
         ],
         "hovertemplate": "<b>Average:</b> %{y} +/-%{customdata[0]:.3f}<br><b>Maximum:</b> %{customdata[1]:.3f}<br><b>Minimum:</b> %{customdata[2]:.3f}<br><b>Using:</b><br>%{customdata[3]}",
         "marker": {
          "color": "#FF7F0E"
         },
         "name": "Neo4J",
         "textposition": "outside",
         "texttemplate": "%{y:.3r}",
         "visible": false,
         "x": [
          "300"
         ],
         "y": [
          0.024790378146250038
         ],
         "type": "bar"
        },
        {
         "alignmentgroup": "Graphix",
         "customdata": [
          [
           0.018364990217865532,
           0.1528341518715024,
           0.05095229996368289,
           "0.09<br>0.078<br>0.153<br>0.092<br>0.071<br>0.072<br>0.119<br>0.088<br>0.088<br>0.071<br>..."
          ]
         ],
         "hovertemplate": "<b>Average:</b> %{y} +/-%{customdata[0]:.3f}<br><b>Maximum:</b> %{customdata[1]:.3f}<br><b>Minimum:</b> %{customdata[2]:.3f}<br><b>Using:</b><br>%{customdata[3]}",
         "marker": {
          "color": "#1F77B4"
         },
         "name": "Graphix",
         "textposition": "outside",
         "texttemplate": "%{y:.3r}",
         "visible": false,
         "x": [
          "300"
         ],
         "y": [
          0.06613080214927013
         ],
         "type": "bar"
        },
        {
         "alignmentgroup": "Neo4J",
         "customdata": [
          [
           0.007306247231361599,
           0.04683696699794382,
           0.013490434037521482,
           "0.04<br>0.031<br>0.03<br>0.03<br>0.031<br>0.04<br>0.02<br>0.036<br>0.018<br>0.014<br>..."
          ]
         ],
         "hovertemplate": "<b>Average:</b> %{y} +/-%{customdata[0]:.3f}<br><b>Maximum:</b> %{customdata[1]:.3f}<br><b>Minimum:</b> %{customdata[2]:.3f}<br><b>Using:</b><br>%{customdata[3]}",
         "marker": {
          "color": "#FF7F0E"
         },
         "name": "Neo4J",
         "textposition": "outside",
         "texttemplate": "%{y:.3r}",
         "visible": false,
         "x": [
          "300"
         ],
         "y": [
          0.025874005833719956
         ],
         "type": "bar"
        },
        {
         "alignmentgroup": "Graphix",
         "customdata": [
          [
           0.2729928234228184,
           1.9611306770239025,
           0.11440377100370824,
           "0.347<br>1.961<br>0.193<br>0.194<br>0.614<br>0.141<br>0.142<br>0.145<br>0.131<br>0.131<br>..."
          ]
         ],
         "hovertemplate": "<b>Average:</b> %{y} +/-%{customdata[0]:.3f}<br><b>Maximum:</b> %{customdata[1]:.3f}<br><b>Minimum:</b> %{customdata[2]:.3f}<br><b>Using:</b><br>%{customdata[3]}",
         "marker": {
          "color": "#1F77B4"
         },
         "name": "Graphix",
         "textposition": "outside",
         "texttemplate": "%{y:.3r}",
         "visible": false,
         "x": [
          "300"
         ],
         "y": [
          0.18591154976054391
         ],
         "type": "bar"
        },
        {
         "alignmentgroup": "Neo4J",
         "customdata": [
          [
           0.039364346816695255,
           0.23556741292122751,
           0.012193370028398931,
           "0.101<br>0.133<br>0.059<br>0.039<br>0.034<br>0.04<br>0.039<br>0.119<br>0.037<br>0.035<br>..."
          ]
         ],
         "hovertemplate": "<b>Average:</b> %{y} +/-%{customdata[0]:.3f}<br><b>Maximum:</b> %{customdata[1]:.3f}<br><b>Minimum:</b> %{customdata[2]:.3f}<br><b>Using:</b><br>%{customdata[3]}",
         "marker": {
          "color": "#FF7F0E"
         },
         "name": "Neo4J",
         "textposition": "outside",
         "texttemplate": "%{y:.3r}",
         "visible": false,
         "x": [
          "300"
         ],
         "y": [
          0.044444916616293025
         ],
         "type": "bar"
        }
       ],
       "layout": {
        "template": {
         "data": {
          "histogram2dcontour": [
           {
            "type": "histogram2dcontour",
            "colorbar": {
             "outlinewidth": 0,
             "ticks": ""
            },
            "colorscale": [
             [
              0.0,
              "#0d0887"
             ],
             [
              0.1111111111111111,
              "#46039f"
             ],
             [
              0.2222222222222222,
              "#7201a8"
             ],
             [
              0.3333333333333333,
              "#9c179e"
             ],
             [
              0.4444444444444444,
              "#bd3786"
             ],
             [
              0.5555555555555556,
              "#d8576b"
             ],
             [
              0.6666666666666666,
              "#ed7953"
             ],
             [
              0.7777777777777778,
              "#fb9f3a"
             ],
             [
              0.8888888888888888,
              "#fdca26"
             ],
             [
              1.0,
              "#f0f921"
             ]
            ]
           }
          ],
          "choropleth": [
           {
            "type": "choropleth",
            "colorbar": {
             "outlinewidth": 0,
             "ticks": ""
            }
           }
          ],
          "histogram2d": [
           {
            "type": "histogram2d",
            "colorbar": {
             "outlinewidth": 0,
             "ticks": ""
            },
            "colorscale": [
             [
              0.0,
              "#0d0887"
             ],
             [
              0.1111111111111111,
              "#46039f"
             ],
             [
              0.2222222222222222,
              "#7201a8"
             ],
             [
              0.3333333333333333,
              "#9c179e"
             ],
             [
              0.4444444444444444,
              "#bd3786"
             ],
             [
              0.5555555555555556,
              "#d8576b"
             ],
             [
              0.6666666666666666,
              "#ed7953"
             ],
             [
              0.7777777777777778,
              "#fb9f3a"
             ],
             [
              0.8888888888888888,
              "#fdca26"
             ],
             [
              1.0,
              "#f0f921"
             ]
            ]
           }
          ],
          "heatmap": [
           {
            "type": "heatmap",
            "colorbar": {
             "outlinewidth": 0,
             "ticks": ""
            },
            "colorscale": [
             [
              0.0,
              "#0d0887"
             ],
             [
              0.1111111111111111,
              "#46039f"
             ],
             [
              0.2222222222222222,
              "#7201a8"
             ],
             [
              0.3333333333333333,
              "#9c179e"
             ],
             [
              0.4444444444444444,
              "#bd3786"
             ],
             [
              0.5555555555555556,
              "#d8576b"
             ],
             [
              0.6666666666666666,
              "#ed7953"
             ],
             [
              0.7777777777777778,
              "#fb9f3a"
             ],
             [
              0.8888888888888888,
              "#fdca26"
             ],
             [
              1.0,
              "#f0f921"
             ]
            ]
           }
          ],
          "heatmapgl": [
           {
            "type": "heatmapgl",
            "colorbar": {
             "outlinewidth": 0,
             "ticks": ""
            },
            "colorscale": [
             [
              0.0,
              "#0d0887"
             ],
             [
              0.1111111111111111,
              "#46039f"
             ],
             [
              0.2222222222222222,
              "#7201a8"
             ],
             [
              0.3333333333333333,
              "#9c179e"
             ],
             [
              0.4444444444444444,
              "#bd3786"
             ],
             [
              0.5555555555555556,
              "#d8576b"
             ],
             [
              0.6666666666666666,
              "#ed7953"
             ],
             [
              0.7777777777777778,
              "#fb9f3a"
             ],
             [
              0.8888888888888888,
              "#fdca26"
             ],
             [
              1.0,
              "#f0f921"
             ]
            ]
           }
          ],
          "contourcarpet": [
           {
            "type": "contourcarpet",
            "colorbar": {
             "outlinewidth": 0,
             "ticks": ""
            }
           }
          ],
          "contour": [
           {
            "type": "contour",
            "colorbar": {
             "outlinewidth": 0,
             "ticks": ""
            },
            "colorscale": [
             [
              0.0,
              "#0d0887"
             ],
             [
              0.1111111111111111,
              "#46039f"
             ],
             [
              0.2222222222222222,
              "#7201a8"
             ],
             [
              0.3333333333333333,
              "#9c179e"
             ],
             [
              0.4444444444444444,
              "#bd3786"
             ],
             [
              0.5555555555555556,
              "#d8576b"
             ],
             [
              0.6666666666666666,
              "#ed7953"
             ],
             [
              0.7777777777777778,
              "#fb9f3a"
             ],
             [
              0.8888888888888888,
              "#fdca26"
             ],
             [
              1.0,
              "#f0f921"
             ]
            ]
           }
          ],
          "surface": [
           {
            "type": "surface",
            "colorbar": {
             "outlinewidth": 0,
             "ticks": ""
            },
            "colorscale": [
             [
              0.0,
              "#0d0887"
             ],
             [
              0.1111111111111111,
              "#46039f"
             ],
             [
              0.2222222222222222,
              "#7201a8"
             ],
             [
              0.3333333333333333,
              "#9c179e"
             ],
             [
              0.4444444444444444,
              "#bd3786"
             ],
             [
              0.5555555555555556,
              "#d8576b"
             ],
             [
              0.6666666666666666,
              "#ed7953"
             ],
             [
              0.7777777777777778,
              "#fb9f3a"
             ],
             [
              0.8888888888888888,
              "#fdca26"
             ],
             [
              1.0,
              "#f0f921"
             ]
            ]
           }
          ],
          "mesh3d": [
           {
            "type": "mesh3d",
            "colorbar": {
             "outlinewidth": 0,
             "ticks": ""
            }
           }
          ],
          "scatter": [
           {
            "fillpattern": {
             "fillmode": "overlay",
             "size": 10,
             "solidity": 0.2
            },
            "type": "scatter"
           }
          ],
          "parcoords": [
           {
            "type": "parcoords",
            "line": {
             "colorbar": {
              "outlinewidth": 0,
              "ticks": ""
             }
            }
           }
          ],
          "scatterpolargl": [
           {
            "type": "scatterpolargl",
            "marker": {
             "colorbar": {
              "outlinewidth": 0,
              "ticks": ""
             }
            }
           }
          ],
          "bar": [
           {
            "error_x": {
             "color": "#2a3f5f"
            },
            "error_y": {
             "color": "#2a3f5f"
            },
            "marker": {
             "line": {
              "color": "#E5ECF6",
              "width": 0.5
             },
             "pattern": {
              "fillmode": "overlay",
              "size": 10,
              "solidity": 0.2
             }
            },
            "type": "bar"
           }
          ],
          "scattergeo": [
           {
            "type": "scattergeo",
            "marker": {
             "colorbar": {
              "outlinewidth": 0,
              "ticks": ""
             }
            }
           }
          ],
          "scatterpolar": [
           {
            "type": "scatterpolar",
            "marker": {
             "colorbar": {
              "outlinewidth": 0,
              "ticks": ""
             }
            }
           }
          ],
          "histogram": [
           {
            "marker": {
             "pattern": {
              "fillmode": "overlay",
              "size": 10,
              "solidity": 0.2
             }
            },
            "type": "histogram"
           }
          ],
          "scattergl": [
           {
            "type": "scattergl",
            "marker": {
             "colorbar": {
              "outlinewidth": 0,
              "ticks": ""
             }
            }
           }
          ],
          "scatter3d": [
           {
            "type": "scatter3d",
            "line": {
             "colorbar": {
              "outlinewidth": 0,
              "ticks": ""
             }
            },
            "marker": {
             "colorbar": {
              "outlinewidth": 0,
              "ticks": ""
             }
            }
           }
          ],
          "scattermapbox": [
           {
            "type": "scattermapbox",
            "marker": {
             "colorbar": {
              "outlinewidth": 0,
              "ticks": ""
             }
            }
           }
          ],
          "scatterternary": [
           {
            "type": "scatterternary",
            "marker": {
             "colorbar": {
              "outlinewidth": 0,
              "ticks": ""
             }
            }
           }
          ],
          "scattercarpet": [
           {
            "type": "scattercarpet",
            "marker": {
             "colorbar": {
              "outlinewidth": 0,
              "ticks": ""
             }
            }
           }
          ],
          "carpet": [
           {
            "aaxis": {
             "endlinecolor": "#2a3f5f",
             "gridcolor": "white",
             "linecolor": "white",
             "minorgridcolor": "white",
             "startlinecolor": "#2a3f5f"
            },
            "baxis": {
             "endlinecolor": "#2a3f5f",
             "gridcolor": "white",
             "linecolor": "white",
             "minorgridcolor": "white",
             "startlinecolor": "#2a3f5f"
            },
            "type": "carpet"
           }
          ],
          "table": [
           {
            "cells": {
             "fill": {
              "color": "#EBF0F8"
             },
             "line": {
              "color": "white"
             }
            },
            "header": {
             "fill": {
              "color": "#C8D4E3"
             },
             "line": {
              "color": "white"
             }
            },
            "type": "table"
           }
          ],
          "barpolar": [
           {
            "marker": {
             "line": {
              "color": "#E5ECF6",
              "width": 0.5
             },
             "pattern": {
              "fillmode": "overlay",
              "size": 10,
              "solidity": 0.2
             }
            },
            "type": "barpolar"
           }
          ],
          "pie": [
           {
            "automargin": true,
            "type": "pie"
           }
          ]
         },
         "layout": {
          "autotypenumbers": "strict",
          "colorway": [
           "#636efa",
           "#EF553B",
           "#00cc96",
           "#ab63fa",
           "#FFA15A",
           "#19d3f3",
           "#FF6692",
           "#B6E880",
           "#FF97FF",
           "#FECB52"
          ],
          "font": {
           "color": "#2a3f5f"
          },
          "hovermode": "closest",
          "hoverlabel": {
           "align": "left"
          },
          "paper_bgcolor": "white",
          "plot_bgcolor": "#E5ECF6",
          "polar": {
           "bgcolor": "#E5ECF6",
           "angularaxis": {
            "gridcolor": "white",
            "linecolor": "white",
            "ticks": ""
           },
           "radialaxis": {
            "gridcolor": "white",
            "linecolor": "white",
            "ticks": ""
           }
          },
          "ternary": {
           "bgcolor": "#E5ECF6",
           "aaxis": {
            "gridcolor": "white",
            "linecolor": "white",
            "ticks": ""
           },
           "baxis": {
            "gridcolor": "white",
            "linecolor": "white",
            "ticks": ""
           },
           "caxis": {
            "gridcolor": "white",
            "linecolor": "white",
            "ticks": ""
           }
          },
          "coloraxis": {
           "colorbar": {
            "outlinewidth": 0,
            "ticks": ""
           }
          },
          "colorscale": {
           "sequential": [
            [
             0.0,
             "#0d0887"
            ],
            [
             0.1111111111111111,
             "#46039f"
            ],
            [
             0.2222222222222222,
             "#7201a8"
            ],
            [
             0.3333333333333333,
             "#9c179e"
            ],
            [
             0.4444444444444444,
             "#bd3786"
            ],
            [
             0.5555555555555556,
             "#d8576b"
            ],
            [
             0.6666666666666666,
             "#ed7953"
            ],
            [
             0.7777777777777778,
             "#fb9f3a"
            ],
            [
             0.8888888888888888,
             "#fdca26"
            ],
            [
             1.0,
             "#f0f921"
            ]
           ],
           "sequentialminus": [
            [
             0.0,
             "#0d0887"
            ],
            [
             0.1111111111111111,
             "#46039f"
            ],
            [
             0.2222222222222222,
             "#7201a8"
            ],
            [
             0.3333333333333333,
             "#9c179e"
            ],
            [
             0.4444444444444444,
             "#bd3786"
            ],
            [
             0.5555555555555556,
             "#d8576b"
            ],
            [
             0.6666666666666666,
             "#ed7953"
            ],
            [
             0.7777777777777778,
             "#fb9f3a"
            ],
            [
             0.8888888888888888,
             "#fdca26"
            ],
            [
             1.0,
             "#f0f921"
            ]
           ],
           "diverging": [
            [
             0,
             "#8e0152"
            ],
            [
             0.1,
             "#c51b7d"
            ],
            [
             0.2,
             "#de77ae"
            ],
            [
             0.3,
             "#f1b6da"
            ],
            [
             0.4,
             "#fde0ef"
            ],
            [
             0.5,
             "#f7f7f7"
            ],
            [
             0.6,
             "#e6f5d0"
            ],
            [
             0.7,
             "#b8e186"
            ],
            [
             0.8,
             "#7fbc41"
            ],
            [
             0.9,
             "#4d9221"
            ],
            [
             1,
             "#276419"
            ]
           ]
          },
          "xaxis": {
           "gridcolor": "white",
           "linecolor": "white",
           "ticks": "",
           "title": {
            "standoff": 15
           },
           "zerolinecolor": "white",
           "automargin": true,
           "zerolinewidth": 2
          },
          "yaxis": {
           "gridcolor": "white",
           "linecolor": "white",
           "ticks": "",
           "title": {
            "standoff": 15
           },
           "zerolinecolor": "white",
           "automargin": true,
           "zerolinewidth": 2
          },
          "scene": {
           "xaxis": {
            "backgroundcolor": "#E5ECF6",
            "gridcolor": "white",
            "linecolor": "white",
            "showbackground": true,
            "ticks": "",
            "zerolinecolor": "white",
            "gridwidth": 2
           },
           "yaxis": {
            "backgroundcolor": "#E5ECF6",
            "gridcolor": "white",
            "linecolor": "white",
            "showbackground": true,
            "ticks": "",
            "zerolinecolor": "white",
            "gridwidth": 2
           },
           "zaxis": {
            "backgroundcolor": "#E5ECF6",
            "gridcolor": "white",
            "linecolor": "white",
            "showbackground": true,
            "ticks": "",
            "zerolinecolor": "white",
            "gridwidth": 2
           }
          },
          "shapedefaults": {
           "line": {
            "color": "#2a3f5f"
           }
          },
          "annotationdefaults": {
           "arrowcolor": "#2a3f5f",
           "arrowhead": 0,
           "arrowwidth": 1
          },
          "geo": {
           "bgcolor": "white",
           "landcolor": "#E5ECF6",
           "subunitcolor": "white",
           "showland": true,
           "showlakes": true,
           "lakecolor": "white"
          },
          "title": {
           "x": 0.05
          },
          "mapbox": {
           "style": "light"
          }
         }
        },
        "title": {
         "font": {
          "size": 24
         },
         "text": "Graphix vs. Neo4J: bi-1",
         "xanchor": "center",
         "yanchor": "top",
         "x": 0.5
        },
        "xaxis": {
         "title": {
          "text": "Scale Factor"
         },
         "type": "category",
         "categoryorder": "array",
         "categoryarray": [
          300.0
         ]
        },
        "yaxis": {
         "title": {
          "text": "Running Time (s)"
         },
         "showspikes": true
        },
        "updatemenus": [
         {
          "active": 0,
          "buttons": [
           {
            "args": [
             {
              "visible": [
               true,
               true,
               false,
               false,
               false,
               false,
               false,
               false,
               false,
               false,
               false,
               false,
               false,
               false,
               false,
               false,
               false,
               false,
               false,
               false,
               false,
               false,
               false,
               false,
               false,
               false,
               false,
               false,
               false,
               false,
               false,
               false,
               false,
               false
              ]
             },
             {
              "title": "Graphix vs. Neo4J: bi-1"
             }
            ],
            "label": "bi-1",
            "method": "update"
           },
           {
            "args": [
             {
              "visible": [
               false,
               false,
               true,
               true,
               false,
               false,
               false,
               false,
               false,
               false,
               false,
               false,
               false,
               false,
               false,
               false,
               false,
               false,
               false,
               false,
               false,
               false,
               false,
               false,
               false,
               false,
               false,
               false,
               false,
               false,
               false,
               false,
               false,
               false
              ]
             },
             {
              "title": "Graphix vs. Neo4J: bi-2"
             }
            ],
            "label": "bi-2",
            "method": "update"
           },
           {
            "args": [
             {
              "visible": [
               false,
               false,
               false,
               false,
               true,
               true,
               false,
               false,
               false,
               false,
               false,
               false,
               false,
               false,
               false,
               false,
               false,
               false,
               false,
               false,
               false,
               false,
               false,
               false,
               false,
               false,
               false,
               false,
               false,
               false,
               false,
               false,
               false,
               false
              ]
             },
             {
              "title": "Graphix vs. Neo4J: bi-5"
             }
            ],
            "label": "bi-5",
            "method": "update"
           },
           {
            "args": [
             {
              "visible": [
               false,
               false,
               false,
               false,
               false,
               false,
               true,
               true,
               false,
               false,
               false,
               false,
               false,
               false,
               false,
               false,
               false,
               false,
               false,
               false,
               false,
               false,
               false,
               false,
               false,
               false,
               false,
               false,
               false,
               false,
               false,
               false,
               false,
               false
              ]
             },
             {
              "title": "Graphix vs. Neo4J: bi-7"
             }
            ],
            "label": "bi-7",
            "method": "update"
           },
           {
            "args": [
             {
              "visible": [
               false,
               false,
               false,
               false,
               false,
               false,
               false,
               false,
               true,
               true,
               false,
               false,
               false,
               false,
               false,
               false,
               false,
               false,
               false,
               false,
               false,
               false,
               false,
               false,
               false,
               false,
               false,
               false,
               false,
               false,
               false,
               false,
               false,
               false
              ]
             },
             {
              "title": "Graphix vs. Neo4J: bi-8"
             }
            ],
            "label": "bi-8",
            "method": "update"
           },
           {
            "args": [
             {
              "visible": [
               false,
               false,
               false,
               false,
               false,
               false,
               false,
               false,
               false,
               false,
               true,
               true,
               false,
               false,
               false,
               false,
               false,
               false,
               false,
               false,
               false,
               false,
               false,
               false,
               false,
               false,
               false,
               false,
               false,
               false,
               false,
               false,
               false,
               false
              ]
             },
             {
              "title": "Graphix vs. Neo4J: bi-11"
             }
            ],
            "label": "bi-11",
            "method": "update"
           },
           {
            "args": [
             {
              "visible": [
               false,
               false,
               false,
               false,
               false,
               false,
               false,
               false,
               false,
               false,
               false,
               false,
               true,
               true,
               false,
               false,
               false,
               false,
               false,
               false,
               false,
               false,
               false,
               false,
               false,
               false,
               false,
               false,
               false,
               false,
               false,
               false,
               false,
               false
              ]
             },
             {
              "title": "Graphix vs. Neo4J: bi-16"
             }
            ],
            "label": "bi-16",
            "method": "update"
           },
           {
            "args": [
             {
              "visible": [
               false,
               false,
               false,
               false,
               false,
               false,
               false,
               false,
               false,
               false,
               false,
               false,
               false,
               false,
               true,
               true,
               false,
               false,
               false,
               false,
               false,
               false,
               false,
               false,
               false,
               false,
               false,
               false,
               false,
               false,
               false,
               false,
               false,
               false
              ]
             },
             {
              "title": "Graphix vs. Neo4J: bi-18"
             }
            ],
            "label": "bi-18",
            "method": "update"
           },
           {
            "args": [
             {
              "visible": [
               false,
               false,
               false,
               false,
               false,
               false,
               false,
               false,
               false,
               false,
               false,
               false,
               false,
               false,
               false,
               false,
               true,
               true,
               false,
               false,
               false,
               false,
               false,
               false,
               false,
               false,
               false,
               false,
               false,
               false,
               false,
               false,
               false,
               false
              ]
             },
             {
              "title": "Graphix vs. Neo4J: complex-2"
             }
            ],
            "label": "complex-2",
            "method": "update"
           },
           {
            "args": [
             {
              "visible": [
               false,
               false,
               false,
               false,
               false,
               false,
               false,
               false,
               false,
               false,
               false,
               false,
               false,
               false,
               false,
               false,
               false,
               false,
               true,
               true,
               false,
               false,
               false,
               false,
               false,
               false,
               false,
               false,
               false,
               false,
               false,
               false,
               false,
               false
              ]
             },
             {
              "title": "Graphix vs. Neo4J: complex-4"
             }
            ],
            "label": "complex-4",
            "method": "update"
           },
           {
            "args": [
             {
              "visible": [
               false,
               false,
               false,
               false,
               false,
               false,
               false,
               false,
               false,
               false,
               false,
               false,
               false,
               false,
               false,
               false,
               false,
               false,
               false,
               false,
               true,
               true,
               false,
               false,
               false,
               false,
               false,
               false,
               false,
               false,
               false,
               false,
               false,
               false
              ]
             },
             {
              "title": "Graphix vs. Neo4J: complex-7"
             }
            ],
            "label": "complex-7",
            "method": "update"
           },
           {
            "args": [
             {
              "visible": [
               false,
               false,
               false,
               false,
               false,
               false,
               false,
               false,
               false,
               false,
               false,
               false,
               false,
               false,
               false,
               false,
               false,
               false,
               false,
               false,
               false,
               false,
               true,
               true,
               false,
               false,
               false,
               false,
               false,
               false,
               false,
               false,
               false,
               false
              ]
             },
             {
              "title": "Graphix vs. Neo4J: complex-8"
             }
            ],
            "label": "complex-8",
            "method": "update"
           },
           {
            "args": [
             {
              "visible": [
               false,
               false,
               false,
               false,
               false,
               false,
               false,
               false,
               false,
               false,
               false,
               false,
               false,
               false,
               false,
               false,
               false,
               false,
               false,
               false,
               false,
               false,
               false,
               false,
               true,
               true,
               false,
               false,
               false,
               false,
               false,
               false,
               false,
               false
              ]
             },
             {
              "title": "Graphix vs. Neo4J: short-1"
             }
            ],
            "label": "short-1",
            "method": "update"
           },
           {
            "args": [
             {
              "visible": [
               false,
               false,
               false,
               false,
               false,
               false,
               false,
               false,
               false,
               false,
               false,
               false,
               false,
               false,
               false,
               false,
               false,
               false,
               false,
               false,
               false,
               false,
               false,
               false,
               false,
               false,
               true,
               true,
               false,
               false,
               false,
               false,
               false,
               false
              ]
             },
             {
              "title": "Graphix vs. Neo4J: short-3"
             }
            ],
            "label": "short-3",
            "method": "update"
           },
           {
            "args": [
             {
              "visible": [
               false,
               false,
               false,
               false,
               false,
               false,
               false,
               false,
               false,
               false,
               false,
               false,
               false,
               false,
               false,
               false,
               false,
               false,
               false,
               false,
               false,
               false,
               false,
               false,
               false,
               false,
               false,
               false,
               true,
               true,
               false,
               false,
               false,
               false
              ]
             },
             {
              "title": "Graphix vs. Neo4J: short-4"
             }
            ],
            "label": "short-4",
            "method": "update"
           },
           {
            "args": [
             {
              "visible": [
               false,
               false,
               false,
               false,
               false,
               false,
               false,
               false,
               false,
               false,
               false,
               false,
               false,
               false,
               false,
               false,
               false,
               false,
               false,
               false,
               false,
               false,
               false,
               false,
               false,
               false,
               false,
               false,
               false,
               false,
               true,
               true,
               false,
               false
              ]
             },
             {
              "title": "Graphix vs. Neo4J: short-5"
             }
            ],
            "label": "short-5",
            "method": "update"
           },
           {
            "args": [
             {
              "visible": [
               false,
               false,
               false,
               false,
               false,
               false,
               false,
               false,
               false,
               false,
               false,
               false,
               false,
               false,
               false,
               false,
               false,
               false,
               false,
               false,
               false,
               false,
               false,
               false,
               false,
               false,
               false,
               false,
               false,
               false,
               false,
               false,
               true,
               true
              ]
             },
             {
              "title": "Graphix vs. Neo4J: short-7"
             }
            ],
            "label": "short-7",
            "method": "update"
           }
          ]
         }
        ]
       },
       "config": {
        "plotlyServerURL": "https://plot.ly"
       }
      },
      "text/html": "<div>                            <div id=\"23eccab2-1ebe-4f8a-8436-8a1a16876e45\" class=\"plotly-graph-div\" style=\"height:525px; width:100%;\"></div>            <script type=\"text/javascript\">                require([\"plotly\"], function(Plotly) {                    window.PLOTLYENV=window.PLOTLYENV || {};                                    if (document.getElementById(\"23eccab2-1ebe-4f8a-8436-8a1a16876e45\")) {                    Plotly.newPlot(                        \"23eccab2-1ebe-4f8a-8436-8a1a16876e45\",                        [{\"alignmentgroup\":\"Graphix\",\"customdata\":[[39.67367575679438,2527.6028459209483,2416.216672716895,\"2416.217<br>2446.613<br>2481.908<br>2522.995<br>2484.15<br>2527.603<br>2524.443\"]],\"hovertemplate\":\"<b>Average:</b> %{y} +/-%{customdata[0]:.3f}<br><b>Maximum:</b> %{customdata[1]:.3f}<br><b>Minimum:</b> %{customdata[2]:.3f}<br><b>Using:</b><br>%{customdata[3]}\",\"marker\":{\"color\":\"#1F77B4\"},\"name\":\"Graphix\",\"textposition\":\"outside\",\"texttemplate\":\"%{y:.3r}\",\"visible\":true,\"x\":[\"300\"],\"y\":[2486.275514425244],\"type\":\"bar\"},{\"alignmentgroup\":\"Neo4J\",\"customdata\":[[137.8974001344305,10512.639680352993,10097.81595580792,\"10170.014<br>10380.542<br>10412.561<br>10156.53<br>10097.816<br>10386.476<br>10206.936<br>10423.374<br>10512.64<br>10405.142<br>...\"]],\"hovertemplate\":\"<b>Average:</b> %{y} +/-%{customdata[0]:.3f}<br><b>Maximum:</b> %{customdata[1]:.3f}<br><b>Minimum:</b> %{customdata[2]:.3f}<br><b>Using:</b><br>%{customdata[3]}\",\"marker\":{\"color\":\"#FF7F0E\"},\"name\":\"Neo4J\",\"textposition\":\"outside\",\"texttemplate\":\"%{y:.3r}\",\"visible\":true,\"x\":[\"300\"],\"y\":[10330.676810829435],\"type\":\"bar\"},{\"alignmentgroup\":\"Graphix\",\"customdata\":[[433.81680018735176,3600.0372043999378,2029.0853691000957,\"2031.066<br>2138.197<br>2029.085<br>2117.454<br>2114.544<br>2100.791<br>2084.116<br>2127.245<br>2106.615<br>2107.107<br>...\"]],\"hovertemplate\":\"<b>Average:</b> %{y} +/-%{customdata[0]:.3f}<br><b>Maximum:</b> %{customdata[1]:.3f}<br><b>Minimum:</b> %{customdata[2]:.3f}<br><b>Using:</b><br>%{customdata[3]}\",\"marker\":{\"color\":\"#1F77B4\"},\"name\":\"Graphix\",\"textposition\":\"outside\",\"texttemplate\":\"%{y:.3r}\",\"visible\":false,\"x\":[\"300\"],\"y\":[2232.387118475427],\"type\":\"bar\"},{\"alignmentgroup\":\"Neo4J\",\"customdata\":[[6625.038861601077,18000.05456252722,468.57081070682034,\"632.394<br>10800.018<br>468.571<br>2992.84<br>2136.129<br>13991.149<br>18000.055\"]],\"hovertemplate\":\"<b>Average:</b> %{y} +/-%{customdata[0]:.3f}<br><b>Maximum:</b> %{customdata[1]:.3f}<br><b>Minimum:</b> %{customdata[2]:.3f}<br><b>Using:</b><br>%{customdata[3]}\",\"marker\":{\"color\":\"#FF7F0E\"},\"name\":\"Neo4J\",\"textposition\":\"outside\",\"texttemplate\":\"%{y:.3r}\",\"visible\":false,\"x\":[\"300\"],\"y\":[7003.022285007805],\"type\":\"bar\"},{\"alignmentgroup\":\"Graphix\",\"customdata\":[],\"hovertemplate\":\"<b>Average:</b> %{y} +/-%{customdata[0]:.3f}<br><b>Maximum:</b> %{customdata[1]:.3f}<br><b>Minimum:</b> %{customdata[2]:.3f}<br><b>Using:</b><br>%{customdata[3]}\",\"marker\":{\"color\":\"#1F77B4\"},\"name\":\"Graphix\",\"textposition\":\"outside\",\"texttemplate\":\"%{y:.3r}\",\"visible\":false,\"x\":[],\"y\":[],\"type\":\"bar\"},{\"alignmentgroup\":\"Neo4J\",\"customdata\":[[26.395894447196326,275.7466123509221,189.2676380299963,\"275.365<br>259.109<br>219.802<br>251.47<br>239.455<br>191.242<br>235.689<br>229.708<br>275.747<br>246.343<br>...\"]],\"hovertemplate\":\"<b>Average:</b> %{y} +/-%{customdata[0]:.3f}<br><b>Maximum:</b> %{customdata[1]:.3f}<br><b>Minimum:</b> %{customdata[2]:.3f}<br><b>Using:</b><br>%{customdata[3]}\",\"marker\":{\"color\":\"#FF7F0E\"},\"name\":\"Neo4J\",\"textposition\":\"outside\",\"texttemplate\":\"%{y:.3r}\",\"visible\":false,\"x\":[\"300\"],\"y\":[229.84836674532724],\"type\":\"bar\"},{\"alignmentgroup\":\"Graphix\",\"customdata\":[],\"hovertemplate\":\"<b>Average:</b> %{y} +/-%{customdata[0]:.3f}<br><b>Maximum:</b> %{customdata[1]:.3f}<br><b>Minimum:</b> %{customdata[2]:.3f}<br><b>Using:</b><br>%{customdata[3]}\",\"marker\":{\"color\":\"#1F77B4\"},\"name\":\"Graphix\",\"textposition\":\"outside\",\"texttemplate\":\"%{y:.3r}\",\"visible\":false,\"x\":[],\"y\":[],\"type\":\"bar\"},{\"alignmentgroup\":\"Neo4J\",\"customdata\":[[160.67864833683845,2171.713913653046,1702.4040965910535,\"1779.586<br>1761.181<br>1892.676<br>1782.017<br>2171.714<br>1702.404<br>2053.677\"]],\"hovertemplate\":\"<b>Average:</b> %{y} +/-%{customdata[0]:.3f}<br><b>Maximum:</b> %{customdata[1]:.3f}<br><b>Minimum:</b> %{customdata[2]:.3f}<br><b>Using:</b><br>%{customdata[3]}\",\"marker\":{\"color\":\"#FF7F0E\"},\"name\":\"Neo4J\",\"textposition\":\"outside\",\"texttemplate\":\"%{y:.3r}\",\"visible\":false,\"x\":[\"300\"],\"y\":[1877.607759527862],\"type\":\"bar\"},{\"alignmentgroup\":\"Graphix\",\"customdata\":[[49.615252566111415,1888.656876476016,1728.660190679133,\"1739.913<br>1888.657<br>1728.66<br>1787.908<br>1880.993<br>1731.898<br>1851.592<br>1822.668<br>1779.999<br>1814.803<br>...\"]],\"hovertemplate\":\"<b>Average:</b> %{y} +/-%{customdata[0]:.3f}<br><b>Maximum:</b> %{customdata[1]:.3f}<br><b>Minimum:</b> %{customdata[2]:.3f}<br><b>Using:</b><br>%{customdata[3]}\",\"marker\":{\"color\":\"#1F77B4\"},\"name\":\"Graphix\",\"textposition\":\"outside\",\"texttemplate\":\"%{y:.3r}\",\"visible\":false,\"x\":[\"300\"],\"y\":[1813.3981360503992],\"type\":\"bar\"},{\"alignmentgroup\":\"Neo4J\",\"customdata\":[],\"hovertemplate\":\"<b>Average:</b> %{y} +/-%{customdata[0]:.3f}<br><b>Maximum:</b> %{customdata[1]:.3f}<br><b>Minimum:</b> %{customdata[2]:.3f}<br><b>Using:</b><br>%{customdata[3]}\",\"marker\":{\"color\":\"#FF7F0E\"},\"name\":\"Neo4J\",\"textposition\":\"outside\",\"texttemplate\":\"%{y:.3r}\",\"visible\":false,\"x\":[],\"y\":[],\"type\":\"bar\"},{\"alignmentgroup\":\"Graphix\",\"customdata\":[[2.255501285517579,213.03919890592806,205.21048436593264,\"210.625<br>209.945<br>210.395<br>205.21<br>213.039<br>208.271<br>208.528\"]],\"hovertemplate\":\"<b>Average:</b> %{y} +/-%{customdata[0]:.3f}<br><b>Maximum:</b> %{customdata[1]:.3f}<br><b>Minimum:</b> %{customdata[2]:.3f}<br><b>Using:</b><br>%{customdata[3]}\",\"marker\":{\"color\":\"#1F77B4\"},\"name\":\"Graphix\",\"textposition\":\"outside\",\"texttemplate\":\"%{y:.3r}\",\"visible\":false,\"x\":[\"300\"],\"y\":[209.430376210383],\"type\":\"bar\"},{\"alignmentgroup\":\"Neo4J\",\"customdata\":[],\"hovertemplate\":\"<b>Average:</b> %{y} +/-%{customdata[0]:.3f}<br><b>Maximum:</b> %{customdata[1]:.3f}<br><b>Minimum:</b> %{customdata[2]:.3f}<br><b>Using:</b><br>%{customdata[3]}\",\"marker\":{\"color\":\"#FF7F0E\"},\"name\":\"Neo4J\",\"textposition\":\"outside\",\"texttemplate\":\"%{y:.3r}\",\"visible\":false,\"x\":[],\"y\":[],\"type\":\"bar\"},{\"alignmentgroup\":\"Graphix\",\"customdata\":[],\"hovertemplate\":\"<b>Average:</b> %{y} +/-%{customdata[0]:.3f}<br><b>Maximum:</b> %{customdata[1]:.3f}<br><b>Minimum:</b> %{customdata[2]:.3f}<br><b>Using:</b><br>%{customdata[3]}\",\"marker\":{\"color\":\"#1F77B4\"},\"name\":\"Graphix\",\"textposition\":\"outside\",\"texttemplate\":\"%{y:.3r}\",\"visible\":false,\"x\":[],\"y\":[],\"type\":\"bar\"},{\"alignmentgroup\":\"Neo4J\",\"customdata\":[],\"hovertemplate\":\"<b>Average:</b> %{y} +/-%{customdata[0]:.3f}<br><b>Maximum:</b> %{customdata[1]:.3f}<br><b>Minimum:</b> %{customdata[2]:.3f}<br><b>Using:</b><br>%{customdata[3]}\",\"marker\":{\"color\":\"#FF7F0E\"},\"name\":\"Neo4J\",\"textposition\":\"outside\",\"texttemplate\":\"%{y:.3r}\",\"visible\":false,\"x\":[],\"y\":[],\"type\":\"bar\"},{\"alignmentgroup\":\"Graphix\",\"customdata\":[],\"hovertemplate\":\"<b>Average:</b> %{y} +/-%{customdata[0]:.3f}<br><b>Maximum:</b> %{customdata[1]:.3f}<br><b>Minimum:</b> %{customdata[2]:.3f}<br><b>Using:</b><br>%{customdata[3]}\",\"marker\":{\"color\":\"#1F77B4\"},\"name\":\"Graphix\",\"textposition\":\"outside\",\"texttemplate\":\"%{y:.3r}\",\"visible\":false,\"x\":[],\"y\":[],\"type\":\"bar\"},{\"alignmentgroup\":\"Neo4J\",\"customdata\":[[34.450377327213054,567.9467015430564,492.47661781299394,\"562.906<br>492.477<br>567.947\"]],\"hovertemplate\":\"<b>Average:</b> %{y} +/-%{customdata[0]:.3f}<br><b>Maximum:</b> %{customdata[1]:.3f}<br><b>Minimum:</b> %{customdata[2]:.3f}<br><b>Using:</b><br>%{customdata[3]}\",\"marker\":{\"color\":\"#FF7F0E\"},\"name\":\"Neo4J\",\"textposition\":\"outside\",\"texttemplate\":\"%{y:.3r}\",\"visible\":false,\"x\":[\"300\"],\"y\":[541.1098149106838],\"type\":\"bar\"},{\"alignmentgroup\":\"Graphix\",\"customdata\":[[26.738236148535528,92.80499579408206,0.08058743388392031,\"71.436<br>71.614<br>92.805<br>8.007<br>64.562<br>40.097<br>75.146<br>50.561<br>77.409<br>72.107<br>...\"]],\"hovertemplate\":\"<b>Average:</b> %{y} +/-%{customdata[0]:.3f}<br><b>Maximum:</b> %{customdata[1]:.3f}<br><b>Minimum:</b> %{customdata[2]:.3f}<br><b>Using:</b><br>%{customdata[3]}\",\"marker\":{\"color\":\"#1F77B4\"},\"name\":\"Graphix\",\"textposition\":\"outside\",\"texttemplate\":\"%{y:.3r}\",\"visible\":false,\"x\":[\"300\"],\"y\":[51.445095558274296],\"type\":\"bar\"},{\"alignmentgroup\":\"Neo4J\",\"customdata\":[[50.16049955081756,179.19123562902678,0.030682043987326324,\"151.941<br>154.157<br>110.516<br>172.345<br>53.987<br>105.279<br>33.439<br>179.191<br>96.738<br>78.6<br>...\"]],\"hovertemplate\":\"<b>Average:</b> %{y} +/-%{customdata[0]:.3f}<br><b>Maximum:</b> %{customdata[1]:.3f}<br><b>Minimum:</b> %{customdata[2]:.3f}<br><b>Using:</b><br>%{customdata[3]}\",\"marker\":{\"color\":\"#FF7F0E\"},\"name\":\"Neo4J\",\"textposition\":\"outside\",\"texttemplate\":\"%{y:.3r}\",\"visible\":false,\"x\":[\"300\"],\"y\":[101.44813941267785],\"type\":\"bar\"},{\"alignmentgroup\":\"Graphix\",\"customdata\":[[27.395334513850788,96.9663975990843,0.21077739307656884,\"46.089<br>54.43<br>47.472<br>65.62<br>0.335<br>47.523<br>19.049<br>62.81<br>61.899<br>63.863<br>...\"]],\"hovertemplate\":\"<b>Average:</b> %{y} +/-%{customdata[0]:.3f}<br><b>Maximum:</b> %{customdata[1]:.3f}<br><b>Minimum:</b> %{customdata[2]:.3f}<br><b>Using:</b><br>%{customdata[3]}\",\"marker\":{\"color\":\"#1F77B4\"},\"name\":\"Graphix\",\"textposition\":\"outside\",\"texttemplate\":\"%{y:.3r}\",\"visible\":false,\"x\":[\"300\"],\"y\":[44.078243732482115],\"type\":\"bar\"},{\"alignmentgroup\":\"Neo4J\",\"customdata\":[[31.20621498255618,112.81136230600532,0.037176818936131895,\"35.187<br>68.108<br>51.692<br>74.574<br>55.009<br>0.053<br>5.716<br>41.965<br>33.399<br>74.94<br>...\"]],\"hovertemplate\":\"<b>Average:</b> %{y} +/-%{customdata[0]:.3f}<br><b>Maximum:</b> %{customdata[1]:.3f}<br><b>Minimum:</b> %{customdata[2]:.3f}<br><b>Using:</b><br>%{customdata[3]}\",\"marker\":{\"color\":\"#FF7F0E\"},\"name\":\"Neo4J\",\"textposition\":\"outside\",\"texttemplate\":\"%{y:.3r}\",\"visible\":false,\"x\":[\"300\"],\"y\":[41.26449846264292],\"type\":\"bar\"},{\"alignmentgroup\":\"Graphix\",\"customdata\":[[1.9856605378284167,9.674280396895483,0.18087760382331908,\"3.43<br>2.985<br>5.049<br>9.674<br>4.006<br>1.908<br>5.239<br>2.421<br>1.696<br>0.5<br>...\"]],\"hovertemplate\":\"<b>Average:</b> %{y} +/-%{customdata[0]:.3f}<br><b>Maximum:</b> %{customdata[1]:.3f}<br><b>Minimum:</b> %{customdata[2]:.3f}<br><b>Using:</b><br>%{customdata[3]}\",\"marker\":{\"color\":\"#1F77B4\"},\"name\":\"Graphix\",\"textposition\":\"outside\",\"texttemplate\":\"%{y:.3r}\",\"visible\":false,\"x\":[\"300\"],\"y\":[2.5094033171363335],\"type\":\"bar\"},{\"alignmentgroup\":\"Neo4J\",\"customdata\":[[0.4604699154878552,1.835506460047327,0.03939656505826861,\"0.845<br>0.62<br>0.753<br>0.868<br>1.231<br>1.307<br>0.095<br>1.224<br>0.662<br>1.453<br>...\"]],\"hovertemplate\":\"<b>Average:</b> %{y} +/-%{customdata[0]:.3f}<br><b>Maximum:</b> %{customdata[1]:.3f}<br><b>Minimum:</b> %{customdata[2]:.3f}<br><b>Using:</b><br>%{customdata[3]}\",\"marker\":{\"color\":\"#FF7F0E\"},\"name\":\"Neo4J\",\"textposition\":\"outside\",\"texttemplate\":\"%{y:.3r}\",\"visible\":false,\"x\":[\"300\"],\"y\":[0.8596987715907435],\"type\":\"bar\"},{\"alignmentgroup\":\"Graphix\",\"customdata\":[[1.0245801663881573,5.318331117043272,0.13206508988514543,\"2.963<br>2.882<br>2.724<br>0.773<br>1.573<br>0.497<br>0.393<br>0.706<br>1.588<br>0.242<br>...\"]],\"hovertemplate\":\"<b>Average:</b> %{y} +/-%{customdata[0]:.3f}<br><b>Maximum:</b> %{customdata[1]:.3f}<br><b>Minimum:</b> %{customdata[2]:.3f}<br><b>Using:</b><br>%{customdata[3]}\",\"marker\":{\"color\":\"#1F77B4\"},\"name\":\"Graphix\",\"textposition\":\"outside\",\"texttemplate\":\"%{y:.3r}\",\"visible\":false,\"x\":[\"300\"],\"y\":[1.163901081734753],\"type\":\"bar\"},{\"alignmentgroup\":\"Neo4J\",\"customdata\":[[0.3103265244271608,1.5139015390304849,0.022576702060177922,\"0.381<br>0.588<br>0.65<br>0.027<br>1.037<br>0.449<br>0.911<br>0.572<br>0.023<br>0.82<br>...\"]],\"hovertemplate\":\"<b>Average:</b> %{y} +/-%{customdata[0]:.3f}<br><b>Maximum:</b> %{customdata[1]:.3f}<br><b>Minimum:</b> %{customdata[2]:.3f}<br><b>Using:</b><br>%{customdata[3]}\",\"marker\":{\"color\":\"#FF7F0E\"},\"name\":\"Neo4J\",\"textposition\":\"outside\",\"texttemplate\":\"%{y:.3r}\",\"visible\":false,\"x\":[\"300\"],\"y\":[0.6366492685108901],\"type\":\"bar\"},{\"alignmentgroup\":\"Graphix\",\"customdata\":[[0.33109715558210234,1.4414395468775183,0.056383271934464574,\"0.073<br>1.411<br>0.108<br>0.091<br>0.08<br>0.079<br>1.441<br>0.146<br>0.109<br>0.16<br>...\"]],\"hovertemplate\":\"<b>Average:</b> %{y} +/-%{customdata[0]:.3f}<br><b>Maximum:</b> %{customdata[1]:.3f}<br><b>Minimum:</b> %{customdata[2]:.3f}<br><b>Using:</b><br>%{customdata[3]}\",\"marker\":{\"color\":\"#1F77B4\"},\"name\":\"Graphix\",\"textposition\":\"outside\",\"texttemplate\":\"%{y:.3r}\",\"visible\":false,\"x\":[\"300\"],\"y\":[0.15903092598780355],\"type\":\"bar\"},{\"alignmentgroup\":\"Neo4J\",\"customdata\":[[0.006450908156171672,0.03690741502214223,0.01324474299326539,\"0.036<br>0.02<br>0.032<br>0.035<br>0.037<br>0.034<br>0.032<br>0.03<br>0.03<br>0.018<br>...\"]],\"hovertemplate\":\"<b>Average:</b> %{y} +/-%{customdata[0]:.3f}<br><b>Maximum:</b> %{customdata[1]:.3f}<br><b>Minimum:</b> %{customdata[2]:.3f}<br><b>Using:</b><br>%{customdata[3]}\",\"marker\":{\"color\":\"#FF7F0E\"},\"name\":\"Neo4J\",\"textposition\":\"outside\",\"texttemplate\":\"%{y:.3r}\",\"visible\":false,\"x\":[\"300\"],\"y\":[0.026403239678016843],\"type\":\"bar\"},{\"alignmentgroup\":\"Graphix\",\"customdata\":[[0.23016708811728553,1.66966481693089,0.06179100996814668,\"0.102<br>0.158<br>0.195<br>0.095<br>1.67<br>0.104<br>0.105<br>0.082<br>0.165<br>0.106<br>...\"]],\"hovertemplate\":\"<b>Average:</b> %{y} +/-%{customdata[0]:.3f}<br><b>Maximum:</b> %{customdata[1]:.3f}<br><b>Minimum:</b> %{customdata[2]:.3f}<br><b>Using:</b><br>%{customdata[3]}\",\"marker\":{\"color\":\"#1F77B4\"},\"name\":\"Graphix\",\"textposition\":\"outside\",\"texttemplate\":\"%{y:.3r}\",\"visible\":false,\"x\":[\"300\"],\"y\":[0.1395545417908579],\"type\":\"bar\"},{\"alignmentgroup\":\"Neo4J\",\"customdata\":[[28.79052007775429,180.0298429519171,0.01362238998990506,\"0.043<br>0.25<br>0.11<br>0.083<br>0.072<br>0.808<br>0.032<br>0.095<br>0.324<br>0.118<br>...\"]],\"hovertemplate\":\"<b>Average:</b> %{y} +/-%{customdata[0]:.3f}<br><b>Maximum:</b> %{customdata[1]:.3f}<br><b>Minimum:</b> %{customdata[2]:.3f}<br><b>Using:</b><br>%{customdata[3]}\",\"marker\":{\"color\":\"#FF7F0E\"},\"name\":\"Neo4J\",\"textposition\":\"outside\",\"texttemplate\":\"%{y:.3r}\",\"visible\":false,\"x\":[\"300\"],\"y\":[4.907451367679689],\"type\":\"bar\"},{\"alignmentgroup\":\"Graphix\",\"customdata\":[[0.01741188024627952,0.16255162796005607,0.04345494392327964,\"0.063<br>0.085<br>0.056<br>0.163<br>0.078<br>0.06<br>0.055<br>0.054<br>0.056<br>0.051<br>...\"]],\"hovertemplate\":\"<b>Average:</b> %{y} +/-%{customdata[0]:.3f}<br><b>Maximum:</b> %{customdata[1]:.3f}<br><b>Minimum:</b> %{customdata[2]:.3f}<br><b>Using:</b><br>%{customdata[3]}\",\"marker\":{\"color\":\"#1F77B4\"},\"name\":\"Graphix\",\"textposition\":\"outside\",\"texttemplate\":\"%{y:.3r}\",\"visible\":false,\"x\":[\"300\"],\"y\":[0.05592060050966733],\"type\":\"bar\"},{\"alignmentgroup\":\"Neo4J\",\"customdata\":[[0.005402816875406186,0.035457395017147064,0.013204465038143098,\"0.027<br>0.03<br>0.027<br>0.027<br>0.03<br>0.028<br>0.028<br>0.026<br>0.025<br>0.03<br>...\"]],\"hovertemplate\":\"<b>Average:</b> %{y} +/-%{customdata[0]:.3f}<br><b>Maximum:</b> %{customdata[1]:.3f}<br><b>Minimum:</b> %{customdata[2]:.3f}<br><b>Using:</b><br>%{customdata[3]}\",\"marker\":{\"color\":\"#FF7F0E\"},\"name\":\"Neo4J\",\"textposition\":\"outside\",\"texttemplate\":\"%{y:.3r}\",\"visible\":false,\"x\":[\"300\"],\"y\":[0.024790378146250038],\"type\":\"bar\"},{\"alignmentgroup\":\"Graphix\",\"customdata\":[[0.018364990217865532,0.1528341518715024,0.05095229996368289,\"0.09<br>0.078<br>0.153<br>0.092<br>0.071<br>0.072<br>0.119<br>0.088<br>0.088<br>0.071<br>...\"]],\"hovertemplate\":\"<b>Average:</b> %{y} +/-%{customdata[0]:.3f}<br><b>Maximum:</b> %{customdata[1]:.3f}<br><b>Minimum:</b> %{customdata[2]:.3f}<br><b>Using:</b><br>%{customdata[3]}\",\"marker\":{\"color\":\"#1F77B4\"},\"name\":\"Graphix\",\"textposition\":\"outside\",\"texttemplate\":\"%{y:.3r}\",\"visible\":false,\"x\":[\"300\"],\"y\":[0.06613080214927013],\"type\":\"bar\"},{\"alignmentgroup\":\"Neo4J\",\"customdata\":[[0.007306247231361599,0.04683696699794382,0.013490434037521482,\"0.04<br>0.031<br>0.03<br>0.03<br>0.031<br>0.04<br>0.02<br>0.036<br>0.018<br>0.014<br>...\"]],\"hovertemplate\":\"<b>Average:</b> %{y} +/-%{customdata[0]:.3f}<br><b>Maximum:</b> %{customdata[1]:.3f}<br><b>Minimum:</b> %{customdata[2]:.3f}<br><b>Using:</b><br>%{customdata[3]}\",\"marker\":{\"color\":\"#FF7F0E\"},\"name\":\"Neo4J\",\"textposition\":\"outside\",\"texttemplate\":\"%{y:.3r}\",\"visible\":false,\"x\":[\"300\"],\"y\":[0.025874005833719956],\"type\":\"bar\"},{\"alignmentgroup\":\"Graphix\",\"customdata\":[[0.2729928234228184,1.9611306770239025,0.11440377100370824,\"0.347<br>1.961<br>0.193<br>0.194<br>0.614<br>0.141<br>0.142<br>0.145<br>0.131<br>0.131<br>...\"]],\"hovertemplate\":\"<b>Average:</b> %{y} +/-%{customdata[0]:.3f}<br><b>Maximum:</b> %{customdata[1]:.3f}<br><b>Minimum:</b> %{customdata[2]:.3f}<br><b>Using:</b><br>%{customdata[3]}\",\"marker\":{\"color\":\"#1F77B4\"},\"name\":\"Graphix\",\"textposition\":\"outside\",\"texttemplate\":\"%{y:.3r}\",\"visible\":false,\"x\":[\"300\"],\"y\":[0.18591154976054391],\"type\":\"bar\"},{\"alignmentgroup\":\"Neo4J\",\"customdata\":[[0.039364346816695255,0.23556741292122751,0.012193370028398931,\"0.101<br>0.133<br>0.059<br>0.039<br>0.034<br>0.04<br>0.039<br>0.119<br>0.037<br>0.035<br>...\"]],\"hovertemplate\":\"<b>Average:</b> %{y} +/-%{customdata[0]:.3f}<br><b>Maximum:</b> %{customdata[1]:.3f}<br><b>Minimum:</b> %{customdata[2]:.3f}<br><b>Using:</b><br>%{customdata[3]}\",\"marker\":{\"color\":\"#FF7F0E\"},\"name\":\"Neo4J\",\"textposition\":\"outside\",\"texttemplate\":\"%{y:.3r}\",\"visible\":false,\"x\":[\"300\"],\"y\":[0.044444916616293025],\"type\":\"bar\"}],                        {\"template\":{\"data\":{\"histogram2dcontour\":[{\"type\":\"histogram2dcontour\",\"colorbar\":{\"outlinewidth\":0,\"ticks\":\"\"},\"colorscale\":[[0.0,\"#0d0887\"],[0.1111111111111111,\"#46039f\"],[0.2222222222222222,\"#7201a8\"],[0.3333333333333333,\"#9c179e\"],[0.4444444444444444,\"#bd3786\"],[0.5555555555555556,\"#d8576b\"],[0.6666666666666666,\"#ed7953\"],[0.7777777777777778,\"#fb9f3a\"],[0.8888888888888888,\"#fdca26\"],[1.0,\"#f0f921\"]]}],\"choropleth\":[{\"type\":\"choropleth\",\"colorbar\":{\"outlinewidth\":0,\"ticks\":\"\"}}],\"histogram2d\":[{\"type\":\"histogram2d\",\"colorbar\":{\"outlinewidth\":0,\"ticks\":\"\"},\"colorscale\":[[0.0,\"#0d0887\"],[0.1111111111111111,\"#46039f\"],[0.2222222222222222,\"#7201a8\"],[0.3333333333333333,\"#9c179e\"],[0.4444444444444444,\"#bd3786\"],[0.5555555555555556,\"#d8576b\"],[0.6666666666666666,\"#ed7953\"],[0.7777777777777778,\"#fb9f3a\"],[0.8888888888888888,\"#fdca26\"],[1.0,\"#f0f921\"]]}],\"heatmap\":[{\"type\":\"heatmap\",\"colorbar\":{\"outlinewidth\":0,\"ticks\":\"\"},\"colorscale\":[[0.0,\"#0d0887\"],[0.1111111111111111,\"#46039f\"],[0.2222222222222222,\"#7201a8\"],[0.3333333333333333,\"#9c179e\"],[0.4444444444444444,\"#bd3786\"],[0.5555555555555556,\"#d8576b\"],[0.6666666666666666,\"#ed7953\"],[0.7777777777777778,\"#fb9f3a\"],[0.8888888888888888,\"#fdca26\"],[1.0,\"#f0f921\"]]}],\"heatmapgl\":[{\"type\":\"heatmapgl\",\"colorbar\":{\"outlinewidth\":0,\"ticks\":\"\"},\"colorscale\":[[0.0,\"#0d0887\"],[0.1111111111111111,\"#46039f\"],[0.2222222222222222,\"#7201a8\"],[0.3333333333333333,\"#9c179e\"],[0.4444444444444444,\"#bd3786\"],[0.5555555555555556,\"#d8576b\"],[0.6666666666666666,\"#ed7953\"],[0.7777777777777778,\"#fb9f3a\"],[0.8888888888888888,\"#fdca26\"],[1.0,\"#f0f921\"]]}],\"contourcarpet\":[{\"type\":\"contourcarpet\",\"colorbar\":{\"outlinewidth\":0,\"ticks\":\"\"}}],\"contour\":[{\"type\":\"contour\",\"colorbar\":{\"outlinewidth\":0,\"ticks\":\"\"},\"colorscale\":[[0.0,\"#0d0887\"],[0.1111111111111111,\"#46039f\"],[0.2222222222222222,\"#7201a8\"],[0.3333333333333333,\"#9c179e\"],[0.4444444444444444,\"#bd3786\"],[0.5555555555555556,\"#d8576b\"],[0.6666666666666666,\"#ed7953\"],[0.7777777777777778,\"#fb9f3a\"],[0.8888888888888888,\"#fdca26\"],[1.0,\"#f0f921\"]]}],\"surface\":[{\"type\":\"surface\",\"colorbar\":{\"outlinewidth\":0,\"ticks\":\"\"},\"colorscale\":[[0.0,\"#0d0887\"],[0.1111111111111111,\"#46039f\"],[0.2222222222222222,\"#7201a8\"],[0.3333333333333333,\"#9c179e\"],[0.4444444444444444,\"#bd3786\"],[0.5555555555555556,\"#d8576b\"],[0.6666666666666666,\"#ed7953\"],[0.7777777777777778,\"#fb9f3a\"],[0.8888888888888888,\"#fdca26\"],[1.0,\"#f0f921\"]]}],\"mesh3d\":[{\"type\":\"mesh3d\",\"colorbar\":{\"outlinewidth\":0,\"ticks\":\"\"}}],\"scatter\":[{\"fillpattern\":{\"fillmode\":\"overlay\",\"size\":10,\"solidity\":0.2},\"type\":\"scatter\"}],\"parcoords\":[{\"type\":\"parcoords\",\"line\":{\"colorbar\":{\"outlinewidth\":0,\"ticks\":\"\"}}}],\"scatterpolargl\":[{\"type\":\"scatterpolargl\",\"marker\":{\"colorbar\":{\"outlinewidth\":0,\"ticks\":\"\"}}}],\"bar\":[{\"error_x\":{\"color\":\"#2a3f5f\"},\"error_y\":{\"color\":\"#2a3f5f\"},\"marker\":{\"line\":{\"color\":\"#E5ECF6\",\"width\":0.5},\"pattern\":{\"fillmode\":\"overlay\",\"size\":10,\"solidity\":0.2}},\"type\":\"bar\"}],\"scattergeo\":[{\"type\":\"scattergeo\",\"marker\":{\"colorbar\":{\"outlinewidth\":0,\"ticks\":\"\"}}}],\"scatterpolar\":[{\"type\":\"scatterpolar\",\"marker\":{\"colorbar\":{\"outlinewidth\":0,\"ticks\":\"\"}}}],\"histogram\":[{\"marker\":{\"pattern\":{\"fillmode\":\"overlay\",\"size\":10,\"solidity\":0.2}},\"type\":\"histogram\"}],\"scattergl\":[{\"type\":\"scattergl\",\"marker\":{\"colorbar\":{\"outlinewidth\":0,\"ticks\":\"\"}}}],\"scatter3d\":[{\"type\":\"scatter3d\",\"line\":{\"colorbar\":{\"outlinewidth\":0,\"ticks\":\"\"}},\"marker\":{\"colorbar\":{\"outlinewidth\":0,\"ticks\":\"\"}}}],\"scattermapbox\":[{\"type\":\"scattermapbox\",\"marker\":{\"colorbar\":{\"outlinewidth\":0,\"ticks\":\"\"}}}],\"scatterternary\":[{\"type\":\"scatterternary\",\"marker\":{\"colorbar\":{\"outlinewidth\":0,\"ticks\":\"\"}}}],\"scattercarpet\":[{\"type\":\"scattercarpet\",\"marker\":{\"colorbar\":{\"outlinewidth\":0,\"ticks\":\"\"}}}],\"carpet\":[{\"aaxis\":{\"endlinecolor\":\"#2a3f5f\",\"gridcolor\":\"white\",\"linecolor\":\"white\",\"minorgridcolor\":\"white\",\"startlinecolor\":\"#2a3f5f\"},\"baxis\":{\"endlinecolor\":\"#2a3f5f\",\"gridcolor\":\"white\",\"linecolor\":\"white\",\"minorgridcolor\":\"white\",\"startlinecolor\":\"#2a3f5f\"},\"type\":\"carpet\"}],\"table\":[{\"cells\":{\"fill\":{\"color\":\"#EBF0F8\"},\"line\":{\"color\":\"white\"}},\"header\":{\"fill\":{\"color\":\"#C8D4E3\"},\"line\":{\"color\":\"white\"}},\"type\":\"table\"}],\"barpolar\":[{\"marker\":{\"line\":{\"color\":\"#E5ECF6\",\"width\":0.5},\"pattern\":{\"fillmode\":\"overlay\",\"size\":10,\"solidity\":0.2}},\"type\":\"barpolar\"}],\"pie\":[{\"automargin\":true,\"type\":\"pie\"}]},\"layout\":{\"autotypenumbers\":\"strict\",\"colorway\":[\"#636efa\",\"#EF553B\",\"#00cc96\",\"#ab63fa\",\"#FFA15A\",\"#19d3f3\",\"#FF6692\",\"#B6E880\",\"#FF97FF\",\"#FECB52\"],\"font\":{\"color\":\"#2a3f5f\"},\"hovermode\":\"closest\",\"hoverlabel\":{\"align\":\"left\"},\"paper_bgcolor\":\"white\",\"plot_bgcolor\":\"#E5ECF6\",\"polar\":{\"bgcolor\":\"#E5ECF6\",\"angularaxis\":{\"gridcolor\":\"white\",\"linecolor\":\"white\",\"ticks\":\"\"},\"radialaxis\":{\"gridcolor\":\"white\",\"linecolor\":\"white\",\"ticks\":\"\"}},\"ternary\":{\"bgcolor\":\"#E5ECF6\",\"aaxis\":{\"gridcolor\":\"white\",\"linecolor\":\"white\",\"ticks\":\"\"},\"baxis\":{\"gridcolor\":\"white\",\"linecolor\":\"white\",\"ticks\":\"\"},\"caxis\":{\"gridcolor\":\"white\",\"linecolor\":\"white\",\"ticks\":\"\"}},\"coloraxis\":{\"colorbar\":{\"outlinewidth\":0,\"ticks\":\"\"}},\"colorscale\":{\"sequential\":[[0.0,\"#0d0887\"],[0.1111111111111111,\"#46039f\"],[0.2222222222222222,\"#7201a8\"],[0.3333333333333333,\"#9c179e\"],[0.4444444444444444,\"#bd3786\"],[0.5555555555555556,\"#d8576b\"],[0.6666666666666666,\"#ed7953\"],[0.7777777777777778,\"#fb9f3a\"],[0.8888888888888888,\"#fdca26\"],[1.0,\"#f0f921\"]],\"sequentialminus\":[[0.0,\"#0d0887\"],[0.1111111111111111,\"#46039f\"],[0.2222222222222222,\"#7201a8\"],[0.3333333333333333,\"#9c179e\"],[0.4444444444444444,\"#bd3786\"],[0.5555555555555556,\"#d8576b\"],[0.6666666666666666,\"#ed7953\"],[0.7777777777777778,\"#fb9f3a\"],[0.8888888888888888,\"#fdca26\"],[1.0,\"#f0f921\"]],\"diverging\":[[0,\"#8e0152\"],[0.1,\"#c51b7d\"],[0.2,\"#de77ae\"],[0.3,\"#f1b6da\"],[0.4,\"#fde0ef\"],[0.5,\"#f7f7f7\"],[0.6,\"#e6f5d0\"],[0.7,\"#b8e186\"],[0.8,\"#7fbc41\"],[0.9,\"#4d9221\"],[1,\"#276419\"]]},\"xaxis\":{\"gridcolor\":\"white\",\"linecolor\":\"white\",\"ticks\":\"\",\"title\":{\"standoff\":15},\"zerolinecolor\":\"white\",\"automargin\":true,\"zerolinewidth\":2},\"yaxis\":{\"gridcolor\":\"white\",\"linecolor\":\"white\",\"ticks\":\"\",\"title\":{\"standoff\":15},\"zerolinecolor\":\"white\",\"automargin\":true,\"zerolinewidth\":2},\"scene\":{\"xaxis\":{\"backgroundcolor\":\"#E5ECF6\",\"gridcolor\":\"white\",\"linecolor\":\"white\",\"showbackground\":true,\"ticks\":\"\",\"zerolinecolor\":\"white\",\"gridwidth\":2},\"yaxis\":{\"backgroundcolor\":\"#E5ECF6\",\"gridcolor\":\"white\",\"linecolor\":\"white\",\"showbackground\":true,\"ticks\":\"\",\"zerolinecolor\":\"white\",\"gridwidth\":2},\"zaxis\":{\"backgroundcolor\":\"#E5ECF6\",\"gridcolor\":\"white\",\"linecolor\":\"white\",\"showbackground\":true,\"ticks\":\"\",\"zerolinecolor\":\"white\",\"gridwidth\":2}},\"shapedefaults\":{\"line\":{\"color\":\"#2a3f5f\"}},\"annotationdefaults\":{\"arrowcolor\":\"#2a3f5f\",\"arrowhead\":0,\"arrowwidth\":1},\"geo\":{\"bgcolor\":\"white\",\"landcolor\":\"#E5ECF6\",\"subunitcolor\":\"white\",\"showland\":true,\"showlakes\":true,\"lakecolor\":\"white\"},\"title\":{\"x\":0.05},\"mapbox\":{\"style\":\"light\"}}},\"title\":{\"font\":{\"size\":24},\"text\":\"Graphix vs. Neo4J: bi-1\",\"xanchor\":\"center\",\"yanchor\":\"top\",\"x\":0.5},\"xaxis\":{\"title\":{\"text\":\"Scale Factor\"},\"type\":\"category\",\"categoryorder\":\"array\",\"categoryarray\":[300.0]},\"yaxis\":{\"title\":{\"text\":\"Running Time (s)\"},\"showspikes\":true},\"updatemenus\":[{\"active\":0,\"buttons\":[{\"args\":[{\"visible\":[true,true,false,false,false,false,false,false,false,false,false,false,false,false,false,false,false,false,false,false,false,false,false,false,false,false,false,false,false,false,false,false,false,false]},{\"title\":\"Graphix vs. Neo4J: bi-1\"}],\"label\":\"bi-1\",\"method\":\"update\"},{\"args\":[{\"visible\":[false,false,true,true,false,false,false,false,false,false,false,false,false,false,false,false,false,false,false,false,false,false,false,false,false,false,false,false,false,false,false,false,false,false]},{\"title\":\"Graphix vs. Neo4J: bi-2\"}],\"label\":\"bi-2\",\"method\":\"update\"},{\"args\":[{\"visible\":[false,false,false,false,true,true,false,false,false,false,false,false,false,false,false,false,false,false,false,false,false,false,false,false,false,false,false,false,false,false,false,false,false,false]},{\"title\":\"Graphix vs. Neo4J: bi-5\"}],\"label\":\"bi-5\",\"method\":\"update\"},{\"args\":[{\"visible\":[false,false,false,false,false,false,true,true,false,false,false,false,false,false,false,false,false,false,false,false,false,false,false,false,false,false,false,false,false,false,false,false,false,false]},{\"title\":\"Graphix vs. Neo4J: bi-7\"}],\"label\":\"bi-7\",\"method\":\"update\"},{\"args\":[{\"visible\":[false,false,false,false,false,false,false,false,true,true,false,false,false,false,false,false,false,false,false,false,false,false,false,false,false,false,false,false,false,false,false,false,false,false]},{\"title\":\"Graphix vs. Neo4J: bi-8\"}],\"label\":\"bi-8\",\"method\":\"update\"},{\"args\":[{\"visible\":[false,false,false,false,false,false,false,false,false,false,true,true,false,false,false,false,false,false,false,false,false,false,false,false,false,false,false,false,false,false,false,false,false,false]},{\"title\":\"Graphix vs. Neo4J: bi-11\"}],\"label\":\"bi-11\",\"method\":\"update\"},{\"args\":[{\"visible\":[false,false,false,false,false,false,false,false,false,false,false,false,true,true,false,false,false,false,false,false,false,false,false,false,false,false,false,false,false,false,false,false,false,false]},{\"title\":\"Graphix vs. Neo4J: bi-16\"}],\"label\":\"bi-16\",\"method\":\"update\"},{\"args\":[{\"visible\":[false,false,false,false,false,false,false,false,false,false,false,false,false,false,true,true,false,false,false,false,false,false,false,false,false,false,false,false,false,false,false,false,false,false]},{\"title\":\"Graphix vs. Neo4J: bi-18\"}],\"label\":\"bi-18\",\"method\":\"update\"},{\"args\":[{\"visible\":[false,false,false,false,false,false,false,false,false,false,false,false,false,false,false,false,true,true,false,false,false,false,false,false,false,false,false,false,false,false,false,false,false,false]},{\"title\":\"Graphix vs. Neo4J: complex-2\"}],\"label\":\"complex-2\",\"method\":\"update\"},{\"args\":[{\"visible\":[false,false,false,false,false,false,false,false,false,false,false,false,false,false,false,false,false,false,true,true,false,false,false,false,false,false,false,false,false,false,false,false,false,false]},{\"title\":\"Graphix vs. Neo4J: complex-4\"}],\"label\":\"complex-4\",\"method\":\"update\"},{\"args\":[{\"visible\":[false,false,false,false,false,false,false,false,false,false,false,false,false,false,false,false,false,false,false,false,true,true,false,false,false,false,false,false,false,false,false,false,false,false]},{\"title\":\"Graphix vs. Neo4J: complex-7\"}],\"label\":\"complex-7\",\"method\":\"update\"},{\"args\":[{\"visible\":[false,false,false,false,false,false,false,false,false,false,false,false,false,false,false,false,false,false,false,false,false,false,true,true,false,false,false,false,false,false,false,false,false,false]},{\"title\":\"Graphix vs. Neo4J: complex-8\"}],\"label\":\"complex-8\",\"method\":\"update\"},{\"args\":[{\"visible\":[false,false,false,false,false,false,false,false,false,false,false,false,false,false,false,false,false,false,false,false,false,false,false,false,true,true,false,false,false,false,false,false,false,false]},{\"title\":\"Graphix vs. Neo4J: short-1\"}],\"label\":\"short-1\",\"method\":\"update\"},{\"args\":[{\"visible\":[false,false,false,false,false,false,false,false,false,false,false,false,false,false,false,false,false,false,false,false,false,false,false,false,false,false,true,true,false,false,false,false,false,false]},{\"title\":\"Graphix vs. Neo4J: short-3\"}],\"label\":\"short-3\",\"method\":\"update\"},{\"args\":[{\"visible\":[false,false,false,false,false,false,false,false,false,false,false,false,false,false,false,false,false,false,false,false,false,false,false,false,false,false,false,false,true,true,false,false,false,false]},{\"title\":\"Graphix vs. Neo4J: short-4\"}],\"label\":\"short-4\",\"method\":\"update\"},{\"args\":[{\"visible\":[false,false,false,false,false,false,false,false,false,false,false,false,false,false,false,false,false,false,false,false,false,false,false,false,false,false,false,false,false,false,true,true,false,false]},{\"title\":\"Graphix vs. Neo4J: short-5\"}],\"label\":\"short-5\",\"method\":\"update\"},{\"args\":[{\"visible\":[false,false,false,false,false,false,false,false,false,false,false,false,false,false,false,false,false,false,false,false,false,false,false,false,false,false,false,false,false,false,false,false,true,true]},{\"title\":\"Graphix vs. Neo4J: short-7\"}],\"label\":\"short-7\",\"method\":\"update\"}]}]},                        {\"responsive\": true}                    ).then(function(){\n                            \nvar gd = document.getElementById('23eccab2-1ebe-4f8a-8436-8a1a16876e45');\nvar x = new MutationObserver(function (mutations, observer) {{\n        var display = window.getComputedStyle(gd).display;\n        if (!display || display === 'none') {{\n            console.log([gd, 'removed!']);\n            Plotly.purge(gd);\n            observer.disconnect();\n        }}\n}});\n\n// Listen for the removal of the full notebook cells\nvar notebookContainer = gd.closest('#notebook-container');\nif (notebookContainer) {{\n    x.observe(notebookContainer, {childList: true});\n}}\n\n// Listen for the clearing of the current output cell\nvar outputEl = gd.closest('.output');\nif (outputEl) {{\n    x.observe(outputEl, {childList: true});\n}}\n\n                        })                };                });            </script>        </div>"
     },
     "metadata": {},
     "output_type": "display_data"
    }
   ],
   "source": [
    "import requests\n",
    "import pandas\n",
    "import plotly.graph_objects\n",
    "import plotly.colors\n",
    "import natsort\n",
    "\n",
    "# Fetch our data.\n",
    "response = requests.post('http://localhost:19002/query/service', {\n",
    "    'statement': f\"\"\"\n",
    "        SET    `compiler.sortmemory` \"128MB\";\n",
    "        SET    `compiler.groupmemory` \"128MB\";\n",
    "        SELECT CASE WHEN LEN(stringTimes) < 10\n",
    "                    THEN STRING_JOIN(stringTimes, \"<br>\")\n",
    "                    ELSE STRING_JOIN(stringTimes, \"<br>\") || \"<br>...\"\n",
    "                    END AS timesAsString,\n",
    "               S.* EXCLUDE notes\n",
    "        FROM   SNB.Analysis.Statistics S\n",
    "        LET    stringTimes = (\n",
    "                   SELECT VALUE TO_STRING(ROUND(T, 3))\n",
    "                   FROM   S.allTimes T\n",
    "                   LIMIT  10\n",
    "               )\n",
    "    \"\"\"\n",
    "}).json()\n",
    "df = pandas.json_normalize(response['results'])\n",
    "\n",
    "# Plot our results with a bar chart.\n",
    "fig = plotly.graph_objects.Figure()\n",
    "query_classes = natsort.natsorted(df.queryClass.unique())\n",
    "for i, qc in enumerate(query_classes):\n",
    "    for j, system in enumerate(['Graphix', 'Neo4J']):\n",
    "        if system == 'Neo4J':\n",
    "            qc_sf = df.query(\n",
    "                f'system == \"{system}\" and '\n",
    "                f'queryClass == \"{qc}\"'\n",
    "            )\n",
    "        else:\n",
    "            qc_sf = df.query(\n",
    "                f'system == \"{system}\" and '\n",
    "                f'queryClass == \"{qc}\" and '\n",
    "                f'clusterSize == \"1\"'\n",
    "            )\n",
    "        fig.add_trace(plotly.graph_objects.Bar(\n",
    "            x=qc_sf.scaleFactor,\n",
    "            y=qc_sf.avgTime,\n",
    "            name=system,\n",
    "            alignmentgroup=system,\n",
    "            texttemplate='%{y:.3r}',\n",
    "            textposition='outside',\n",
    "            visible=i == 0,\n",
    "            marker={'color': plotly.colors.qualitative.D3[j]},\n",
    "            customdata=qc_sf[['spreadTime', 'maxTime', 'minTime', 'timesAsString']],\n",
    "            hovertemplate=\"<b>Average:</b> %{y} +/-%{customdata[0]:.3f}<br>\"\n",
    "                          \"<b>Maximum:</b> %{customdata[1]:.3f}<br>\"\n",
    "                          \"<b>Minimum:</b> %{customdata[2]:.3f}<br>\"\n",
    "                          \"<b>Using:</b><br>%{customdata[3]}\"\n",
    "        ))\n",
    "fig.update_layout(\n",
    "    title={\n",
    "        'text': f'Graphix vs. Neo4J: {query_classes[0]}',\n",
    "        'xanchor': 'center',\n",
    "        'yanchor': 'top',\n",
    "        'x': 0.5,\n",
    "        'font': {\n",
    "            'size': 24\n",
    "        }\n",
    "    },\n",
    "    xaxis={\n",
    "        'title': 'Scale Factor',\n",
    "        'type': 'category',\n",
    "        'categoryorder': 'array',\n",
    "        'categoryarray': sorted([float(f) for f in df.scaleFactor.unique()])\n",
    "    },\n",
    "    yaxis={\n",
    "        'title': 'Running Time (s)',\n",
    "        'showspikes': True,\n",
    "    }\n",
    ")\n",
    "\n",
    "# For all query classes, build an update action.\n",
    "buttons = list()\n",
    "for i, qc in enumerate(query_classes):\n",
    "    visible_data_vector = [False for f in range(0, len(query_classes) * 2)]\n",
    "    for j in range(2):\n",
    "        visible_data_vector[(i * 2) + j] = True\n",
    "    buttons.append({\n",
    "        'label': qc,\n",
    "        'method': 'update',\n",
    "        'args': [\n",
    "            {'visible': visible_data_vector},\n",
    "            {'title': f'Graphix vs. Neo4J: {qc}'}\n",
    "        ]\n",
    "    })\n",
    "fig.update_layout(updatemenus=[{\n",
    "    'active': 0,\n",
    "    'buttons': buttons\n",
    "}])\n",
    "fig.show()"
   ]
  },
  {
   "cell_type": "code",
   "execution_count": 90,
   "metadata": {},
   "outputs": [
    {
     "data": {
      "application/vnd.plotly.v1+json": {
       "data": [
        {
         "customdata": [
          [
           39.67367575679438,
           2527.6028459209483,
           2416.216672716895,
           "2416.217<br>2446.613<br>2481.908<br>2522.995<br>2484.15<br>2527.603<br>2524.443"
          ]
         ],
         "hovertemplate": "<b>Average:</b> %{y} +/-%{customdata[0]:.3f}<br><b>Maximum:</b> %{customdata[1]:.3f}<br><b>Minimum:</b> %{customdata[2]:.3f}<br><b>Using:</b><br>%{customdata[3]}",
         "marker": {
          "color": "#1F77B4"
         },
         "name": "1 Nodes",
         "texttemplate": "%{y:.3r}",
         "visible": true,
         "x": [
          1
         ],
         "y": [
          2486.275514425244
         ],
         "type": "bar"
        },
        {
         "customdata": [
          [
           27.170369696359884,
           1306.046033397084,
           1215.867739818059,
           "1215.868<br>1276.598<br>1306.046<br>1296.438<br>1290.191<br>1280.608<br>1282.925"
          ]
         ],
         "hovertemplate": "<b>Average:</b> %{y} +/-%{customdata[0]:.3f}<br><b>Maximum:</b> %{customdata[1]:.3f}<br><b>Minimum:</b> %{customdata[2]:.3f}<br><b>Using:</b><br>%{customdata[3]}",
         "marker": {
          "color": "#FF7F0E"
         },
         "name": "2 Nodes",
         "texttemplate": "%{y:.3r}",
         "visible": true,
         "x": [
          2
         ],
         "y": [
          1278.3821190041158
         ],
         "type": "bar"
        },
        {
         "customdata": [
          [
           12.87618722020952,
           565.9590245711152,
           528.5642748128157,
           "555.449<br>542.763<br>565.959<br>556.707<br>528.564<br>559.11<br>534.397"
          ]
         ],
         "hovertemplate": "<b>Average:</b> %{y} +/-%{customdata[0]:.3f}<br><b>Maximum:</b> %{customdata[1]:.3f}<br><b>Minimum:</b> %{customdata[2]:.3f}<br><b>Using:</b><br>%{customdata[3]}",
         "marker": {
          "color": "#2CA02C"
         },
         "name": "4 Nodes",
         "texttemplate": "%{y:.3r}",
         "visible": true,
         "x": [
          4
         ],
         "y": [
          548.9926779365633
         ],
         "type": "bar"
        },
        {
         "customdata": [
          [
           5.35271891496251,
           292.2038199568633,
           278.60568394185975,
           "290.902<br>292.204<br>291.927<br>290.301<br>280.096<br>284.773<br>278.606"
          ]
         ],
         "hovertemplate": "<b>Average:</b> %{y} +/-%{customdata[0]:.3f}<br><b>Maximum:</b> %{customdata[1]:.3f}<br><b>Minimum:</b> %{customdata[2]:.3f}<br><b>Using:</b><br>%{customdata[3]}",
         "marker": {
          "color": "#D62728"
         },
         "name": "8 Nodes",
         "texttemplate": "%{y:.3r}",
         "visible": true,
         "x": [
          8
         ],
         "y": [
          286.972606316741
         ],
         "type": "bar"
        },
        {
         "customdata": [
          [
           1.1871529900240076,
           135.662331729196,
           131.88837560405955,
           "131.888<br>134.162<br>135.662<br>135.532<br>134.775<br>135.161<br>134.439"
          ]
         ],
         "hovertemplate": "<b>Average:</b> %{y} +/-%{customdata[0]:.3f}<br><b>Maximum:</b> %{customdata[1]:.3f}<br><b>Minimum:</b> %{customdata[2]:.3f}<br><b>Using:</b><br>%{customdata[3]}",
         "marker": {
          "color": "#9467BD"
         },
         "name": "16 Nodes",
         "texttemplate": "%{y:.3r}",
         "visible": true,
         "x": [
          16
         ],
         "y": [
          134.5170275551001
         ],
         "type": "bar"
        },
        {
         "customdata": [
          [
           2.2155855313497685,
           65.93959673121572,
           58.66939322417602,
           "58.669<br>62.621<br>63.535<br>64.667<br>64.174<br>65.078<br>65.94"
          ]
         ],
         "hovertemplate": "<b>Average:</b> %{y} +/-%{customdata[0]:.3f}<br><b>Maximum:</b> %{customdata[1]:.3f}<br><b>Minimum:</b> %{customdata[2]:.3f}<br><b>Using:</b><br>%{customdata[3]}",
         "marker": {
          "color": "#8C564B"
         },
         "name": "32 Nodes",
         "texttemplate": "%{y:.3r}",
         "visible": true,
         "x": [
          32
         ],
         "y": [
          63.52625965007714
         ],
         "type": "bar"
        },
        {
         "customdata": [
          [
           433.81680018735176,
           3600.0372043999378,
           2029.0853691000957,
           "2031.066<br>2138.197<br>2029.085<br>2117.454<br>2114.544<br>2100.791<br>2084.116<br>2127.245<br>2106.615<br>2107.107<br>..."
          ]
         ],
         "hovertemplate": "<b>Average:</b> %{y} +/-%{customdata[0]:.3f}<br><b>Maximum:</b> %{customdata[1]:.3f}<br><b>Minimum:</b> %{customdata[2]:.3f}<br><b>Using:</b><br>%{customdata[3]}",
         "marker": {
          "color": "#1F77B4"
         },
         "name": "1 Nodes",
         "texttemplate": "%{y:.3r}",
         "visible": false,
         "x": [
          1
         ],
         "y": [
          2232.387118475427
         ],
         "type": "bar"
        },
        {
         "customdata": [
          [
           36.58708303447304,
           1130.6405008579604,
           996.3403633350972,
           "1053.656<br>1016.014<br>996.34<br>1058.846<br>1056.016<br>1104.468<br>1112.424<br>1115.694<br>1095.953<br>1111.106<br>..."
          ]
         ],
         "hovertemplate": "<b>Average:</b> %{y} +/-%{customdata[0]:.3f}<br><b>Maximum:</b> %{customdata[1]:.3f}<br><b>Minimum:</b> %{customdata[2]:.3f}<br><b>Using:</b><br>%{customdata[3]}",
         "marker": {
          "color": "#FF7F0E"
         },
         "name": "2 Nodes",
         "texttemplate": "%{y:.3r}",
         "visible": false,
         "x": [
          2
         ],
         "y": [
          1084.981258140781
         ],
         "type": "bar"
        },
        {
         "customdata": [
          [
           18.310852221523735,
           545.0132404179312,
           482.1853377460502,
           "487.382<br>514.672<br>494.735<br>482.185<br>482.572<br>505.648<br>518.313<br>539.99<br>545.013<br>486.984<br>..."
          ]
         ],
         "hovertemplate": "<b>Average:</b> %{y} +/-%{customdata[0]:.3f}<br><b>Maximum:</b> %{customdata[1]:.3f}<br><b>Minimum:</b> %{customdata[2]:.3f}<br><b>Using:</b><br>%{customdata[3]}",
         "marker": {
          "color": "#2CA02C"
         },
         "name": "4 Nodes",
         "texttemplate": "%{y:.3r}",
         "visible": false,
         "x": [
          4
         ],
         "y": [
          500.1275432941312
         ],
         "type": "bar"
        },
        {
         "customdata": [
          [
           5.482718288075665,
           268.995110495016,
           243.0028503681533,
           "247.417<br>244.042<br>243.003<br>253.246<br>252.613<br>252.308<br>256.06<br>255.433<br>252.666<br>253.084<br>..."
          ]
         ],
         "hovertemplate": "<b>Average:</b> %{y} +/-%{customdata[0]:.3f}<br><b>Maximum:</b> %{customdata[1]:.3f}<br><b>Minimum:</b> %{customdata[2]:.3f}<br><b>Using:</b><br>%{customdata[3]}",
         "marker": {
          "color": "#D62728"
         },
         "name": "8 Nodes",
         "texttemplate": "%{y:.3r}",
         "visible": false,
         "x": [
          8
         ],
         "y": [
          253.0322443772354
         ],
         "type": "bar"
        },
        {
         "customdata": [
          [
           2.712280511666027,
           125.87444045767188,
           115.67181248124689,
           "122.791<br>118.127<br>115.672<br>119.869<br>119.857<br>119.378<br>120.5<br>125.37<br>120.013<br>125.874<br>..."
          ]
         ],
         "hovertemplate": "<b>Average:</b> %{y} +/-%{customdata[0]:.3f}<br><b>Maximum:</b> %{customdata[1]:.3f}<br><b>Minimum:</b> %{customdata[2]:.3f}<br><b>Using:</b><br>%{customdata[3]}",
         "marker": {
          "color": "#9467BD"
         },
         "name": "16 Nodes",
         "texttemplate": "%{y:.3r}",
         "visible": false,
         "x": [
          16
         ],
         "y": [
          120.94332435140934
         ],
         "type": "bar"
        },
        {
         "customdata": [
          [
           5.2062596960131335,
           67.66360291978344,
           48.187859100755304,
           "58.905<br>50.374<br>48.188<br>64.115<br>53.375<br>63.186<br>56.004<br>57.317<br>59.852<br>67.664<br>..."
          ]
         ],
         "hovertemplate": "<b>Average:</b> %{y} +/-%{customdata[0]:.3f}<br><b>Maximum:</b> %{customdata[1]:.3f}<br><b>Minimum:</b> %{customdata[2]:.3f}<br><b>Using:</b><br>%{customdata[3]}",
         "marker": {
          "color": "#8C564B"
         },
         "name": "32 Nodes",
         "texttemplate": "%{y:.3r}",
         "visible": false,
         "x": [
          32
         ],
         "y": [
          59.09581518710098
         ],
         "type": "bar"
        },
        {
         "customdata": [],
         "hovertemplate": "<b>Average:</b> %{y} +/-%{customdata[0]:.3f}<br><b>Maximum:</b> %{customdata[1]:.3f}<br><b>Minimum:</b> %{customdata[2]:.3f}<br><b>Using:</b><br>%{customdata[3]}",
         "marker": {
          "color": "#1F77B4"
         },
         "name": "1 Nodes",
         "texttemplate": "%{y:.3r}",
         "visible": false,
         "x": [
          1
         ],
         "y": [],
         "type": "bar"
        },
        {
         "customdata": [],
         "hovertemplate": "<b>Average:</b> %{y} +/-%{customdata[0]:.3f}<br><b>Maximum:</b> %{customdata[1]:.3f}<br><b>Minimum:</b> %{customdata[2]:.3f}<br><b>Using:</b><br>%{customdata[3]}",
         "marker": {
          "color": "#FF7F0E"
         },
         "name": "2 Nodes",
         "texttemplate": "%{y:.3r}",
         "visible": false,
         "x": [
          2
         ],
         "y": [],
         "type": "bar"
        },
        {
         "customdata": [
          [
           77.7490790856451,
           4430.085106567014,
           4121.758417467121,
           "4249.973<br>4289.837<br>4430.085<br>4121.758<br>4331.843<br>4258.2<br>4259.678<br>4228.436<br>4286.995"
          ]
         ],
         "hovertemplate": "<b>Average:</b> %{y} +/-%{customdata[0]:.3f}<br><b>Maximum:</b> %{customdata[1]:.3f}<br><b>Minimum:</b> %{customdata[2]:.3f}<br><b>Using:</b><br>%{customdata[3]}",
         "marker": {
          "color": "#2CA02C"
         },
         "name": "4 Nodes",
         "texttemplate": "%{y:.3r}",
         "visible": false,
         "x": [
          4
         ],
         "y": [
          4272.978284515802
         ],
         "type": "bar"
        },
        {
         "customdata": [
          [
           0.0,
           3231.19698284287,
           3231.19698284287,
           "3231.197"
          ]
         ],
         "hovertemplate": "<b>Average:</b> %{y} +/-%{customdata[0]:.3f}<br><b>Maximum:</b> %{customdata[1]:.3f}<br><b>Minimum:</b> %{customdata[2]:.3f}<br><b>Using:</b><br>%{customdata[3]}",
         "marker": {
          "color": "#D62728"
         },
         "name": "8 Nodes",
         "texttemplate": "%{y:.3r}",
         "visible": false,
         "x": [
          8
         ],
         "y": [
          3231.19698284287
         ],
         "type": "bar"
        },
        {
         "customdata": [],
         "hovertemplate": "<b>Average:</b> %{y} +/-%{customdata[0]:.3f}<br><b>Maximum:</b> %{customdata[1]:.3f}<br><b>Minimum:</b> %{customdata[2]:.3f}<br><b>Using:</b><br>%{customdata[3]}",
         "marker": {
          "color": "#9467BD"
         },
         "name": "16 Nodes",
         "texttemplate": "%{y:.3r}",
         "visible": false,
         "x": [
          16
         ],
         "y": [],
         "type": "bar"
        },
        {
         "customdata": [
          [
           14.257534218365452,
           412.01823760708794,
           365.94652909832075,
           "383.151<br>412.018<br>378.854<br>373.216<br>395.662<br>365.947<br>391.325"
          ]
         ],
         "hovertemplate": "<b>Average:</b> %{y} +/-%{customdata[0]:.3f}<br><b>Maximum:</b> %{customdata[1]:.3f}<br><b>Minimum:</b> %{customdata[2]:.3f}<br><b>Using:</b><br>%{customdata[3]}",
         "marker": {
          "color": "#8C564B"
         },
         "name": "32 Nodes",
         "texttemplate": "%{y:.3r}",
         "visible": false,
         "x": [
          32
         ],
         "y": [
          385.73890056248223
         ],
         "type": "bar"
        },
        {
         "customdata": [],
         "hovertemplate": "<b>Average:</b> %{y} +/-%{customdata[0]:.3f}<br><b>Maximum:</b> %{customdata[1]:.3f}<br><b>Minimum:</b> %{customdata[2]:.3f}<br><b>Using:</b><br>%{customdata[3]}",
         "marker": {
          "color": "#1F77B4"
         },
         "name": "1 Nodes",
         "texttemplate": "%{y:.3r}",
         "visible": false,
         "x": [
          1
         ],
         "y": [],
         "type": "bar"
        },
        {
         "customdata": [],
         "hovertemplate": "<b>Average:</b> %{y} +/-%{customdata[0]:.3f}<br><b>Maximum:</b> %{customdata[1]:.3f}<br><b>Minimum:</b> %{customdata[2]:.3f}<br><b>Using:</b><br>%{customdata[3]}",
         "marker": {
          "color": "#FF7F0E"
         },
         "name": "2 Nodes",
         "texttemplate": "%{y:.3r}",
         "visible": false,
         "x": [
          2
         ],
         "y": [],
         "type": "bar"
        },
        {
         "customdata": [
          [
           52.46078414896029,
           5236.8290179879405,
           5038.13990059169,
           "5113.659<br>5159.975<br>5236.829<br>5144.462<br>5130.829<br>5038.14<br>5112.308<br>5142.221<br>5073.03<br>5181.951<br>..."
          ]
         ],
         "hovertemplate": "<b>Average:</b> %{y} +/-%{customdata[0]:.3f}<br><b>Maximum:</b> %{customdata[1]:.3f}<br><b>Minimum:</b> %{customdata[2]:.3f}<br><b>Using:</b><br>%{customdata[3]}",
         "marker": {
          "color": "#2CA02C"
         },
         "name": "4 Nodes",
         "texttemplate": "%{y:.3r}",
         "visible": false,
         "x": [
          4
         ],
         "y": [
          5133.340400877455
         ],
         "type": "bar"
        },
        {
         "customdata": [],
         "hovertemplate": "<b>Average:</b> %{y} +/-%{customdata[0]:.3f}<br><b>Maximum:</b> %{customdata[1]:.3f}<br><b>Minimum:</b> %{customdata[2]:.3f}<br><b>Using:</b><br>%{customdata[3]}",
         "marker": {
          "color": "#D62728"
         },
         "name": "8 Nodes",
         "texttemplate": "%{y:.3r}",
         "visible": false,
         "x": [
          8
         ],
         "y": [],
         "type": "bar"
        },
        {
         "customdata": [],
         "hovertemplate": "<b>Average:</b> %{y} +/-%{customdata[0]:.3f}<br><b>Maximum:</b> %{customdata[1]:.3f}<br><b>Minimum:</b> %{customdata[2]:.3f}<br><b>Using:</b><br>%{customdata[3]}",
         "marker": {
          "color": "#9467BD"
         },
         "name": "16 Nodes",
         "texttemplate": "%{y:.3r}",
         "visible": false,
         "x": [
          16
         ],
         "y": [],
         "type": "bar"
        },
        {
         "customdata": [
          [
           19.435781559498828,
           557.3670004801825,
           508.04325856873766,
           "508.043<br>508.416<br>510.469<br>551.471<br>557.367<br>531.787<br>540.123"
          ]
         ],
         "hovertemplate": "<b>Average:</b> %{y} +/-%{customdata[0]:.3f}<br><b>Maximum:</b> %{customdata[1]:.3f}<br><b>Minimum:</b> %{customdata[2]:.3f}<br><b>Using:</b><br>%{customdata[3]}",
         "marker": {
          "color": "#8C564B"
         },
         "name": "32 Nodes",
         "texttemplate": "%{y:.3r}",
         "visible": false,
         "x": [
          32
         ],
         "y": [
          529.667892168409
         ],
         "type": "bar"
        },
        {
         "customdata": [
          [
           49.615252566111415,
           1888.656876476016,
           1728.660190679133,
           "1739.913<br>1888.657<br>1728.66<br>1787.908<br>1880.993<br>1731.898<br>1851.592<br>1822.668<br>1779.999<br>1814.803<br>..."
          ]
         ],
         "hovertemplate": "<b>Average:</b> %{y} +/-%{customdata[0]:.3f}<br><b>Maximum:</b> %{customdata[1]:.3f}<br><b>Minimum:</b> %{customdata[2]:.3f}<br><b>Using:</b><br>%{customdata[3]}",
         "marker": {
          "color": "#1F77B4"
         },
         "name": "1 Nodes",
         "texttemplate": "%{y:.3r}",
         "visible": false,
         "x": [
          1
         ],
         "y": [
          1813.3981360503992
         ],
         "type": "bar"
        },
        {
         "customdata": [
          [
           19.074951463833823,
           950.3729761629365,
           867.1918242180254,
           "867.192<br>950.373<br>906.344<br>885.729<br>881.015<br>909.347<br>904.087<br>919.119<br>910.614<br>891.024<br>..."
          ]
         ],
         "hovertemplate": "<b>Average:</b> %{y} +/-%{customdata[0]:.3f}<br><b>Maximum:</b> %{customdata[1]:.3f}<br><b>Minimum:</b> %{customdata[2]:.3f}<br><b>Using:</b><br>%{customdata[3]}",
         "marker": {
          "color": "#FF7F0E"
         },
         "name": "2 Nodes",
         "texttemplate": "%{y:.3r}",
         "visible": false,
         "x": [
          2
         ],
         "y": [
          901.1522023792735
         ],
         "type": "bar"
        },
        {
         "customdata": [
          [
           12.1867524062709,
           420.62295808596537,
           360.1860932521522,
           "360.186<br>420.623<br>367.754<br>380.359<br>373.237<br>369.004<br>369.831<br>370.539<br>372.008<br>371.234<br>..."
          ]
         ],
         "hovertemplate": "<b>Average:</b> %{y} +/-%{customdata[0]:.3f}<br><b>Maximum:</b> %{customdata[1]:.3f}<br><b>Minimum:</b> %{customdata[2]:.3f}<br><b>Using:</b><br>%{customdata[3]}",
         "marker": {
          "color": "#2CA02C"
         },
         "name": "4 Nodes",
         "texttemplate": "%{y:.3r}",
         "visible": false,
         "x": [
          4
         ],
         "y": [
          374.38466261905234
         ],
         "type": "bar"
        },
        {
         "customdata": [
          [
           8.937221477348167,
           215.4038946570363,
           179.11636284086853,
           "179.116<br>203.567<br>184.145<br>184.407<br>186.484<br>182.445<br>185.474<br>185.183<br>215.404<br>183.848<br>..."
          ]
         ],
         "hovertemplate": "<b>Average:</b> %{y} +/-%{customdata[0]:.3f}<br><b>Maximum:</b> %{customdata[1]:.3f}<br><b>Minimum:</b> %{customdata[2]:.3f}<br><b>Using:</b><br>%{customdata[3]}",
         "marker": {
          "color": "#D62728"
         },
         "name": "8 Nodes",
         "texttemplate": "%{y:.3r}",
         "visible": false,
         "x": [
          8
         ],
         "y": [
          187.73631039227578
         ],
         "type": "bar"
        },
        {
         "customdata": [
          [
           5.929514520668461,
           108.84554803697392,
           88.48044012999162,
           "91.248<br>101.775<br>105.155<br>91.553<br>91.607<br>91.693<br>98.292<br>108.846<br>93.677<br>95.745<br>..."
          ]
         ],
         "hovertemplate": "<b>Average:</b> %{y} +/-%{customdata[0]:.3f}<br><b>Maximum:</b> %{customdata[1]:.3f}<br><b>Minimum:</b> %{customdata[2]:.3f}<br><b>Using:</b><br>%{customdata[3]}",
         "marker": {
          "color": "#9467BD"
         },
         "name": "16 Nodes",
         "texttemplate": "%{y:.3r}",
         "visible": false,
         "x": [
          16
         ],
         "y": [
          93.875868287184
         ],
         "type": "bar"
        },
        {
         "customdata": [
          [
           2.8057419635772725,
           53.73308042762801,
           41.30246428074315,
           "43.485<br>53.733<br>47.08<br>42.907<br>43.969<br>43.735<br>48.129<br>46.108<br>41.302<br>43.872<br>..."
          ]
         ],
         "hovertemplate": "<b>Average:</b> %{y} +/-%{customdata[0]:.3f}<br><b>Maximum:</b> %{customdata[1]:.3f}<br><b>Minimum:</b> %{customdata[2]:.3f}<br><b>Using:</b><br>%{customdata[3]}",
         "marker": {
          "color": "#8C564B"
         },
         "name": "32 Nodes",
         "texttemplate": "%{y:.3r}",
         "visible": false,
         "x": [
          32
         ],
         "y": [
          45.31952059241559
         ],
         "type": "bar"
        },
        {
         "customdata": [
          [
           2.255501285517579,
           213.03919890592806,
           205.21048436593264,
           "210.625<br>209.945<br>210.395<br>205.21<br>213.039<br>208.271<br>208.528"
          ]
         ],
         "hovertemplate": "<b>Average:</b> %{y} +/-%{customdata[0]:.3f}<br><b>Maximum:</b> %{customdata[1]:.3f}<br><b>Minimum:</b> %{customdata[2]:.3f}<br><b>Using:</b><br>%{customdata[3]}",
         "marker": {
          "color": "#1F77B4"
         },
         "name": "1 Nodes",
         "texttemplate": "%{y:.3r}",
         "visible": false,
         "x": [
          1
         ],
         "y": [
          209.430376210383
         ],
         "type": "bar"
        },
        {
         "customdata": [
          [
           0.44457168728042734,
           106.00097939907573,
           104.73219397198409,
           "105.674<br>104.882<br>105.37<br>104.732<br>106.001<br>105.098<br>105.788"
          ]
         ],
         "hovertemplate": "<b>Average:</b> %{y} +/-%{customdata[0]:.3f}<br><b>Maximum:</b> %{customdata[1]:.3f}<br><b>Minimum:</b> %{customdata[2]:.3f}<br><b>Using:</b><br>%{customdata[3]}",
         "marker": {
          "color": "#FF7F0E"
         },
         "name": "2 Nodes",
         "texttemplate": "%{y:.3r}",
         "visible": false,
         "x": [
          2
         ],
         "y": [
          105.36341434374584
         ],
         "type": "bar"
        },
        {
         "customdata": [
          [
           0.37594288593405545,
           52.64999827509746,
           51.42167600407265,
           "52.219<br>51.66<br>52.65<br>51.422<br>51.695<br>51.957<br>51.921"
          ]
         ],
         "hovertemplate": "<b>Average:</b> %{y} +/-%{customdata[0]:.3f}<br><b>Maximum:</b> %{customdata[1]:.3f}<br><b>Minimum:</b> %{customdata[2]:.3f}<br><b>Using:</b><br>%{customdata[3]}",
         "marker": {
          "color": "#2CA02C"
         },
         "name": "4 Nodes",
         "texttemplate": "%{y:.3r}",
         "visible": false,
         "x": [
          4
         ],
         "y": [
          51.93193558091298
         ],
         "type": "bar"
        },
        {
         "customdata": [
          [
           0.925106404949476,
           28.64489594218321,
           25.822643724968657,
           "28.645<br>25.823<br>25.982<br>25.829<br>26.208<br>26.487<br>26.11"
          ]
         ],
         "hovertemplate": "<b>Average:</b> %{y} +/-%{customdata[0]:.3f}<br><b>Maximum:</b> %{customdata[1]:.3f}<br><b>Minimum:</b> %{customdata[2]:.3f}<br><b>Using:</b><br>%{customdata[3]}",
         "marker": {
          "color": "#D62728"
         },
         "name": "8 Nodes",
         "texttemplate": "%{y:.3r}",
         "visible": false,
         "x": [
          8
         ],
         "y": [
          26.44051283398377
         ],
         "type": "bar"
        },
        {
         "customdata": [
          [
           0.8186207265155171,
           15.735090350732207,
           13.54062087321654,
           "14.57<br>15.735<br>15.479<br>15.291<br>14.027<br>13.76<br>13.541"
          ]
         ],
         "hovertemplate": "<b>Average:</b> %{y} +/-%{customdata[0]:.3f}<br><b>Maximum:</b> %{customdata[1]:.3f}<br><b>Minimum:</b> %{customdata[2]:.3f}<br><b>Using:</b><br>%{customdata[3]}",
         "marker": {
          "color": "#9467BD"
         },
         "name": "16 Nodes",
         "texttemplate": "%{y:.3r}",
         "visible": false,
         "x": [
          16
         ],
         "y": [
          14.628912477354918
         ],
         "type": "bar"
        },
        {
         "customdata": [
          [
           0.20813367097031868,
           8.32505031907931,
           7.651226557325572,
           "7.651<br>8.325<br>7.84<br>7.802<br>7.778<br>7.688<br>7.777"
          ]
         ],
         "hovertemplate": "<b>Average:</b> %{y} +/-%{customdata[0]:.3f}<br><b>Maximum:</b> %{customdata[1]:.3f}<br><b>Minimum:</b> %{customdata[2]:.3f}<br><b>Using:</b><br>%{customdata[3]}",
         "marker": {
          "color": "#8C564B"
         },
         "name": "32 Nodes",
         "texttemplate": "%{y:.3r}",
         "visible": false,
         "x": [
          32
         ],
         "y": [
          7.8372946243866215
         ],
         "type": "bar"
        },
        {
         "customdata": [],
         "hovertemplate": "<b>Average:</b> %{y} +/-%{customdata[0]:.3f}<br><b>Maximum:</b> %{customdata[1]:.3f}<br><b>Minimum:</b> %{customdata[2]:.3f}<br><b>Using:</b><br>%{customdata[3]}",
         "marker": {
          "color": "#1F77B4"
         },
         "name": "1 Nodes",
         "texttemplate": "%{y:.3r}",
         "visible": false,
         "x": [
          1
         ],
         "y": [],
         "type": "bar"
        },
        {
         "customdata": [],
         "hovertemplate": "<b>Average:</b> %{y} +/-%{customdata[0]:.3f}<br><b>Maximum:</b> %{customdata[1]:.3f}<br><b>Minimum:</b> %{customdata[2]:.3f}<br><b>Using:</b><br>%{customdata[3]}",
         "marker": {
          "color": "#FF7F0E"
         },
         "name": "2 Nodes",
         "texttemplate": "%{y:.3r}",
         "visible": false,
         "x": [
          2
         ],
         "y": [],
         "type": "bar"
        },
        {
         "customdata": [
          [
           530.4242826375572,
           3600.0311181589495,
           2219.5050200980622,
           "2350.134<br>2219.505<br>2220.564<br>2334.096<br>3600.031"
          ]
         ],
         "hovertemplate": "<b>Average:</b> %{y} +/-%{customdata[0]:.3f}<br><b>Maximum:</b> %{customdata[1]:.3f}<br><b>Minimum:</b> %{customdata[2]:.3f}<br><b>Using:</b><br>%{customdata[3]}",
         "marker": {
          "color": "#2CA02C"
         },
         "name": "4 Nodes",
         "texttemplate": "%{y:.3r}",
         "visible": false,
         "x": [
          4
         ],
         "y": [
          2544.8659935787787
         ],
         "type": "bar"
        },
        {
         "customdata": [
          [
           101.24990411630758,
           1335.8441617290955,
           1047.8957989569753,
           "1317.424<br>1068.17<br>1078.05<br>1129.259<br>1273.956<br>1174.492<br>1110.408<br>1247.425<br>1132.43<br>1335.844<br>..."
          ]
         ],
         "hovertemplate": "<b>Average:</b> %{y} +/-%{customdata[0]:.3f}<br><b>Maximum:</b> %{customdata[1]:.3f}<br><b>Minimum:</b> %{customdata[2]:.3f}<br><b>Using:</b><br>%{customdata[3]}",
         "marker": {
          "color": "#D62728"
         },
         "name": "8 Nodes",
         "texttemplate": "%{y:.3r}",
         "visible": false,
         "x": [
          8
         ],
         "y": [
          1144.8158823907622
         ],
         "type": "bar"
        },
        {
         "customdata": [
          [
           186.49120572642903,
           1304.246100329794,
           493.2862954312004,
           "633.132<br>501.668<br>499.826<br>557.612<br>1304.246<br>526.583<br>634.795<br>526.97<br>606.725<br>530.696<br>..."
          ]
         ],
         "hovertemplate": "<b>Average:</b> %{y} +/-%{customdata[0]:.3f}<br><b>Maximum:</b> %{customdata[1]:.3f}<br><b>Minimum:</b> %{customdata[2]:.3f}<br><b>Using:</b><br>%{customdata[3]}",
         "marker": {
          "color": "#9467BD"
         },
         "name": "16 Nodes",
         "texttemplate": "%{y:.3r}",
         "visible": false,
         "x": [
          16
         ],
         "y": [
          582.6069451520384
         ],
         "type": "bar"
        },
        {
         "customdata": [
          [
           38.59985560120105,
           393.2098467927426,
           264.2980560339056,
           "299.559<br>273.869<br>273.507<br>386.095<br>393.21<br>300.382<br>289.72<br>344.98<br>305.641<br>291.992<br>..."
          ]
         ],
         "hovertemplate": "<b>Average:</b> %{y} +/-%{customdata[0]:.3f}<br><b>Maximum:</b> %{customdata[1]:.3f}<br><b>Minimum:</b> %{customdata[2]:.3f}<br><b>Using:</b><br>%{customdata[3]}",
         "marker": {
          "color": "#8C564B"
         },
         "name": "32 Nodes",
         "texttemplate": "%{y:.3r}",
         "visible": false,
         "x": [
          32
         ],
         "y": [
          300.48676829360534
         ],
         "type": "bar"
        },
        {
         "customdata": [],
         "hovertemplate": "<b>Average:</b> %{y} +/-%{customdata[0]:.3f}<br><b>Maximum:</b> %{customdata[1]:.3f}<br><b>Minimum:</b> %{customdata[2]:.3f}<br><b>Using:</b><br>%{customdata[3]}",
         "marker": {
          "color": "#1F77B4"
         },
         "name": "1 Nodes",
         "texttemplate": "%{y:.3r}",
         "visible": false,
         "x": [
          1
         ],
         "y": [],
         "type": "bar"
        },
        {
         "customdata": [],
         "hovertemplate": "<b>Average:</b> %{y} +/-%{customdata[0]:.3f}<br><b>Maximum:</b> %{customdata[1]:.3f}<br><b>Minimum:</b> %{customdata[2]:.3f}<br><b>Using:</b><br>%{customdata[3]}",
         "marker": {
          "color": "#FF7F0E"
         },
         "name": "2 Nodes",
         "texttemplate": "%{y:.3r}",
         "visible": false,
         "x": [
          2
         ],
         "y": [],
         "type": "bar"
        },
        {
         "customdata": [],
         "hovertemplate": "<b>Average:</b> %{y} +/-%{customdata[0]:.3f}<br><b>Maximum:</b> %{customdata[1]:.3f}<br><b>Minimum:</b> %{customdata[2]:.3f}<br><b>Using:</b><br>%{customdata[3]}",
         "marker": {
          "color": "#2CA02C"
         },
         "name": "4 Nodes",
         "texttemplate": "%{y:.3r}",
         "visible": false,
         "x": [
          4
         ],
         "y": [],
         "type": "bar"
        },
        {
         "customdata": [],
         "hovertemplate": "<b>Average:</b> %{y} +/-%{customdata[0]:.3f}<br><b>Maximum:</b> %{customdata[1]:.3f}<br><b>Minimum:</b> %{customdata[2]:.3f}<br><b>Using:</b><br>%{customdata[3]}",
         "marker": {
          "color": "#D62728"
         },
         "name": "8 Nodes",
         "texttemplate": "%{y:.3r}",
         "visible": false,
         "x": [
          8
         ],
         "y": [],
         "type": "bar"
        },
        {
         "customdata": [],
         "hovertemplate": "<b>Average:</b> %{y} +/-%{customdata[0]:.3f}<br><b>Maximum:</b> %{customdata[1]:.3f}<br><b>Minimum:</b> %{customdata[2]:.3f}<br><b>Using:</b><br>%{customdata[3]}",
         "marker": {
          "color": "#9467BD"
         },
         "name": "16 Nodes",
         "texttemplate": "%{y:.3r}",
         "visible": false,
         "x": [
          16
         ],
         "y": [],
         "type": "bar"
        },
        {
         "customdata": [
          [
           535.6749169360729,
           2263.884091910906,
           575.0339033883065,
           "819.388<br>2263.884<br>1274.917<br>639.709<br>980.219<br>575.034<br>867.616"
          ]
         ],
         "hovertemplate": "<b>Average:</b> %{y} +/-%{customdata[0]:.3f}<br><b>Maximum:</b> %{customdata[1]:.3f}<br><b>Minimum:</b> %{customdata[2]:.3f}<br><b>Using:</b><br>%{customdata[3]}",
         "marker": {
          "color": "#8C564B"
         },
         "name": "32 Nodes",
         "texttemplate": "%{y:.3r}",
         "visible": false,
         "x": [
          32
         ],
         "y": [
          1060.1095431755696
         ],
         "type": "bar"
        },
        {
         "customdata": [
          [
           26.738236148535528,
           92.80499579408206,
           0.08058743388392031,
           "71.436<br>71.614<br>92.805<br>8.007<br>64.562<br>40.097<br>75.146<br>50.561<br>77.409<br>72.107<br>..."
          ]
         ],
         "hovertemplate": "<b>Average:</b> %{y} +/-%{customdata[0]:.3f}<br><b>Maximum:</b> %{customdata[1]:.3f}<br><b>Minimum:</b> %{customdata[2]:.3f}<br><b>Using:</b><br>%{customdata[3]}",
         "marker": {
          "color": "#1F77B4"
         },
         "name": "1 Nodes",
         "texttemplate": "%{y:.3r}",
         "visible": false,
         "x": [
          1
         ],
         "y": [
          51.445095558274296
         ],
         "type": "bar"
        },
        {
         "customdata": [
          [
           13.617051764621758,
           68.22037794697098,
           0.9715839268174022,
           "27.155<br>68.22<br>56.039<br>22.007<br>5.085<br>30.794<br>7.517<br>16.173<br>0.972<br>24.736<br>..."
          ]
         ],
         "hovertemplate": "<b>Average:</b> %{y} +/-%{customdata[0]:.3f}<br><b>Maximum:</b> %{customdata[1]:.3f}<br><b>Minimum:</b> %{customdata[2]:.3f}<br><b>Using:</b><br>%{customdata[3]}",
         "marker": {
          "color": "#FF7F0E"
         },
         "name": "2 Nodes",
         "texttemplate": "%{y:.3r}",
         "visible": false,
         "x": [
          2
         ],
         "y": [
          23.26491664061224
         ],
         "type": "bar"
        },
        {
         "customdata": [
          [
           5.624778536183987,
           34.023974963929504,
           0.11303903697989881,
           "17.901<br>19.942<br>34.024<br>7.185<br>4.507<br>5.607<br>14.133<br>6.242<br>11.454<br>3.975<br>..."
          ]
         ],
         "hovertemplate": "<b>Average:</b> %{y} +/-%{customdata[0]:.3f}<br><b>Maximum:</b> %{customdata[1]:.3f}<br><b>Minimum:</b> %{customdata[2]:.3f}<br><b>Using:</b><br>%{customdata[3]}",
         "marker": {
          "color": "#2CA02C"
         },
         "name": "4 Nodes",
         "texttemplate": "%{y:.3r}",
         "visible": false,
         "x": [
          4
         ],
         "y": [
          7.354935139472141
         ],
         "type": "bar"
        },
        {
         "customdata": [
          [
           2.7692808410305174,
           13.551974300062284,
           0.7780010751448572,
           "3.162<br>8.661<br>7.555<br>0.909<br>2.785<br>13.552<br>13.383<br>1.333<br>3.293<br>0.778<br>..."
          ]
         ],
         "hovertemplate": "<b>Average:</b> %{y} +/-%{customdata[0]:.3f}<br><b>Maximum:</b> %{customdata[1]:.3f}<br><b>Minimum:</b> %{customdata[2]:.3f}<br><b>Using:</b><br>%{customdata[3]}",
         "marker": {
          "color": "#D62728"
         },
         "name": "8 Nodes",
         "texttemplate": "%{y:.3r}",
         "visible": false,
         "x": [
          8
         ],
         "y": [
          3.5749623068420098
         ],
         "type": "bar"
        },
        {
         "customdata": [
          [
           1.037415487572598,
           6.614503377117217,
           0.1970094651915133,
           "0.265<br>1.71<br>1.918<br>1.66<br>1.13<br>4.632<br>6.615<br>0.71<br>1.071<br>1.328<br>..."
          ]
         ],
         "hovertemplate": "<b>Average:</b> %{y} +/-%{customdata[0]:.3f}<br><b>Maximum:</b> %{customdata[1]:.3f}<br><b>Minimum:</b> %{customdata[2]:.3f}<br><b>Using:</b><br>%{customdata[3]}",
         "marker": {
          "color": "#9467BD"
         },
         "name": "16 Nodes",
         "texttemplate": "%{y:.3r}",
         "visible": false,
         "x": [
          16
         ],
         "y": [
          1.4381882265665906
         ],
         "type": "bar"
        },
        {
         "customdata": [
          [
           0.6266148174942093,
           3.7573389220051467,
           0.22568948799744248,
           "0.699<br>0.955<br>0.531<br>0.457<br>0.703<br>3.757<br>3.112<br>0.449<br>0.438<br>0.406<br>..."
          ]
         ],
         "hovertemplate": "<b>Average:</b> %{y} +/-%{customdata[0]:.3f}<br><b>Maximum:</b> %{customdata[1]:.3f}<br><b>Minimum:</b> %{customdata[2]:.3f}<br><b>Using:</b><br>%{customdata[3]}",
         "marker": {
          "color": "#8C564B"
         },
         "name": "32 Nodes",
         "texttemplate": "%{y:.3r}",
         "visible": false,
         "x": [
          32
         ],
         "y": [
          0.5636573028453487
         ],
         "type": "bar"
        },
        {
         "customdata": [
          [
           27.395334513850788,
           96.9663975990843,
           0.21077739307656884,
           "46.089<br>54.43<br>47.472<br>65.62<br>0.335<br>47.523<br>19.049<br>62.81<br>61.899<br>63.863<br>..."
          ]
         ],
         "hovertemplate": "<b>Average:</b> %{y} +/-%{customdata[0]:.3f}<br><b>Maximum:</b> %{customdata[1]:.3f}<br><b>Minimum:</b> %{customdata[2]:.3f}<br><b>Using:</b><br>%{customdata[3]}",
         "marker": {
          "color": "#1F77B4"
         },
         "name": "1 Nodes",
         "texttemplate": "%{y:.3r}",
         "visible": false,
         "x": [
          1
         ],
         "y": [
          44.078243732482115
         ],
         "type": "bar"
        },
        {
         "customdata": [
          [
           13.230452292295634,
           65.19357958505861,
           0.19652437209151685,
           "13.615<br>65.194<br>39.394<br>13.089<br>26.455<br>3.989<br>16.857<br>0.852<br>29.778<br>9.416<br>..."
          ]
         ],
         "hovertemplate": "<b>Average:</b> %{y} +/-%{customdata[0]:.3f}<br><b>Maximum:</b> %{customdata[1]:.3f}<br><b>Minimum:</b> %{customdata[2]:.3f}<br><b>Using:</b><br>%{customdata[3]}",
         "marker": {
          "color": "#FF7F0E"
         },
         "name": "2 Nodes",
         "texttemplate": "%{y:.3r}",
         "visible": false,
         "x": [
          2
         ],
         "y": [
          22.343472172843015
         ],
         "type": "bar"
        },
        {
         "customdata": [
          [
           3.9468078585918707,
           22.518773270072415,
           0.27245984389446676,
           "8.082<br>22.519<br>0.357<br>11.759<br>3.655<br>13.696<br>17.278<br>0.971<br>7.766<br>7.491<br>..."
          ]
         ],
         "hovertemplate": "<b>Average:</b> %{y} +/-%{customdata[0]:.3f}<br><b>Maximum:</b> %{customdata[1]:.3f}<br><b>Minimum:</b> %{customdata[2]:.3f}<br><b>Using:</b><br>%{customdata[3]}",
         "marker": {
          "color": "#2CA02C"
         },
         "name": "4 Nodes",
         "texttemplate": "%{y:.3r}",
         "visible": false,
         "x": [
          4
         ],
         "y": [
          6.754335740511801
         ],
         "type": "bar"
        },
        {
         "customdata": [
          [
           2.458100780694122,
           14.200616657035425,
           0.33055191999301314,
           "4.709<br>14.201<br>4.212<br>4.458<br>3.142<br>3.571<br>4.277<br>2.392<br>1.213<br>4.17<br>..."
          ]
         ],
         "hovertemplate": "<b>Average:</b> %{y} +/-%{customdata[0]:.3f}<br><b>Maximum:</b> %{customdata[1]:.3f}<br><b>Minimum:</b> %{customdata[2]:.3f}<br><b>Using:</b><br>%{customdata[3]}",
         "marker": {
          "color": "#D62728"
         },
         "name": "8 Nodes",
         "texttemplate": "%{y:.3r}",
         "visible": false,
         "x": [
          8
         ],
         "y": [
          4.042850160461038
         ],
         "type": "bar"
        },
        {
         "customdata": [
          [
           1.0567831181560154,
           6.794837557245046,
           0.4135774429887533,
           "0.485<br>6.795<br>1.714<br>2.918<br>1.687<br>1.818<br>2.546<br>1.772<br>0.421<br>1.782<br>..."
          ]
         ],
         "hovertemplate": "<b>Average:</b> %{y} +/-%{customdata[0]:.3f}<br><b>Maximum:</b> %{customdata[1]:.3f}<br><b>Minimum:</b> %{customdata[2]:.3f}<br><b>Using:</b><br>%{customdata[3]}",
         "marker": {
          "color": "#9467BD"
         },
         "name": "16 Nodes",
         "texttemplate": "%{y:.3r}",
         "visible": false,
         "x": [
          16
         ],
         "y": [
          1.6232189582660794
         ],
         "type": "bar"
        },
        {
         "customdata": [
          [
           0.4704864452365721,
           3.753158784005791,
           0.4715214241296053,
           "0.762<br>3.753<br>0.564<br>0.94<br>0.949<br>0.712<br>0.723<br>0.945<br>0.876<br>0.529<br>..."
          ]
         ],
         "hovertemplate": "<b>Average:</b> %{y} +/-%{customdata[0]:.3f}<br><b>Maximum:</b> %{customdata[1]:.3f}<br><b>Minimum:</b> %{customdata[2]:.3f}<br><b>Using:</b><br>%{customdata[3]}",
         "marker": {
          "color": "#8C564B"
         },
         "name": "32 Nodes",
         "texttemplate": "%{y:.3r}",
         "visible": false,
         "x": [
          32
         ],
         "y": [
          0.7463496557258545
         ],
         "type": "bar"
        },
        {
         "customdata": [
          [
           1.9856605378284167,
           9.674280396895483,
           0.18087760382331908,
           "3.43<br>2.985<br>5.049<br>9.674<br>4.006<br>1.908<br>5.239<br>2.421<br>1.696<br>0.5<br>..."
          ]
         ],
         "hovertemplate": "<b>Average:</b> %{y} +/-%{customdata[0]:.3f}<br><b>Maximum:</b> %{customdata[1]:.3f}<br><b>Minimum:</b> %{customdata[2]:.3f}<br><b>Using:</b><br>%{customdata[3]}",
         "marker": {
          "color": "#1F77B4"
         },
         "name": "1 Nodes",
         "texttemplate": "%{y:.3r}",
         "visible": false,
         "x": [
          1
         ],
         "y": [
          2.5094033171363335
         ],
         "type": "bar"
        },
        {
         "customdata": [
          [
           0.9899369618425145,
           4.834275701781735,
           0.2616578759625554,
           "3.728<br>1.866<br>1.734<br>3.282<br>4.834<br>0.985<br>0.484<br>1.123<br>0.756<br>0.759<br>..."
          ]
         ],
         "hovertemplate": "<b>Average:</b> %{y} +/-%{customdata[0]:.3f}<br><b>Maximum:</b> %{customdata[1]:.3f}<br><b>Minimum:</b> %{customdata[2]:.3f}<br><b>Using:</b><br>%{customdata[3]}",
         "marker": {
          "color": "#FF7F0E"
         },
         "name": "2 Nodes",
         "texttemplate": "%{y:.3r}",
         "visible": false,
         "x": [
          2
         ],
         "y": [
          1.5160623155633344
         ],
         "type": "bar"
        },
        {
         "customdata": [
          [
           0.5677396349836522,
           2.642760860035196,
           0.24758315295912325,
           "2.643<br>2.197<br>0.522<br>2.028<br>0.985<br>0.577<br>0.756<br>1.317<br>0.932<br>1.207<br>..."
          ]
         ],
         "hovertemplate": "<b>Average:</b> %{y} +/-%{customdata[0]:.3f}<br><b>Maximum:</b> %{customdata[1]:.3f}<br><b>Minimum:</b> %{customdata[2]:.3f}<br><b>Using:</b><br>%{customdata[3]}",
         "marker": {
          "color": "#2CA02C"
         },
         "name": "4 Nodes",
         "texttemplate": "%{y:.3r}",
         "visible": false,
         "x": [
          4
         ],
         "y": [
          0.9825612648310972
         ],
         "type": "bar"
        },
        {
         "customdata": [
          [
           0.3982582817024422,
           2.1458655141759664,
           0.32147404295392334,
           "1.538<br>1.116<br>1.527<br>1.595<br>1.024<br>0.684<br>0.606<br>1.705<br>0.604<br>1.185<br>..."
          ]
         ],
         "hovertemplate": "<b>Average:</b> %{y} +/-%{customdata[0]:.3f}<br><b>Maximum:</b> %{customdata[1]:.3f}<br><b>Minimum:</b> %{customdata[2]:.3f}<br><b>Using:</b><br>%{customdata[3]}",
         "marker": {
          "color": "#D62728"
         },
         "name": "8 Nodes",
         "texttemplate": "%{y:.3r}",
         "visible": false,
         "x": [
          8
         ],
         "y": [
          0.8473817059730596
         ],
         "type": "bar"
        },
        {
         "customdata": [
          [
           0.28235792974574797,
           1.5769052016548812,
           0.4345451961271465,
           "1.022<br>1.308<br>0.627<br>1.496<br>0.715<br>0.68<br>0.596<br>0.494<br>0.477<br>1.41<br>..."
          ]
         ],
         "hovertemplate": "<b>Average:</b> %{y} +/-%{customdata[0]:.3f}<br><b>Maximum:</b> %{customdata[1]:.3f}<br><b>Minimum:</b> %{customdata[2]:.3f}<br><b>Using:</b><br>%{customdata[3]}",
         "marker": {
          "color": "#9467BD"
         },
         "name": "16 Nodes",
         "texttemplate": "%{y:.3r}",
         "visible": false,
         "x": [
          16
         ],
         "y": [
          0.725877589546144
         ],
         "type": "bar"
        },
        {
         "customdata": [
          [
           0.2662521049435835,
           1.6980274938978255,
           0.5263987518846989,
           "1.565<br>1.036<br>1.698<br>1.391<br>1.214<br>1.098<br>0.844<br>0.995<br>0.888<br>0.857<br>..."
          ]
         ],
         "hovertemplate": "<b>Average:</b> %{y} +/-%{customdata[0]:.3f}<br><b>Maximum:</b> %{customdata[1]:.3f}<br><b>Minimum:</b> %{customdata[2]:.3f}<br><b>Using:</b><br>%{customdata[3]}",
         "marker": {
          "color": "#8C564B"
         },
         "name": "32 Nodes",
         "texttemplate": "%{y:.3r}",
         "visible": false,
         "x": [
          32
         ],
         "y": [
          0.8642644224529887
         ],
         "type": "bar"
        },
        {
         "customdata": [
          [
           1.0245801663881573,
           5.318331117043272,
           0.13206508988514543,
           "2.963<br>2.882<br>2.724<br>0.773<br>1.573<br>0.497<br>0.393<br>0.706<br>1.588<br>0.242<br>..."
          ]
         ],
         "hovertemplate": "<b>Average:</b> %{y} +/-%{customdata[0]:.3f}<br><b>Maximum:</b> %{customdata[1]:.3f}<br><b>Minimum:</b> %{customdata[2]:.3f}<br><b>Using:</b><br>%{customdata[3]}",
         "marker": {
          "color": "#1F77B4"
         },
         "name": "1 Nodes",
         "texttemplate": "%{y:.3r}",
         "visible": false,
         "x": [
          1
         ],
         "y": [
          1.163901081734753
         ],
         "type": "bar"
        },
        {
         "customdata": [
          [
           0.4989788162975451,
           2.206409632926807,
           0.11855070386081934,
           "1.986<br>0.957<br>1.041<br>0.93<br>0.574<br>0.588<br>1.04<br>0.498<br>1.664<br>0.313<br>..."
          ]
         ],
         "hovertemplate": "<b>Average:</b> %{y} +/-%{customdata[0]:.3f}<br><b>Maximum:</b> %{customdata[1]:.3f}<br><b>Minimum:</b> %{customdata[2]:.3f}<br><b>Using:</b><br>%{customdata[3]}",
         "marker": {
          "color": "#FF7F0E"
         },
         "name": "2 Nodes",
         "texttemplate": "%{y:.3r}",
         "visible": false,
         "x": [
          2
         ],
         "y": [
          0.7036461464149204
         ],
         "type": "bar"
        },
        {
         "customdata": [
          [
           0.23035636850432686,
           1.2660064839292318,
           0.15251847612671554,
           "1.266<br>0.593<br>0.652<br>0.425<br>0.398<br>0.564<br>0.549<br>0.462<br>0.779<br>0.341<br>..."
          ]
         ],
         "hovertemplate": "<b>Average:</b> %{y} +/-%{customdata[0]:.3f}<br><b>Maximum:</b> %{customdata[1]:.3f}<br><b>Minimum:</b> %{customdata[2]:.3f}<br><b>Using:</b><br>%{customdata[3]}",
         "marker": {
          "color": "#2CA02C"
         },
         "name": "4 Nodes",
         "texttemplate": "%{y:.3r}",
         "visible": false,
         "x": [
          4
         ],
         "y": [
          0.3819424738968782
         ],
         "type": "bar"
        },
        {
         "customdata": [
          [
           0.18066246839048206,
           0.9246622149366885,
           0.176947871921584,
           "0.853<br>0.585<br>0.562<br>0.291<br>0.288<br>0.309<br>0.532<br>0.242<br>0.388<br>0.772<br>..."
          ]
         ],
         "hovertemplate": "<b>Average:</b> %{y} +/-%{customdata[0]:.3f}<br><b>Maximum:</b> %{customdata[1]:.3f}<br><b>Minimum:</b> %{customdata[2]:.3f}<br><b>Using:</b><br>%{customdata[3]}",
         "marker": {
          "color": "#D62728"
         },
         "name": "8 Nodes",
         "texttemplate": "%{y:.3r}",
         "visible": false,
         "x": [
          8
         ],
         "y": [
          0.392823421653915
         ],
         "type": "bar"
        },
        {
         "customdata": [
          [
           0.143301154777636,
           0.8150427173823118,
           0.22260870318859816,
           "0.747<br>0.576<br>0.385<br>0.462<br>0.623<br>0.543<br>0.648<br>0.285<br>0.27<br>0.374<br>..."
          ]
         ],
         "hovertemplate": "<b>Average:</b> %{y} +/-%{customdata[0]:.3f}<br><b>Maximum:</b> %{customdata[1]:.3f}<br><b>Minimum:</b> %{customdata[2]:.3f}<br><b>Using:</b><br>%{customdata[3]}",
         "marker": {
          "color": "#9467BD"
         },
         "name": "16 Nodes",
         "texttemplate": "%{y:.3r}",
         "visible": false,
         "x": [
          16
         ],
         "y": [
          0.40081056448175234
         ],
         "type": "bar"
        },
        {
         "customdata": [
          [
           0.199297342239583,
           1.3123539579100907,
           0.2599600306712091,
           "1.312<br>1.078<br>0.503<br>0.562<br>0.606<br>0.547<br>0.419<br>0.512<br>0.468<br>0.377<br>..."
          ]
         ],
         "hovertemplate": "<b>Average:</b> %{y} +/-%{customdata[0]:.3f}<br><b>Maximum:</b> %{customdata[1]:.3f}<br><b>Minimum:</b> %{customdata[2]:.3f}<br><b>Using:</b><br>%{customdata[3]}",
         "marker": {
          "color": "#8C564B"
         },
         "name": "32 Nodes",
         "texttemplate": "%{y:.3r}",
         "visible": false,
         "x": [
          32
         ],
         "y": [
          0.40414955550210274
         ],
         "type": "bar"
        },
        {
         "customdata": [
          [
           0.33109715558210234,
           1.4414395468775183,
           0.056383271934464574,
           "0.073<br>1.411<br>0.108<br>0.091<br>0.08<br>0.079<br>1.441<br>0.146<br>0.109<br>0.16<br>..."
          ]
         ],
         "hovertemplate": "<b>Average:</b> %{y} +/-%{customdata[0]:.3f}<br><b>Maximum:</b> %{customdata[1]:.3f}<br><b>Minimum:</b> %{customdata[2]:.3f}<br><b>Using:</b><br>%{customdata[3]}",
         "marker": {
          "color": "#1F77B4"
         },
         "name": "1 Nodes",
         "texttemplate": "%{y:.3r}",
         "visible": false,
         "x": [
          1
         ],
         "y": [
          0.15903092598780355
         ],
         "type": "bar"
        },
        {
         "customdata": [
          [
           0.37539586485158927,
           1.8375712188426405,
           0.05266940011642873,
           "0.07<br>1.497<br>0.147<br>0.084<br>0.076<br>0.08<br>1.838<br>0.14<br>0.113<br>0.149<br>..."
          ]
         ],
         "hovertemplate": "<b>Average:</b> %{y} +/-%{customdata[0]:.3f}<br><b>Maximum:</b> %{customdata[1]:.3f}<br><b>Minimum:</b> %{customdata[2]:.3f}<br><b>Using:</b><br>%{customdata[3]}",
         "marker": {
          "color": "#FF7F0E"
         },
         "name": "2 Nodes",
         "texttemplate": "%{y:.3r}",
         "visible": false,
         "x": [
          2
         ],
         "y": [
          0.16657635885627664
         ],
         "type": "bar"
        },
        {
         "customdata": [
          [
           0.4056184956942158,
           1.9750637030228972,
           0.05562538397498429,
           "0.076<br>1.608<br>0.113<br>0.111<br>0.086<br>0.106<br>1.975<br>0.155<br>0.117<br>0.244<br>..."
          ]
         ],
         "hovertemplate": "<b>Average:</b> %{y} +/-%{customdata[0]:.3f}<br><b>Maximum:</b> %{customdata[1]:.3f}<br><b>Minimum:</b> %{customdata[2]:.3f}<br><b>Using:</b><br>%{customdata[3]}",
         "marker": {
          "color": "#2CA02C"
         },
         "name": "4 Nodes",
         "texttemplate": "%{y:.3r}",
         "visible": false,
         "x": [
          4
         ],
         "y": [
          0.18105338496017329
         ],
         "type": "bar"
        },
        {
         "customdata": [
          [
           0.2995798170308143,
           1.6436242209747434,
           0.05278006219305098,
           "0.065<br>0.075<br>0.072<br>0.064<br>0.063<br>0.065<br>1.437<br>0.177<br>0.135<br>0.265<br>..."
          ]
         ],
         "hovertemplate": "<b>Average:</b> %{y} +/-%{customdata[0]:.3f}<br><b>Maximum:</b> %{customdata[1]:.3f}<br><b>Minimum:</b> %{customdata[2]:.3f}<br><b>Using:</b><br>%{customdata[3]}",
         "marker": {
          "color": "#D62728"
         },
         "name": "8 Nodes",
         "texttemplate": "%{y:.3r}",
         "visible": false,
         "x": [
          8
         ],
         "y": [
          0.13371386802061758
         ],
         "type": "bar"
        },
        {
         "customdata": [
          [
           0.2993115381038372,
           1.586174163967371,
           0.05846220115199685,
           "0.09<br>0.116<br>0.084<br>0.083<br>0.091<br>0.085<br>1.54<br>0.178<br>0.157<br>0.198<br>..."
          ]
         ],
         "hovertemplate": "<b>Average:</b> %{y} +/-%{customdata[0]:.3f}<br><b>Maximum:</b> %{customdata[1]:.3f}<br><b>Minimum:</b> %{customdata[2]:.3f}<br><b>Using:</b><br>%{customdata[3]}",
         "marker": {
          "color": "#9467BD"
         },
         "name": "16 Nodes",
         "texttemplate": "%{y:.3r}",
         "visible": false,
         "x": [
          16
         ],
         "y": [
          0.148868008734698
         ],
         "type": "bar"
        },
        {
         "customdata": [
          [
           0.2586889516458699,
           1.4122587507590652,
           0.06777360662817955,
           "0.09<br>0.084<br>0.088<br>0.097<br>0.085<br>0.089<br>1.323<br>0.17<br>0.115<br>0.18<br>..."
          ]
         ],
         "hovertemplate": "<b>Average:</b> %{y} +/-%{customdata[0]:.3f}<br><b>Maximum:</b> %{customdata[1]:.3f}<br><b>Minimum:</b> %{customdata[2]:.3f}<br><b>Using:</b><br>%{customdata[3]}",
         "marker": {
          "color": "#8C564B"
         },
         "name": "32 Nodes",
         "texttemplate": "%{y:.3r}",
         "visible": false,
         "x": [
          32
         ],
         "y": [
          0.14557404830021428
         ],
         "type": "bar"
        },
        {
         "customdata": [
          [
           0.23016708811728553,
           1.66966481693089,
           0.06179100996814668,
           "0.102<br>0.158<br>0.195<br>0.095<br>1.67<br>0.104<br>0.105<br>0.082<br>0.165<br>0.106<br>..."
          ]
         ],
         "hovertemplate": "<b>Average:</b> %{y} +/-%{customdata[0]:.3f}<br><b>Maximum:</b> %{customdata[1]:.3f}<br><b>Minimum:</b> %{customdata[2]:.3f}<br><b>Using:</b><br>%{customdata[3]}",
         "marker": {
          "color": "#1F77B4"
         },
         "name": "1 Nodes",
         "texttemplate": "%{y:.3r}",
         "visible": false,
         "x": [
          1
         ],
         "y": [
          0.1395545417908579
         ],
         "type": "bar"
        },
        {
         "customdata": [
          [
           0.2316558953970664,
           1.6825911209452897,
           0.06468558497726917,
           "0.172<br>0.188<br>0.251<br>0.112<br>1.683<br>0.115<br>0.168<br>0.085<br>0.082<br>0.096<br>..."
          ]
         ],
         "hovertemplate": "<b>Average:</b> %{y} +/-%{customdata[0]:.3f}<br><b>Maximum:</b> %{customdata[1]:.3f}<br><b>Minimum:</b> %{customdata[2]:.3f}<br><b>Using:</b><br>%{customdata[3]}",
         "marker": {
          "color": "#FF7F0E"
         },
         "name": "2 Nodes",
         "texttemplate": "%{y:.3r}",
         "visible": false,
         "x": [
          2
         ],
         "y": [
          0.13803965816313915
         ],
         "type": "bar"
        },
        {
         "customdata": [
          [
           0.25041911283680224,
           1.8524680689442903,
           0.08598954393528402,
           "0.223<br>0.169<br>0.255<br>0.139<br>1.852<br>0.147<br>0.139<br>0.23<br>0.157<br>0.166<br>..."
          ]
         ],
         "hovertemplate": "<b>Average:</b> %{y} +/-%{customdata[0]:.3f}<br><b>Maximum:</b> %{customdata[1]:.3f}<br><b>Minimum:</b> %{customdata[2]:.3f}<br><b>Using:</b><br>%{customdata[3]}",
         "marker": {
          "color": "#2CA02C"
         },
         "name": "4 Nodes",
         "texttemplate": "%{y:.3r}",
         "visible": false,
         "x": [
          4
         ],
         "y": [
          0.16816319197297414
         ],
         "type": "bar"
        },
        {
         "customdata": [
          [
           0.2407530458882469,
           1.8204155629500747,
           0.1367664048448205,
           "0.268<br>0.177<br>0.306<br>0.176<br>1.82<br>0.197<br>0.178<br>0.18<br>0.172<br>0.179<br>..."
          ]
         ],
         "hovertemplate": "<b>Average:</b> %{y} +/-%{customdata[0]:.3f}<br><b>Maximum:</b> %{customdata[1]:.3f}<br><b>Minimum:</b> %{customdata[2]:.3f}<br><b>Using:</b><br>%{customdata[3]}",
         "marker": {
          "color": "#D62728"
         },
         "name": "8 Nodes",
         "texttemplate": "%{y:.3r}",
         "visible": false,
         "x": [
          8
         ],
         "y": [
          0.19926083517914756
         ],
         "type": "bar"
        },
        {
         "customdata": [
          [
           0.2872405698169206,
           2.168452660087496,
           0.18105506198480725,
           "0.63<br>0.238<br>0.423<br>0.235<br>2.168<br>0.272<br>0.233<br>0.233<br>0.235<br>0.234<br>..."
          ]
         ],
         "hovertemplate": "<b>Average:</b> %{y} +/-%{customdata[0]:.3f}<br><b>Maximum:</b> %{customdata[1]:.3f}<br><b>Minimum:</b> %{customdata[2]:.3f}<br><b>Using:</b><br>%{customdata[3]}",
         "marker": {
          "color": "#9467BD"
         },
         "name": "16 Nodes",
         "texttemplate": "%{y:.3r}",
         "visible": false,
         "x": [
          16
         ],
         "y": [
          0.27423544645190556
         ],
         "type": "bar"
        },
        {
         "customdata": [
          [
           0.2579971456950592,
           2.032077596988529,
           0.22612987970933318,
           "0.485<br>0.326<br>0.596<br>0.343<br>2.032<br>0.303<br>0.271<br>0.331<br>0.297<br>0.282<br>..."
          ]
         ],
         "hovertemplate": "<b>Average:</b> %{y} +/-%{customdata[0]:.3f}<br><b>Maximum:</b> %{customdata[1]:.3f}<br><b>Minimum:</b> %{customdata[2]:.3f}<br><b>Using:</b><br>%{customdata[3]}",
         "marker": {
          "color": "#8C564B"
         },
         "name": "32 Nodes",
         "texttemplate": "%{y:.3r}",
         "visible": false,
         "x": [
          32
         ],
         "y": [
          0.3317167588232204
         ],
         "type": "bar"
        },
        {
         "customdata": [
          [
           0.01741188024627952,
           0.16255162796005607,
           0.04345494392327964,
           "0.063<br>0.085<br>0.056<br>0.163<br>0.078<br>0.06<br>0.055<br>0.054<br>0.056<br>0.051<br>..."
          ]
         ],
         "hovertemplate": "<b>Average:</b> %{y} +/-%{customdata[0]:.3f}<br><b>Maximum:</b> %{customdata[1]:.3f}<br><b>Minimum:</b> %{customdata[2]:.3f}<br><b>Using:</b><br>%{customdata[3]}",
         "marker": {
          "color": "#1F77B4"
         },
         "name": "1 Nodes",
         "texttemplate": "%{y:.3r}",
         "visible": false,
         "x": [
          1
         ],
         "y": [
          0.05592060050966733
         ],
         "type": "bar"
        },
        {
         "customdata": [
          [
           0.011183994763533664,
           0.1019774021115154,
           0.04131188592873514,
           "0.057<br>0.081<br>0.057<br>0.102<br>0.08<br>0.055<br>0.051<br>0.061<br>0.05<br>0.05<br>..."
          ]
         ],
         "hovertemplate": "<b>Average:</b> %{y} +/-%{customdata[0]:.3f}<br><b>Maximum:</b> %{customdata[1]:.3f}<br><b>Minimum:</b> %{customdata[2]:.3f}<br><b>Using:</b><br>%{customdata[3]}",
         "marker": {
          "color": "#FF7F0E"
         },
         "name": "2 Nodes",
         "texttemplate": "%{y:.3r}",
         "visible": false,
         "x": [
          2
         ],
         "y": [
          0.050478625215312586
         ],
         "type": "bar"
        },
        {
         "customdata": [
          [
           0.014043023896412446,
           0.12214490585029125,
           0.044293785002082586,
           "0.065<br>0.09<br>0.064<br>0.122<br>0.07<br>0.063<br>0.052<br>0.05<br>0.051<br>0.052<br>..."
          ]
         ],
         "hovertemplate": "<b>Average:</b> %{y} +/-%{customdata[0]:.3f}<br><b>Maximum:</b> %{customdata[1]:.3f}<br><b>Minimum:</b> %{customdata[2]:.3f}<br><b>Using:</b><br>%{customdata[3]}",
         "marker": {
          "color": "#2CA02C"
         },
         "name": "4 Nodes",
         "texttemplate": "%{y:.3r}",
         "visible": false,
         "x": [
          4
         ],
         "y": [
          0.05500256891877569
         ],
         "type": "bar"
        },
        {
         "customdata": [
          [
           0.014775120283693793,
           0.12123136594891548,
           0.04245084710419178,
           "0.05<br>0.121<br>0.057<br>0.114<br>0.065<br>0.056<br>0.051<br>0.051<br>0.048<br>0.049<br>..."
          ]
         ],
         "hovertemplate": "<b>Average:</b> %{y} +/-%{customdata[0]:.3f}<br><b>Maximum:</b> %{customdata[1]:.3f}<br><b>Minimum:</b> %{customdata[2]:.3f}<br><b>Using:</b><br>%{customdata[3]}",
         "marker": {
          "color": "#D62728"
         },
         "name": "8 Nodes",
         "texttemplate": "%{y:.3r}",
         "visible": false,
         "x": [
          8
         ],
         "y": [
          0.050878040101181
         ],
         "type": "bar"
        },
        {
         "customdata": [
          [
           0.012094883098358506,
           0.11540139699354768,
           0.04981696978211403,
           "0.069<br>0.105<br>0.069<br>0.115<br>0.08<br>0.065<br>0.057<br>0.052<br>0.062<br>0.083<br>..."
          ]
         ],
         "hovertemplate": "<b>Average:</b> %{y} +/-%{customdata[0]:.3f}<br><b>Maximum:</b> %{customdata[1]:.3f}<br><b>Minimum:</b> %{customdata[2]:.3f}<br><b>Using:</b><br>%{customdata[3]}",
         "marker": {
          "color": "#9467BD"
         },
         "name": "16 Nodes",
         "texttemplate": "%{y:.3r}",
         "visible": false,
         "x": [
          16
         ],
         "y": [
          0.06402509084882889
         ],
         "type": "bar"
        },
        {
         "customdata": [
          [
           0.011362629045294025,
           0.13237193692475557,
           0.0630767080001533,
           "0.069<br>0.109<br>0.076<br>0.132<br>0.085<br>0.086<br>0.075<br>0.084<br>0.075<br>0.073<br>..."
          ]
         ],
         "hovertemplate": "<b>Average:</b> %{y} +/-%{customdata[0]:.3f}<br><b>Maximum:</b> %{customdata[1]:.3f}<br><b>Minimum:</b> %{customdata[2]:.3f}<br><b>Using:</b><br>%{customdata[3]}",
         "marker": {
          "color": "#8C564B"
         },
         "name": "32 Nodes",
         "texttemplate": "%{y:.3r}",
         "visible": false,
         "x": [
          32
         ],
         "y": [
          0.07560923245755281
         ],
         "type": "bar"
        },
        {
         "customdata": [
          [
           0.018364990217865532,
           0.1528341518715024,
           0.05095229996368289,
           "0.09<br>0.078<br>0.153<br>0.092<br>0.071<br>0.072<br>0.119<br>0.088<br>0.088<br>0.071<br>..."
          ]
         ],
         "hovertemplate": "<b>Average:</b> %{y} +/-%{customdata[0]:.3f}<br><b>Maximum:</b> %{customdata[1]:.3f}<br><b>Minimum:</b> %{customdata[2]:.3f}<br><b>Using:</b><br>%{customdata[3]}",
         "marker": {
          "color": "#1F77B4"
         },
         "name": "1 Nodes",
         "texttemplate": "%{y:.3r}",
         "visible": false,
         "x": [
          1
         ],
         "y": [
          0.06613080214927013
         ],
         "type": "bar"
        },
        {
         "customdata": [
          [
           0.0212519822851975,
           0.14388127904385328,
           0.04641686589457095,
           "0.084<br>0.087<br>0.143<br>0.082<br>0.063<br>0.079<br>0.112<br>0.085<br>0.084<br>0.066<br>..."
          ]
         ],
         "hovertemplate": "<b>Average:</b> %{y} +/-%{customdata[0]:.3f}<br><b>Maximum:</b> %{customdata[1]:.3f}<br><b>Minimum:</b> %{customdata[2]:.3f}<br><b>Using:</b><br>%{customdata[3]}",
         "marker": {
          "color": "#FF7F0E"
         },
         "name": "2 Nodes",
         "texttemplate": "%{y:.3r}",
         "visible": false,
         "x": [
          2
         ],
         "y": [
          0.06437554639427269
         ],
         "type": "bar"
        },
        {
         "customdata": [
          [
           0.23870566521329475,
           1.7238868020940572,
           0.05313937203027308,
           "0.099<br>0.081<br>0.148<br>0.096<br>0.072<br>0.071<br>0.125<br>0.082<br>0.089<br>0.082<br>..."
          ]
         ],
         "hovertemplate": "<b>Average:</b> %{y} +/-%{customdata[0]:.3f}<br><b>Maximum:</b> %{customdata[1]:.3f}<br><b>Minimum:</b> %{customdata[2]:.3f}<br><b>Using:</b><br>%{customdata[3]}",
         "marker": {
          "color": "#2CA02C"
         },
         "name": "4 Nodes",
         "texttemplate": "%{y:.3r}",
         "visible": false,
         "x": [
          4
         ],
         "y": [
          0.10881185085274914
         ],
         "type": "bar"
        },
        {
         "customdata": [
          [
           0.018845704725934057,
           0.1726115751080215,
           0.06902995891869068,
           "0.093<br>0.1<br>0.173<br>0.127<br>0.095<br>0.097<br>0.128<br>0.105<br>0.112<br>0.095<br>..."
          ]
         ],
         "hovertemplate": "<b>Average:</b> %{y} +/-%{customdata[0]:.3f}<br><b>Maximum:</b> %{customdata[1]:.3f}<br><b>Minimum:</b> %{customdata[2]:.3f}<br><b>Using:</b><br>%{customdata[3]}",
         "marker": {
          "color": "#D62728"
         },
         "name": "8 Nodes",
         "texttemplate": "%{y:.3r}",
         "visible": false,
         "x": [
          8
         ],
         "y": [
          0.08915592577962324
         ],
         "type": "bar"
        },
        {
         "customdata": [
          [
           0.021489599800837745,
           0.2304194737225771,
           0.08926529483869672,
           "0.119<br>0.12<br>0.23<br>0.145<br>0.12<br>0.121<br>0.154<br>0.14<br>0.114<br>0.118<br>..."
          ]
         ],
         "hovertemplate": "<b>Average:</b> %{y} +/-%{customdata[0]:.3f}<br><b>Maximum:</b> %{customdata[1]:.3f}<br><b>Minimum:</b> %{customdata[2]:.3f}<br><b>Using:</b><br>%{customdata[3]}",
         "marker": {
          "color": "#9467BD"
         },
         "name": "16 Nodes",
         "texttemplate": "%{y:.3r}",
         "visible": false,
         "x": [
          16
         ],
         "y": [
          0.11383312070702618
         ],
         "type": "bar"
        },
        {
         "customdata": [
          [
           0.023596369393721856,
           0.2671649022959173,
           0.11637908918783069,
           "0.135<br>0.134<br>0.267<br>0.155<br>0.147<br>0.124<br>0.2<br>0.165<br>0.14<br>0.137<br>..."
          ]
         ],
         "hovertemplate": "<b>Average:</b> %{y} +/-%{customdata[0]:.3f}<br><b>Maximum:</b> %{customdata[1]:.3f}<br><b>Minimum:</b> %{customdata[2]:.3f}<br><b>Using:</b><br>%{customdata[3]}",
         "marker": {
          "color": "#8C564B"
         },
         "name": "32 Nodes",
         "texttemplate": "%{y:.3r}",
         "visible": false,
         "x": [
          32
         ],
         "y": [
          0.1352308160783921
         ],
         "type": "bar"
        },
        {
         "customdata": [
          [
           0.2729928234228184,
           1.9611306770239025,
           0.11440377100370824,
           "0.347<br>1.961<br>0.193<br>0.194<br>0.614<br>0.141<br>0.142<br>0.145<br>0.131<br>0.131<br>..."
          ]
         ],
         "hovertemplate": "<b>Average:</b> %{y} +/-%{customdata[0]:.3f}<br><b>Maximum:</b> %{customdata[1]:.3f}<br><b>Minimum:</b> %{customdata[2]:.3f}<br><b>Using:</b><br>%{customdata[3]}",
         "marker": {
          "color": "#1F77B4"
         },
         "name": "1 Nodes",
         "texttemplate": "%{y:.3r}",
         "visible": false,
         "x": [
          1
         ],
         "y": [
          0.18591154976054391
         ],
         "type": "bar"
        },
        {
         "customdata": [
          [
           0.285188169869809,
           2.048096110112965,
           0.1220191908068955,
           "0.356<br>2.048<br>0.237<br>0.195<br>0.665<br>0.157<br>0.158<br>0.146<br>0.136<br>0.145<br>..."
          ]
         ],
         "hovertemplate": "<b>Average:</b> %{y} +/-%{customdata[0]:.3f}<br><b>Maximum:</b> %{customdata[1]:.3f}<br><b>Minimum:</b> %{customdata[2]:.3f}<br><b>Using:</b><br>%{customdata[3]}",
         "marker": {
          "color": "#FF7F0E"
         },
         "name": "2 Nodes",
         "texttemplate": "%{y:.3r}",
         "visible": false,
         "x": [
          2
         ],
         "y": [
          0.20299828650945045
         ],
         "type": "bar"
        },
        {
         "customdata": [
          [
           0.2998557881002675,
           2.2546159899793565,
           0.19272302486933768,
           "0.38<br>2.255<br>0.387<br>0.309<br>0.732<br>0.229<br>0.218<br>0.223<br>0.247<br>0.234<br>..."
          ]
         ],
         "hovertemplate": "<b>Average:</b> %{y} +/-%{customdata[0]:.3f}<br><b>Maximum:</b> %{customdata[1]:.3f}<br><b>Minimum:</b> %{customdata[2]:.3f}<br><b>Using:</b><br>%{customdata[3]}",
         "marker": {
          "color": "#2CA02C"
         },
         "name": "4 Nodes",
         "texttemplate": "%{y:.3r}",
         "visible": false,
         "x": [
          4
         ],
         "y": [
          0.2938673957350089
         ],
         "type": "bar"
        },
        {
         "customdata": [
          [
           0.2804403657029798,
           2.2108732850756496,
           0.28858981700614095,
           "0.358<br>2.211<br>0.496<br>0.419<br>0.792<br>0.334<br>0.342<br>0.325<br>0.322<br>0.324<br>..."
          ]
         ],
         "hovertemplate": "<b>Average:</b> %{y} +/-%{customdata[0]:.3f}<br><b>Maximum:</b> %{customdata[1]:.3f}<br><b>Minimum:</b> %{customdata[2]:.3f}<br><b>Using:</b><br>%{customdata[3]}",
         "marker": {
          "color": "#D62728"
         },
         "name": "8 Nodes",
         "texttemplate": "%{y:.3r}",
         "visible": false,
         "x": [
          8
         ],
         "y": [
          0.37640008709809564
         ],
         "type": "bar"
        },
        {
         "customdata": [
          [
           0.2816360238527687,
           2.3024649913422763,
           0.3921583369374275,
           "0.449<br>2.302<br>0.652<br>0.467<br>0.961<br>0.445<br>0.432<br>0.425<br>0.425<br>0.434<br>..."
          ]
         ],
         "hovertemplate": "<b>Average:</b> %{y} +/-%{customdata[0]:.3f}<br><b>Maximum:</b> %{customdata[1]:.3f}<br><b>Minimum:</b> %{customdata[2]:.3f}<br><b>Using:</b><br>%{customdata[3]}",
         "marker": {
          "color": "#9467BD"
         },
         "name": "16 Nodes",
         "texttemplate": "%{y:.3r}",
         "visible": false,
         "x": [
          16
         ],
         "y": [
          0.4803569217787144
         ],
         "type": "bar"
        },
        {
         "customdata": [
          [
           0.37187248199314255,
           3.0367997409775853,
           0.4715602546930313,
           "0.748<br>3.037<br>0.717<br>0.57<br>0.945<br>0.538<br>0.734<br>0.496<br>0.689<br>0.486<br>..."
          ]
         ],
         "hovertemplate": "<b>Average:</b> %{y} +/-%{customdata[0]:.3f}<br><b>Maximum:</b> %{customdata[1]:.3f}<br><b>Minimum:</b> %{customdata[2]:.3f}<br><b>Using:</b><br>%{customdata[3]}",
         "marker": {
          "color": "#8C564B"
         },
         "name": "32 Nodes",
         "texttemplate": "%{y:.3r}",
         "visible": false,
         "x": [
          32
         ],
         "y": [
          0.5925346047300449
         ],
         "type": "bar"
        }
       ],
       "layout": {
        "template": {
         "data": {
          "histogram2dcontour": [
           {
            "type": "histogram2dcontour",
            "colorbar": {
             "outlinewidth": 0,
             "ticks": ""
            },
            "colorscale": [
             [
              0.0,
              "#0d0887"
             ],
             [
              0.1111111111111111,
              "#46039f"
             ],
             [
              0.2222222222222222,
              "#7201a8"
             ],
             [
              0.3333333333333333,
              "#9c179e"
             ],
             [
              0.4444444444444444,
              "#bd3786"
             ],
             [
              0.5555555555555556,
              "#d8576b"
             ],
             [
              0.6666666666666666,
              "#ed7953"
             ],
             [
              0.7777777777777778,
              "#fb9f3a"
             ],
             [
              0.8888888888888888,
              "#fdca26"
             ],
             [
              1.0,
              "#f0f921"
             ]
            ]
           }
          ],
          "choropleth": [
           {
            "type": "choropleth",
            "colorbar": {
             "outlinewidth": 0,
             "ticks": ""
            }
           }
          ],
          "histogram2d": [
           {
            "type": "histogram2d",
            "colorbar": {
             "outlinewidth": 0,
             "ticks": ""
            },
            "colorscale": [
             [
              0.0,
              "#0d0887"
             ],
             [
              0.1111111111111111,
              "#46039f"
             ],
             [
              0.2222222222222222,
              "#7201a8"
             ],
             [
              0.3333333333333333,
              "#9c179e"
             ],
             [
              0.4444444444444444,
              "#bd3786"
             ],
             [
              0.5555555555555556,
              "#d8576b"
             ],
             [
              0.6666666666666666,
              "#ed7953"
             ],
             [
              0.7777777777777778,
              "#fb9f3a"
             ],
             [
              0.8888888888888888,
              "#fdca26"
             ],
             [
              1.0,
              "#f0f921"
             ]
            ]
           }
          ],
          "heatmap": [
           {
            "type": "heatmap",
            "colorbar": {
             "outlinewidth": 0,
             "ticks": ""
            },
            "colorscale": [
             [
              0.0,
              "#0d0887"
             ],
             [
              0.1111111111111111,
              "#46039f"
             ],
             [
              0.2222222222222222,
              "#7201a8"
             ],
             [
              0.3333333333333333,
              "#9c179e"
             ],
             [
              0.4444444444444444,
              "#bd3786"
             ],
             [
              0.5555555555555556,
              "#d8576b"
             ],
             [
              0.6666666666666666,
              "#ed7953"
             ],
             [
              0.7777777777777778,
              "#fb9f3a"
             ],
             [
              0.8888888888888888,
              "#fdca26"
             ],
             [
              1.0,
              "#f0f921"
             ]
            ]
           }
          ],
          "heatmapgl": [
           {
            "type": "heatmapgl",
            "colorbar": {
             "outlinewidth": 0,
             "ticks": ""
            },
            "colorscale": [
             [
              0.0,
              "#0d0887"
             ],
             [
              0.1111111111111111,
              "#46039f"
             ],
             [
              0.2222222222222222,
              "#7201a8"
             ],
             [
              0.3333333333333333,
              "#9c179e"
             ],
             [
              0.4444444444444444,
              "#bd3786"
             ],
             [
              0.5555555555555556,
              "#d8576b"
             ],
             [
              0.6666666666666666,
              "#ed7953"
             ],
             [
              0.7777777777777778,
              "#fb9f3a"
             ],
             [
              0.8888888888888888,
              "#fdca26"
             ],
             [
              1.0,
              "#f0f921"
             ]
            ]
           }
          ],
          "contourcarpet": [
           {
            "type": "contourcarpet",
            "colorbar": {
             "outlinewidth": 0,
             "ticks": ""
            }
           }
          ],
          "contour": [
           {
            "type": "contour",
            "colorbar": {
             "outlinewidth": 0,
             "ticks": ""
            },
            "colorscale": [
             [
              0.0,
              "#0d0887"
             ],
             [
              0.1111111111111111,
              "#46039f"
             ],
             [
              0.2222222222222222,
              "#7201a8"
             ],
             [
              0.3333333333333333,
              "#9c179e"
             ],
             [
              0.4444444444444444,
              "#bd3786"
             ],
             [
              0.5555555555555556,
              "#d8576b"
             ],
             [
              0.6666666666666666,
              "#ed7953"
             ],
             [
              0.7777777777777778,
              "#fb9f3a"
             ],
             [
              0.8888888888888888,
              "#fdca26"
             ],
             [
              1.0,
              "#f0f921"
             ]
            ]
           }
          ],
          "surface": [
           {
            "type": "surface",
            "colorbar": {
             "outlinewidth": 0,
             "ticks": ""
            },
            "colorscale": [
             [
              0.0,
              "#0d0887"
             ],
             [
              0.1111111111111111,
              "#46039f"
             ],
             [
              0.2222222222222222,
              "#7201a8"
             ],
             [
              0.3333333333333333,
              "#9c179e"
             ],
             [
              0.4444444444444444,
              "#bd3786"
             ],
             [
              0.5555555555555556,
              "#d8576b"
             ],
             [
              0.6666666666666666,
              "#ed7953"
             ],
             [
              0.7777777777777778,
              "#fb9f3a"
             ],
             [
              0.8888888888888888,
              "#fdca26"
             ],
             [
              1.0,
              "#f0f921"
             ]
            ]
           }
          ],
          "mesh3d": [
           {
            "type": "mesh3d",
            "colorbar": {
             "outlinewidth": 0,
             "ticks": ""
            }
           }
          ],
          "scatter": [
           {
            "fillpattern": {
             "fillmode": "overlay",
             "size": 10,
             "solidity": 0.2
            },
            "type": "scatter"
           }
          ],
          "parcoords": [
           {
            "type": "parcoords",
            "line": {
             "colorbar": {
              "outlinewidth": 0,
              "ticks": ""
             }
            }
           }
          ],
          "scatterpolargl": [
           {
            "type": "scatterpolargl",
            "marker": {
             "colorbar": {
              "outlinewidth": 0,
              "ticks": ""
             }
            }
           }
          ],
          "bar": [
           {
            "error_x": {
             "color": "#2a3f5f"
            },
            "error_y": {
             "color": "#2a3f5f"
            },
            "marker": {
             "line": {
              "color": "#E5ECF6",
              "width": 0.5
             },
             "pattern": {
              "fillmode": "overlay",
              "size": 10,
              "solidity": 0.2
             }
            },
            "type": "bar"
           }
          ],
          "scattergeo": [
           {
            "type": "scattergeo",
            "marker": {
             "colorbar": {
              "outlinewidth": 0,
              "ticks": ""
             }
            }
           }
          ],
          "scatterpolar": [
           {
            "type": "scatterpolar",
            "marker": {
             "colorbar": {
              "outlinewidth": 0,
              "ticks": ""
             }
            }
           }
          ],
          "histogram": [
           {
            "marker": {
             "pattern": {
              "fillmode": "overlay",
              "size": 10,
              "solidity": 0.2
             }
            },
            "type": "histogram"
           }
          ],
          "scattergl": [
           {
            "type": "scattergl",
            "marker": {
             "colorbar": {
              "outlinewidth": 0,
              "ticks": ""
             }
            }
           }
          ],
          "scatter3d": [
           {
            "type": "scatter3d",
            "line": {
             "colorbar": {
              "outlinewidth": 0,
              "ticks": ""
             }
            },
            "marker": {
             "colorbar": {
              "outlinewidth": 0,
              "ticks": ""
             }
            }
           }
          ],
          "scattermapbox": [
           {
            "type": "scattermapbox",
            "marker": {
             "colorbar": {
              "outlinewidth": 0,
              "ticks": ""
             }
            }
           }
          ],
          "scatterternary": [
           {
            "type": "scatterternary",
            "marker": {
             "colorbar": {
              "outlinewidth": 0,
              "ticks": ""
             }
            }
           }
          ],
          "scattercarpet": [
           {
            "type": "scattercarpet",
            "marker": {
             "colorbar": {
              "outlinewidth": 0,
              "ticks": ""
             }
            }
           }
          ],
          "carpet": [
           {
            "aaxis": {
             "endlinecolor": "#2a3f5f",
             "gridcolor": "white",
             "linecolor": "white",
             "minorgridcolor": "white",
             "startlinecolor": "#2a3f5f"
            },
            "baxis": {
             "endlinecolor": "#2a3f5f",
             "gridcolor": "white",
             "linecolor": "white",
             "minorgridcolor": "white",
             "startlinecolor": "#2a3f5f"
            },
            "type": "carpet"
           }
          ],
          "table": [
           {
            "cells": {
             "fill": {
              "color": "#EBF0F8"
             },
             "line": {
              "color": "white"
             }
            },
            "header": {
             "fill": {
              "color": "#C8D4E3"
             },
             "line": {
              "color": "white"
             }
            },
            "type": "table"
           }
          ],
          "barpolar": [
           {
            "marker": {
             "line": {
              "color": "#E5ECF6",
              "width": 0.5
             },
             "pattern": {
              "fillmode": "overlay",
              "size": 10,
              "solidity": 0.2
             }
            },
            "type": "barpolar"
           }
          ],
          "pie": [
           {
            "automargin": true,
            "type": "pie"
           }
          ]
         },
         "layout": {
          "autotypenumbers": "strict",
          "colorway": [
           "#636efa",
           "#EF553B",
           "#00cc96",
           "#ab63fa",
           "#FFA15A",
           "#19d3f3",
           "#FF6692",
           "#B6E880",
           "#FF97FF",
           "#FECB52"
          ],
          "font": {
           "color": "#2a3f5f"
          },
          "hovermode": "closest",
          "hoverlabel": {
           "align": "left"
          },
          "paper_bgcolor": "white",
          "plot_bgcolor": "#E5ECF6",
          "polar": {
           "bgcolor": "#E5ECF6",
           "angularaxis": {
            "gridcolor": "white",
            "linecolor": "white",
            "ticks": ""
           },
           "radialaxis": {
            "gridcolor": "white",
            "linecolor": "white",
            "ticks": ""
           }
          },
          "ternary": {
           "bgcolor": "#E5ECF6",
           "aaxis": {
            "gridcolor": "white",
            "linecolor": "white",
            "ticks": ""
           },
           "baxis": {
            "gridcolor": "white",
            "linecolor": "white",
            "ticks": ""
           },
           "caxis": {
            "gridcolor": "white",
            "linecolor": "white",
            "ticks": ""
           }
          },
          "coloraxis": {
           "colorbar": {
            "outlinewidth": 0,
            "ticks": ""
           }
          },
          "colorscale": {
           "sequential": [
            [
             0.0,
             "#0d0887"
            ],
            [
             0.1111111111111111,
             "#46039f"
            ],
            [
             0.2222222222222222,
             "#7201a8"
            ],
            [
             0.3333333333333333,
             "#9c179e"
            ],
            [
             0.4444444444444444,
             "#bd3786"
            ],
            [
             0.5555555555555556,
             "#d8576b"
            ],
            [
             0.6666666666666666,
             "#ed7953"
            ],
            [
             0.7777777777777778,
             "#fb9f3a"
            ],
            [
             0.8888888888888888,
             "#fdca26"
            ],
            [
             1.0,
             "#f0f921"
            ]
           ],
           "sequentialminus": [
            [
             0.0,
             "#0d0887"
            ],
            [
             0.1111111111111111,
             "#46039f"
            ],
            [
             0.2222222222222222,
             "#7201a8"
            ],
            [
             0.3333333333333333,
             "#9c179e"
            ],
            [
             0.4444444444444444,
             "#bd3786"
            ],
            [
             0.5555555555555556,
             "#d8576b"
            ],
            [
             0.6666666666666666,
             "#ed7953"
            ],
            [
             0.7777777777777778,
             "#fb9f3a"
            ],
            [
             0.8888888888888888,
             "#fdca26"
            ],
            [
             1.0,
             "#f0f921"
            ]
           ],
           "diverging": [
            [
             0,
             "#8e0152"
            ],
            [
             0.1,
             "#c51b7d"
            ],
            [
             0.2,
             "#de77ae"
            ],
            [
             0.3,
             "#f1b6da"
            ],
            [
             0.4,
             "#fde0ef"
            ],
            [
             0.5,
             "#f7f7f7"
            ],
            [
             0.6,
             "#e6f5d0"
            ],
            [
             0.7,
             "#b8e186"
            ],
            [
             0.8,
             "#7fbc41"
            ],
            [
             0.9,
             "#4d9221"
            ],
            [
             1,
             "#276419"
            ]
           ]
          },
          "xaxis": {
           "gridcolor": "white",
           "linecolor": "white",
           "ticks": "",
           "title": {
            "standoff": 15
           },
           "zerolinecolor": "white",
           "automargin": true,
           "zerolinewidth": 2
          },
          "yaxis": {
           "gridcolor": "white",
           "linecolor": "white",
           "ticks": "",
           "title": {
            "standoff": 15
           },
           "zerolinecolor": "white",
           "automargin": true,
           "zerolinewidth": 2
          },
          "scene": {
           "xaxis": {
            "backgroundcolor": "#E5ECF6",
            "gridcolor": "white",
            "linecolor": "white",
            "showbackground": true,
            "ticks": "",
            "zerolinecolor": "white",
            "gridwidth": 2
           },
           "yaxis": {
            "backgroundcolor": "#E5ECF6",
            "gridcolor": "white",
            "linecolor": "white",
            "showbackground": true,
            "ticks": "",
            "zerolinecolor": "white",
            "gridwidth": 2
           },
           "zaxis": {
            "backgroundcolor": "#E5ECF6",
            "gridcolor": "white",
            "linecolor": "white",
            "showbackground": true,
            "ticks": "",
            "zerolinecolor": "white",
            "gridwidth": 2
           }
          },
          "shapedefaults": {
           "line": {
            "color": "#2a3f5f"
           }
          },
          "annotationdefaults": {
           "arrowcolor": "#2a3f5f",
           "arrowhead": 0,
           "arrowwidth": 1
          },
          "geo": {
           "bgcolor": "white",
           "landcolor": "#E5ECF6",
           "subunitcolor": "white",
           "showland": true,
           "showlakes": true,
           "lakecolor": "white"
          },
          "title": {
           "x": 0.05
          },
          "mapbox": {
           "style": "light"
          }
         }
        },
        "shapes": [
         {
          "line": {
           "color": "#17BECF",
           "dash": "dot",
           "width": 3
          },
          "type": "line",
          "visible": true,
          "x0": 0,
          "x1": 1,
          "xref": "paper",
          "y0": 10330.676810829435,
          "y1": 10330.676810829435,
          "yref": "y"
         },
         {
          "line": {
           "color": "#17BECF",
           "dash": "dot",
           "width": 3
          },
          "type": "line",
          "visible": false,
          "x0": 0,
          "x1": 1,
          "xref": "paper",
          "y0": 7003.022285007805,
          "y1": 7003.022285007805,
          "yref": "y"
         },
         {
          "line": {
           "color": "#17BECF",
           "dash": "dot",
           "width": 3
          },
          "type": "line",
          "visible": false,
          "x0": 0,
          "x1": 1,
          "xref": "paper",
          "y0": 229.84836674532724,
          "y1": 229.84836674532724,
          "yref": "y"
         },
         {
          "line": {
           "color": "#17BECF",
           "dash": "dot",
           "width": 3
          },
          "type": "line",
          "visible": false,
          "x0": 0,
          "x1": 1,
          "xref": "paper",
          "y0": 1877.607759527862,
          "y1": 1877.607759527862,
          "yref": "y"
         },
         {
          "line": {
           "color": "#17BECF",
           "dash": "dot",
           "width": 3
          },
          "type": "line",
          "visible": false,
          "x0": 0,
          "x1": 1,
          "xref": "paper",
          "y0": 0,
          "y1": 0,
          "yref": "y"
         },
         {
          "line": {
           "color": "#17BECF",
           "dash": "dot",
           "width": 3
          },
          "type": "line",
          "visible": false,
          "x0": 0,
          "x1": 1,
          "xref": "paper",
          "y0": 0,
          "y1": 0,
          "yref": "y"
         },
         {
          "line": {
           "color": "#17BECF",
           "dash": "dot",
           "width": 3
          },
          "type": "line",
          "visible": false,
          "x0": 0,
          "x1": 1,
          "xref": "paper",
          "y0": 0,
          "y1": 0,
          "yref": "y"
         },
         {
          "line": {
           "color": "#17BECF",
           "dash": "dot",
           "width": 3
          },
          "type": "line",
          "visible": false,
          "x0": 0,
          "x1": 1,
          "xref": "paper",
          "y0": 541.1098149106838,
          "y1": 541.1098149106838,
          "yref": "y"
         },
         {
          "line": {
           "color": "#17BECF",
           "dash": "dot",
           "width": 3
          },
          "type": "line",
          "visible": false,
          "x0": 0,
          "x1": 1,
          "xref": "paper",
          "y0": 101.44813941267785,
          "y1": 101.44813941267785,
          "yref": "y"
         },
         {
          "line": {
           "color": "#17BECF",
           "dash": "dot",
           "width": 3
          },
          "type": "line",
          "visible": false,
          "x0": 0,
          "x1": 1,
          "xref": "paper",
          "y0": 41.26449846264292,
          "y1": 41.26449846264292,
          "yref": "y"
         },
         {
          "line": {
           "color": "#17BECF",
           "dash": "dot",
           "width": 3
          },
          "type": "line",
          "visible": false,
          "x0": 0,
          "x1": 1,
          "xref": "paper",
          "y0": 0.8596987715907435,
          "y1": 0.8596987715907435,
          "yref": "y"
         },
         {
          "line": {
           "color": "#17BECF",
           "dash": "dot",
           "width": 3
          },
          "type": "line",
          "visible": false,
          "x0": 0,
          "x1": 1,
          "xref": "paper",
          "y0": 0.6366492685108901,
          "y1": 0.6366492685108901,
          "yref": "y"
         },
         {
          "line": {
           "color": "#17BECF",
           "dash": "dot",
           "width": 3
          },
          "type": "line",
          "visible": false,
          "x0": 0,
          "x1": 1,
          "xref": "paper",
          "y0": 0.026403239678016843,
          "y1": 0.026403239678016843,
          "yref": "y"
         },
         {
          "line": {
           "color": "#17BECF",
           "dash": "dot",
           "width": 3
          },
          "type": "line",
          "visible": false,
          "x0": 0,
          "x1": 1,
          "xref": "paper",
          "y0": 4.907451367679689,
          "y1": 4.907451367679689,
          "yref": "y"
         },
         {
          "line": {
           "color": "#17BECF",
           "dash": "dot",
           "width": 3
          },
          "type": "line",
          "visible": false,
          "x0": 0,
          "x1": 1,
          "xref": "paper",
          "y0": 0.024790378146250038,
          "y1": 0.024790378146250038,
          "yref": "y"
         },
         {
          "line": {
           "color": "#17BECF",
           "dash": "dot",
           "width": 3
          },
          "type": "line",
          "visible": false,
          "x0": 0,
          "x1": 1,
          "xref": "paper",
          "y0": 0.025874005833719956,
          "y1": 0.025874005833719956,
          "yref": "y"
         },
         {
          "line": {
           "color": "#17BECF",
           "dash": "dot",
           "width": 3
          },
          "type": "line",
          "visible": false,
          "x0": 0,
          "x1": 1,
          "xref": "paper",
          "y0": 0.044444916616293025,
          "y1": 0.044444916616293025,
          "yref": "y"
         }
        ],
        "title": {
         "font": {
          "size": 24
         },
         "text": "Graphix Scale-Out: bi-1",
         "xanchor": "center",
         "yanchor": "top",
         "x": 0.5
        },
        "xaxis": {
         "title": {
          "text": "Cluster Size"
         },
         "type": "category",
         "categoryorder": "array",
         "categoryarray": [
          1,
          2,
          4,
          8,
          16,
          32
         ]
        },
        "yaxis": {
         "title": {
          "text": "Running Time (s)"
         },
         "showspikes": true
        },
        "updatemenus": [
         {
          "active": 0,
          "buttons": [
           {
            "args": [
             {
              "visible": [
               true,
               true,
               true,
               true,
               true,
               true,
               false,
               false,
               false,
               false,
               false,
               false,
               false,
               false,
               false,
               false,
               false,
               false,
               false,
               false,
               false,
               false,
               false,
               false,
               false,
               false,
               false,
               false,
               false,
               false,
               false,
               false,
               false,
               false,
               false,
               false,
               false,
               false,
               false,
               false,
               false,
               false,
               false,
               false,
               false,
               false,
               false,
               false,
               false,
               false,
               false,
               false,
               false,
               false,
               false,
               false,
               false,
               false,
               false,
               false,
               false,
               false,
               false,
               false,
               false,
               false,
               false,
               false,
               false,
               false,
               false,
               false,
               false,
               false,
               false,
               false,
               false,
               false,
               false,
               false,
               false,
               false,
               false,
               false,
               false,
               false,
               false,
               false,
               false,
               false,
               false,
               false,
               false,
               false,
               false,
               false,
               false,
               false,
               false,
               false,
               false,
               false
              ]
             },
             {
              "title.text": "Graphix Scale-Out: bi-1",
              "shapes[0].visible": true,
              "shapes[1].visible": false,
              "shapes[2].visible": false,
              "shapes[3].visible": false,
              "shapes[4].visible": false,
              "shapes[5].visible": false,
              "shapes[6].visible": false,
              "shapes[7].visible": false,
              "shapes[8].visible": false,
              "shapes[9].visible": false,
              "shapes[10].visible": false,
              "shapes[11].visible": false,
              "shapes[12].visible": false,
              "shapes[13].visible": false,
              "shapes[14].visible": false,
              "shapes[15].visible": false,
              "shapes[16].visible": false
             }
            ],
            "label": "bi-1",
            "method": "update"
           },
           {
            "args": [
             {
              "visible": [
               false,
               false,
               false,
               false,
               false,
               false,
               true,
               true,
               true,
               true,
               true,
               true,
               false,
               false,
               false,
               false,
               false,
               false,
               false,
               false,
               false,
               false,
               false,
               false,
               false,
               false,
               false,
               false,
               false,
               false,
               false,
               false,
               false,
               false,
               false,
               false,
               false,
               false,
               false,
               false,
               false,
               false,
               false,
               false,
               false,
               false,
               false,
               false,
               false,
               false,
               false,
               false,
               false,
               false,
               false,
               false,
               false,
               false,
               false,
               false,
               false,
               false,
               false,
               false,
               false,
               false,
               false,
               false,
               false,
               false,
               false,
               false,
               false,
               false,
               false,
               false,
               false,
               false,
               false,
               false,
               false,
               false,
               false,
               false,
               false,
               false,
               false,
               false,
               false,
               false,
               false,
               false,
               false,
               false,
               false,
               false,
               false,
               false,
               false,
               false,
               false,
               false
              ]
             },
             {
              "title.text": "Graphix Scale-Out: bi-2",
              "shapes[0].visible": false,
              "shapes[1].visible": true,
              "shapes[2].visible": false,
              "shapes[3].visible": false,
              "shapes[4].visible": false,
              "shapes[5].visible": false,
              "shapes[6].visible": false,
              "shapes[7].visible": false,
              "shapes[8].visible": false,
              "shapes[9].visible": false,
              "shapes[10].visible": false,
              "shapes[11].visible": false,
              "shapes[12].visible": false,
              "shapes[13].visible": false,
              "shapes[14].visible": false,
              "shapes[15].visible": false,
              "shapes[16].visible": false
             }
            ],
            "label": "bi-2",
            "method": "update"
           },
           {
            "args": [
             {
              "visible": [
               false,
               false,
               false,
               false,
               false,
               false,
               false,
               false,
               false,
               false,
               false,
               false,
               true,
               true,
               true,
               true,
               true,
               true,
               false,
               false,
               false,
               false,
               false,
               false,
               false,
               false,
               false,
               false,
               false,
               false,
               false,
               false,
               false,
               false,
               false,
               false,
               false,
               false,
               false,
               false,
               false,
               false,
               false,
               false,
               false,
               false,
               false,
               false,
               false,
               false,
               false,
               false,
               false,
               false,
               false,
               false,
               false,
               false,
               false,
               false,
               false,
               false,
               false,
               false,
               false,
               false,
               false,
               false,
               false,
               false,
               false,
               false,
               false,
               false,
               false,
               false,
               false,
               false,
               false,
               false,
               false,
               false,
               false,
               false,
               false,
               false,
               false,
               false,
               false,
               false,
               false,
               false,
               false,
               false,
               false,
               false,
               false,
               false,
               false,
               false,
               false,
               false
              ]
             },
             {
              "title.text": "Graphix Scale-Out: bi-5",
              "shapes[0].visible": false,
              "shapes[1].visible": false,
              "shapes[2].visible": true,
              "shapes[3].visible": false,
              "shapes[4].visible": false,
              "shapes[5].visible": false,
              "shapes[6].visible": false,
              "shapes[7].visible": false,
              "shapes[8].visible": false,
              "shapes[9].visible": false,
              "shapes[10].visible": false,
              "shapes[11].visible": false,
              "shapes[12].visible": false,
              "shapes[13].visible": false,
              "shapes[14].visible": false,
              "shapes[15].visible": false,
              "shapes[16].visible": false
             }
            ],
            "label": "bi-5",
            "method": "update"
           },
           {
            "args": [
             {
              "visible": [
               false,
               false,
               false,
               false,
               false,
               false,
               false,
               false,
               false,
               false,
               false,
               false,
               false,
               false,
               false,
               false,
               false,
               false,
               true,
               true,
               true,
               true,
               true,
               true,
               false,
               false,
               false,
               false,
               false,
               false,
               false,
               false,
               false,
               false,
               false,
               false,
               false,
               false,
               false,
               false,
               false,
               false,
               false,
               false,
               false,
               false,
               false,
               false,
               false,
               false,
               false,
               false,
               false,
               false,
               false,
               false,
               false,
               false,
               false,
               false,
               false,
               false,
               false,
               false,
               false,
               false,
               false,
               false,
               false,
               false,
               false,
               false,
               false,
               false,
               false,
               false,
               false,
               false,
               false,
               false,
               false,
               false,
               false,
               false,
               false,
               false,
               false,
               false,
               false,
               false,
               false,
               false,
               false,
               false,
               false,
               false,
               false,
               false,
               false,
               false,
               false,
               false
              ]
             },
             {
              "title.text": "Graphix Scale-Out: bi-7",
              "shapes[0].visible": false,
              "shapes[1].visible": false,
              "shapes[2].visible": false,
              "shapes[3].visible": true,
              "shapes[4].visible": false,
              "shapes[5].visible": false,
              "shapes[6].visible": false,
              "shapes[7].visible": false,
              "shapes[8].visible": false,
              "shapes[9].visible": false,
              "shapes[10].visible": false,
              "shapes[11].visible": false,
              "shapes[12].visible": false,
              "shapes[13].visible": false,
              "shapes[14].visible": false,
              "shapes[15].visible": false,
              "shapes[16].visible": false
             }
            ],
            "label": "bi-7",
            "method": "update"
           },
           {
            "args": [
             {
              "visible": [
               false,
               false,
               false,
               false,
               false,
               false,
               false,
               false,
               false,
               false,
               false,
               false,
               false,
               false,
               false,
               false,
               false,
               false,
               false,
               false,
               false,
               false,
               false,
               false,
               true,
               true,
               true,
               true,
               true,
               true,
               false,
               false,
               false,
               false,
               false,
               false,
               false,
               false,
               false,
               false,
               false,
               false,
               false,
               false,
               false,
               false,
               false,
               false,
               false,
               false,
               false,
               false,
               false,
               false,
               false,
               false,
               false,
               false,
               false,
               false,
               false,
               false,
               false,
               false,
               false,
               false,
               false,
               false,
               false,
               false,
               false,
               false,
               false,
               false,
               false,
               false,
               false,
               false,
               false,
               false,
               false,
               false,
               false,
               false,
               false,
               false,
               false,
               false,
               false,
               false,
               false,
               false,
               false,
               false,
               false,
               false,
               false,
               false,
               false,
               false,
               false,
               false
              ]
             },
             {
              "title.text": "Graphix Scale-Out: bi-8",
              "shapes[0].visible": false,
              "shapes[1].visible": false,
              "shapes[2].visible": false,
              "shapes[3].visible": false,
              "shapes[4].visible": false,
              "shapes[5].visible": false,
              "shapes[6].visible": false,
              "shapes[7].visible": false,
              "shapes[8].visible": false,
              "shapes[9].visible": false,
              "shapes[10].visible": false,
              "shapes[11].visible": false,
              "shapes[12].visible": false,
              "shapes[13].visible": false,
              "shapes[14].visible": false,
              "shapes[15].visible": false,
              "shapes[16].visible": false
             }
            ],
            "label": "bi-8",
            "method": "update"
           },
           {
            "args": [
             {
              "visible": [
               false,
               false,
               false,
               false,
               false,
               false,
               false,
               false,
               false,
               false,
               false,
               false,
               false,
               false,
               false,
               false,
               false,
               false,
               false,
               false,
               false,
               false,
               false,
               false,
               false,
               false,
               false,
               false,
               false,
               false,
               true,
               true,
               true,
               true,
               true,
               true,
               false,
               false,
               false,
               false,
               false,
               false,
               false,
               false,
               false,
               false,
               false,
               false,
               false,
               false,
               false,
               false,
               false,
               false,
               false,
               false,
               false,
               false,
               false,
               false,
               false,
               false,
               false,
               false,
               false,
               false,
               false,
               false,
               false,
               false,
               false,
               false,
               false,
               false,
               false,
               false,
               false,
               false,
               false,
               false,
               false,
               false,
               false,
               false,
               false,
               false,
               false,
               false,
               false,
               false,
               false,
               false,
               false,
               false,
               false,
               false,
               false,
               false,
               false,
               false,
               false,
               false
              ]
             },
             {
              "title.text": "Graphix Scale-Out: bi-11",
              "shapes[0].visible": false,
              "shapes[1].visible": false,
              "shapes[2].visible": false,
              "shapes[3].visible": false,
              "shapes[4].visible": false,
              "shapes[5].visible": false,
              "shapes[6].visible": false,
              "shapes[7].visible": false,
              "shapes[8].visible": false,
              "shapes[9].visible": false,
              "shapes[10].visible": false,
              "shapes[11].visible": false,
              "shapes[12].visible": false,
              "shapes[13].visible": false,
              "shapes[14].visible": false,
              "shapes[15].visible": false,
              "shapes[16].visible": false
             }
            ],
            "label": "bi-11",
            "method": "update"
           },
           {
            "args": [
             {
              "visible": [
               false,
               false,
               false,
               false,
               false,
               false,
               false,
               false,
               false,
               false,
               false,
               false,
               false,
               false,
               false,
               false,
               false,
               false,
               false,
               false,
               false,
               false,
               false,
               false,
               false,
               false,
               false,
               false,
               false,
               false,
               false,
               false,
               false,
               false,
               false,
               false,
               true,
               true,
               true,
               true,
               true,
               true,
               false,
               false,
               false,
               false,
               false,
               false,
               false,
               false,
               false,
               false,
               false,
               false,
               false,
               false,
               false,
               false,
               false,
               false,
               false,
               false,
               false,
               false,
               false,
               false,
               false,
               false,
               false,
               false,
               false,
               false,
               false,
               false,
               false,
               false,
               false,
               false,
               false,
               false,
               false,
               false,
               false,
               false,
               false,
               false,
               false,
               false,
               false,
               false,
               false,
               false,
               false,
               false,
               false,
               false,
               false,
               false,
               false,
               false,
               false,
               false
              ]
             },
             {
              "title.text": "Graphix Scale-Out: bi-16",
              "shapes[0].visible": false,
              "shapes[1].visible": false,
              "shapes[2].visible": false,
              "shapes[3].visible": false,
              "shapes[4].visible": false,
              "shapes[5].visible": false,
              "shapes[6].visible": false,
              "shapes[7].visible": false,
              "shapes[8].visible": false,
              "shapes[9].visible": false,
              "shapes[10].visible": false,
              "shapes[11].visible": false,
              "shapes[12].visible": false,
              "shapes[13].visible": false,
              "shapes[14].visible": false,
              "shapes[15].visible": false,
              "shapes[16].visible": false
             }
            ],
            "label": "bi-16",
            "method": "update"
           },
           {
            "args": [
             {
              "visible": [
               false,
               false,
               false,
               false,
               false,
               false,
               false,
               false,
               false,
               false,
               false,
               false,
               false,
               false,
               false,
               false,
               false,
               false,
               false,
               false,
               false,
               false,
               false,
               false,
               false,
               false,
               false,
               false,
               false,
               false,
               false,
               false,
               false,
               false,
               false,
               false,
               false,
               false,
               false,
               false,
               false,
               false,
               true,
               true,
               true,
               true,
               true,
               true,
               false,
               false,
               false,
               false,
               false,
               false,
               false,
               false,
               false,
               false,
               false,
               false,
               false,
               false,
               false,
               false,
               false,
               false,
               false,
               false,
               false,
               false,
               false,
               false,
               false,
               false,
               false,
               false,
               false,
               false,
               false,
               false,
               false,
               false,
               false,
               false,
               false,
               false,
               false,
               false,
               false,
               false,
               false,
               false,
               false,
               false,
               false,
               false,
               false,
               false,
               false,
               false,
               false,
               false
              ]
             },
             {
              "title.text": "Graphix Scale-Out: bi-18",
              "shapes[0].visible": false,
              "shapes[1].visible": false,
              "shapes[2].visible": false,
              "shapes[3].visible": false,
              "shapes[4].visible": false,
              "shapes[5].visible": false,
              "shapes[6].visible": false,
              "shapes[7].visible": true,
              "shapes[8].visible": false,
              "shapes[9].visible": false,
              "shapes[10].visible": false,
              "shapes[11].visible": false,
              "shapes[12].visible": false,
              "shapes[13].visible": false,
              "shapes[14].visible": false,
              "shapes[15].visible": false,
              "shapes[16].visible": false
             }
            ],
            "label": "bi-18",
            "method": "update"
           },
           {
            "args": [
             {
              "visible": [
               false,
               false,
               false,
               false,
               false,
               false,
               false,
               false,
               false,
               false,
               false,
               false,
               false,
               false,
               false,
               false,
               false,
               false,
               false,
               false,
               false,
               false,
               false,
               false,
               false,
               false,
               false,
               false,
               false,
               false,
               false,
               false,
               false,
               false,
               false,
               false,
               false,
               false,
               false,
               false,
               false,
               false,
               false,
               false,
               false,
               false,
               false,
               false,
               true,
               true,
               true,
               true,
               true,
               true,
               false,
               false,
               false,
               false,
               false,
               false,
               false,
               false,
               false,
               false,
               false,
               false,
               false,
               false,
               false,
               false,
               false,
               false,
               false,
               false,
               false,
               false,
               false,
               false,
               false,
               false,
               false,
               false,
               false,
               false,
               false,
               false,
               false,
               false,
               false,
               false,
               false,
               false,
               false,
               false,
               false,
               false,
               false,
               false,
               false,
               false,
               false,
               false
              ]
             },
             {
              "title.text": "Graphix Scale-Out: complex-2",
              "shapes[0].visible": false,
              "shapes[1].visible": false,
              "shapes[2].visible": false,
              "shapes[3].visible": false,
              "shapes[4].visible": false,
              "shapes[5].visible": false,
              "shapes[6].visible": false,
              "shapes[7].visible": false,
              "shapes[8].visible": true,
              "shapes[9].visible": false,
              "shapes[10].visible": false,
              "shapes[11].visible": false,
              "shapes[12].visible": false,
              "shapes[13].visible": false,
              "shapes[14].visible": false,
              "shapes[15].visible": false,
              "shapes[16].visible": false
             }
            ],
            "label": "complex-2",
            "method": "update"
           },
           {
            "args": [
             {
              "visible": [
               false,
               false,
               false,
               false,
               false,
               false,
               false,
               false,
               false,
               false,
               false,
               false,
               false,
               false,
               false,
               false,
               false,
               false,
               false,
               false,
               false,
               false,
               false,
               false,
               false,
               false,
               false,
               false,
               false,
               false,
               false,
               false,
               false,
               false,
               false,
               false,
               false,
               false,
               false,
               false,
               false,
               false,
               false,
               false,
               false,
               false,
               false,
               false,
               false,
               false,
               false,
               false,
               false,
               false,
               true,
               true,
               true,
               true,
               true,
               true,
               false,
               false,
               false,
               false,
               false,
               false,
               false,
               false,
               false,
               false,
               false,
               false,
               false,
               false,
               false,
               false,
               false,
               false,
               false,
               false,
               false,
               false,
               false,
               false,
               false,
               false,
               false,
               false,
               false,
               false,
               false,
               false,
               false,
               false,
               false,
               false,
               false,
               false,
               false,
               false,
               false,
               false
              ]
             },
             {
              "title.text": "Graphix Scale-Out: complex-4",
              "shapes[0].visible": false,
              "shapes[1].visible": false,
              "shapes[2].visible": false,
              "shapes[3].visible": false,
              "shapes[4].visible": false,
              "shapes[5].visible": false,
              "shapes[6].visible": false,
              "shapes[7].visible": false,
              "shapes[8].visible": false,
              "shapes[9].visible": true,
              "shapes[10].visible": false,
              "shapes[11].visible": false,
              "shapes[12].visible": false,
              "shapes[13].visible": false,
              "shapes[14].visible": false,
              "shapes[15].visible": false,
              "shapes[16].visible": false
             }
            ],
            "label": "complex-4",
            "method": "update"
           },
           {
            "args": [
             {
              "visible": [
               false,
               false,
               false,
               false,
               false,
               false,
               false,
               false,
               false,
               false,
               false,
               false,
               false,
               false,
               false,
               false,
               false,
               false,
               false,
               false,
               false,
               false,
               false,
               false,
               false,
               false,
               false,
               false,
               false,
               false,
               false,
               false,
               false,
               false,
               false,
               false,
               false,
               false,
               false,
               false,
               false,
               false,
               false,
               false,
               false,
               false,
               false,
               false,
               false,
               false,
               false,
               false,
               false,
               false,
               false,
               false,
               false,
               false,
               false,
               false,
               true,
               true,
               true,
               true,
               true,
               true,
               false,
               false,
               false,
               false,
               false,
               false,
               false,
               false,
               false,
               false,
               false,
               false,
               false,
               false,
               false,
               false,
               false,
               false,
               false,
               false,
               false,
               false,
               false,
               false,
               false,
               false,
               false,
               false,
               false,
               false,
               false,
               false,
               false,
               false,
               false,
               false
              ]
             },
             {
              "title.text": "Graphix Scale-Out: complex-7",
              "shapes[0].visible": false,
              "shapes[1].visible": false,
              "shapes[2].visible": false,
              "shapes[3].visible": false,
              "shapes[4].visible": false,
              "shapes[5].visible": false,
              "shapes[6].visible": false,
              "shapes[7].visible": false,
              "shapes[8].visible": false,
              "shapes[9].visible": false,
              "shapes[10].visible": true,
              "shapes[11].visible": false,
              "shapes[12].visible": false,
              "shapes[13].visible": false,
              "shapes[14].visible": false,
              "shapes[15].visible": false,
              "shapes[16].visible": false
             }
            ],
            "label": "complex-7",
            "method": "update"
           },
           {
            "args": [
             {
              "visible": [
               false,
               false,
               false,
               false,
               false,
               false,
               false,
               false,
               false,
               false,
               false,
               false,
               false,
               false,
               false,
               false,
               false,
               false,
               false,
               false,
               false,
               false,
               false,
               false,
               false,
               false,
               false,
               false,
               false,
               false,
               false,
               false,
               false,
               false,
               false,
               false,
               false,
               false,
               false,
               false,
               false,
               false,
               false,
               false,
               false,
               false,
               false,
               false,
               false,
               false,
               false,
               false,
               false,
               false,
               false,
               false,
               false,
               false,
               false,
               false,
               false,
               false,
               false,
               false,
               false,
               false,
               true,
               true,
               true,
               true,
               true,
               true,
               false,
               false,
               false,
               false,
               false,
               false,
               false,
               false,
               false,
               false,
               false,
               false,
               false,
               false,
               false,
               false,
               false,
               false,
               false,
               false,
               false,
               false,
               false,
               false,
               false,
               false,
               false,
               false,
               false,
               false
              ]
             },
             {
              "title.text": "Graphix Scale-Out: complex-8",
              "shapes[0].visible": false,
              "shapes[1].visible": false,
              "shapes[2].visible": false,
              "shapes[3].visible": false,
              "shapes[4].visible": false,
              "shapes[5].visible": false,
              "shapes[6].visible": false,
              "shapes[7].visible": false,
              "shapes[8].visible": false,
              "shapes[9].visible": false,
              "shapes[10].visible": false,
              "shapes[11].visible": true,
              "shapes[12].visible": false,
              "shapes[13].visible": false,
              "shapes[14].visible": false,
              "shapes[15].visible": false,
              "shapes[16].visible": false
             }
            ],
            "label": "complex-8",
            "method": "update"
           },
           {
            "args": [
             {
              "visible": [
               false,
               false,
               false,
               false,
               false,
               false,
               false,
               false,
               false,
               false,
               false,
               false,
               false,
               false,
               false,
               false,
               false,
               false,
               false,
               false,
               false,
               false,
               false,
               false,
               false,
               false,
               false,
               false,
               false,
               false,
               false,
               false,
               false,
               false,
               false,
               false,
               false,
               false,
               false,
               false,
               false,
               false,
               false,
               false,
               false,
               false,
               false,
               false,
               false,
               false,
               false,
               false,
               false,
               false,
               false,
               false,
               false,
               false,
               false,
               false,
               false,
               false,
               false,
               false,
               false,
               false,
               false,
               false,
               false,
               false,
               false,
               false,
               true,
               true,
               true,
               true,
               true,
               true,
               false,
               false,
               false,
               false,
               false,
               false,
               false,
               false,
               false,
               false,
               false,
               false,
               false,
               false,
               false,
               false,
               false,
               false,
               false,
               false,
               false,
               false,
               false,
               false
              ]
             },
             {
              "title.text": "Graphix Scale-Out: short-1",
              "shapes[0].visible": false,
              "shapes[1].visible": false,
              "shapes[2].visible": false,
              "shapes[3].visible": false,
              "shapes[4].visible": false,
              "shapes[5].visible": false,
              "shapes[6].visible": false,
              "shapes[7].visible": false,
              "shapes[8].visible": false,
              "shapes[9].visible": false,
              "shapes[10].visible": false,
              "shapes[11].visible": false,
              "shapes[12].visible": true,
              "shapes[13].visible": false,
              "shapes[14].visible": false,
              "shapes[15].visible": false,
              "shapes[16].visible": false
             }
            ],
            "label": "short-1",
            "method": "update"
           },
           {
            "args": [
             {
              "visible": [
               false,
               false,
               false,
               false,
               false,
               false,
               false,
               false,
               false,
               false,
               false,
               false,
               false,
               false,
               false,
               false,
               false,
               false,
               false,
               false,
               false,
               false,
               false,
               false,
               false,
               false,
               false,
               false,
               false,
               false,
               false,
               false,
               false,
               false,
               false,
               false,
               false,
               false,
               false,
               false,
               false,
               false,
               false,
               false,
               false,
               false,
               false,
               false,
               false,
               false,
               false,
               false,
               false,
               false,
               false,
               false,
               false,
               false,
               false,
               false,
               false,
               false,
               false,
               false,
               false,
               false,
               false,
               false,
               false,
               false,
               false,
               false,
               false,
               false,
               false,
               false,
               false,
               false,
               true,
               true,
               true,
               true,
               true,
               true,
               false,
               false,
               false,
               false,
               false,
               false,
               false,
               false,
               false,
               false,
               false,
               false,
               false,
               false,
               false,
               false,
               false,
               false
              ]
             },
             {
              "title.text": "Graphix Scale-Out: short-3",
              "shapes[0].visible": false,
              "shapes[1].visible": false,
              "shapes[2].visible": false,
              "shapes[3].visible": false,
              "shapes[4].visible": false,
              "shapes[5].visible": false,
              "shapes[6].visible": false,
              "shapes[7].visible": false,
              "shapes[8].visible": false,
              "shapes[9].visible": false,
              "shapes[10].visible": false,
              "shapes[11].visible": false,
              "shapes[12].visible": false,
              "shapes[13].visible": true,
              "shapes[14].visible": false,
              "shapes[15].visible": false,
              "shapes[16].visible": false
             }
            ],
            "label": "short-3",
            "method": "update"
           },
           {
            "args": [
             {
              "visible": [
               false,
               false,
               false,
               false,
               false,
               false,
               false,
               false,
               false,
               false,
               false,
               false,
               false,
               false,
               false,
               false,
               false,
               false,
               false,
               false,
               false,
               false,
               false,
               false,
               false,
               false,
               false,
               false,
               false,
               false,
               false,
               false,
               false,
               false,
               false,
               false,
               false,
               false,
               false,
               false,
               false,
               false,
               false,
               false,
               false,
               false,
               false,
               false,
               false,
               false,
               false,
               false,
               false,
               false,
               false,
               false,
               false,
               false,
               false,
               false,
               false,
               false,
               false,
               false,
               false,
               false,
               false,
               false,
               false,
               false,
               false,
               false,
               false,
               false,
               false,
               false,
               false,
               false,
               false,
               false,
               false,
               false,
               false,
               false,
               true,
               true,
               true,
               true,
               true,
               true,
               false,
               false,
               false,
               false,
               false,
               false,
               false,
               false,
               false,
               false,
               false,
               false
              ]
             },
             {
              "title.text": "Graphix Scale-Out: short-4",
              "shapes[0].visible": false,
              "shapes[1].visible": false,
              "shapes[2].visible": false,
              "shapes[3].visible": false,
              "shapes[4].visible": false,
              "shapes[5].visible": false,
              "shapes[6].visible": false,
              "shapes[7].visible": false,
              "shapes[8].visible": false,
              "shapes[9].visible": false,
              "shapes[10].visible": false,
              "shapes[11].visible": false,
              "shapes[12].visible": false,
              "shapes[13].visible": false,
              "shapes[14].visible": true,
              "shapes[15].visible": false,
              "shapes[16].visible": false
             }
            ],
            "label": "short-4",
            "method": "update"
           },
           {
            "args": [
             {
              "visible": [
               false,
               false,
               false,
               false,
               false,
               false,
               false,
               false,
               false,
               false,
               false,
               false,
               false,
               false,
               false,
               false,
               false,
               false,
               false,
               false,
               false,
               false,
               false,
               false,
               false,
               false,
               false,
               false,
               false,
               false,
               false,
               false,
               false,
               false,
               false,
               false,
               false,
               false,
               false,
               false,
               false,
               false,
               false,
               false,
               false,
               false,
               false,
               false,
               false,
               false,
               false,
               false,
               false,
               false,
               false,
               false,
               false,
               false,
               false,
               false,
               false,
               false,
               false,
               false,
               false,
               false,
               false,
               false,
               false,
               false,
               false,
               false,
               false,
               false,
               false,
               false,
               false,
               false,
               false,
               false,
               false,
               false,
               false,
               false,
               false,
               false,
               false,
               false,
               false,
               false,
               true,
               true,
               true,
               true,
               true,
               true,
               false,
               false,
               false,
               false,
               false,
               false
              ]
             },
             {
              "title.text": "Graphix Scale-Out: short-5",
              "shapes[0].visible": false,
              "shapes[1].visible": false,
              "shapes[2].visible": false,
              "shapes[3].visible": false,
              "shapes[4].visible": false,
              "shapes[5].visible": false,
              "shapes[6].visible": false,
              "shapes[7].visible": false,
              "shapes[8].visible": false,
              "shapes[9].visible": false,
              "shapes[10].visible": false,
              "shapes[11].visible": false,
              "shapes[12].visible": false,
              "shapes[13].visible": false,
              "shapes[14].visible": false,
              "shapes[15].visible": true,
              "shapes[16].visible": false
             }
            ],
            "label": "short-5",
            "method": "update"
           },
           {
            "args": [
             {
              "visible": [
               false,
               false,
               false,
               false,
               false,
               false,
               false,
               false,
               false,
               false,
               false,
               false,
               false,
               false,
               false,
               false,
               false,
               false,
               false,
               false,
               false,
               false,
               false,
               false,
               false,
               false,
               false,
               false,
               false,
               false,
               false,
               false,
               false,
               false,
               false,
               false,
               false,
               false,
               false,
               false,
               false,
               false,
               false,
               false,
               false,
               false,
               false,
               false,
               false,
               false,
               false,
               false,
               false,
               false,
               false,
               false,
               false,
               false,
               false,
               false,
               false,
               false,
               false,
               false,
               false,
               false,
               false,
               false,
               false,
               false,
               false,
               false,
               false,
               false,
               false,
               false,
               false,
               false,
               false,
               false,
               false,
               false,
               false,
               false,
               false,
               false,
               false,
               false,
               false,
               false,
               false,
               false,
               false,
               false,
               false,
               false,
               true,
               true,
               true,
               true,
               true,
               true
              ]
             },
             {
              "title.text": "Graphix Scale-Out: short-7",
              "shapes[0].visible": false,
              "shapes[1].visible": false,
              "shapes[2].visible": false,
              "shapes[3].visible": false,
              "shapes[4].visible": false,
              "shapes[5].visible": false,
              "shapes[6].visible": false,
              "shapes[7].visible": false,
              "shapes[8].visible": false,
              "shapes[9].visible": false,
              "shapes[10].visible": false,
              "shapes[11].visible": false,
              "shapes[12].visible": false,
              "shapes[13].visible": false,
              "shapes[14].visible": false,
              "shapes[15].visible": false,
              "shapes[16].visible": true
             }
            ],
            "label": "short-7",
            "method": "update"
           }
          ]
         }
        ]
       },
       "config": {
        "plotlyServerURL": "https://plot.ly"
       }
      },
      "text/html": "<div>                            <div id=\"fba5d025-eadf-44a6-bd6a-037d6be2cadb\" class=\"plotly-graph-div\" style=\"height:525px; width:100%;\"></div>            <script type=\"text/javascript\">                require([\"plotly\"], function(Plotly) {                    window.PLOTLYENV=window.PLOTLYENV || {};                                    if (document.getElementById(\"fba5d025-eadf-44a6-bd6a-037d6be2cadb\")) {                    Plotly.newPlot(                        \"fba5d025-eadf-44a6-bd6a-037d6be2cadb\",                        [{\"customdata\":[[39.67367575679438,2527.6028459209483,2416.216672716895,\"2416.217<br>2446.613<br>2481.908<br>2522.995<br>2484.15<br>2527.603<br>2524.443\"]],\"hovertemplate\":\"<b>Average:</b> %{y} +/-%{customdata[0]:.3f}<br><b>Maximum:</b> %{customdata[1]:.3f}<br><b>Minimum:</b> %{customdata[2]:.3f}<br><b>Using:</b><br>%{customdata[3]}\",\"marker\":{\"color\":\"#1F77B4\"},\"name\":\"1 Nodes\",\"texttemplate\":\"%{y:.3r}\",\"visible\":true,\"x\":[1],\"y\":[2486.275514425244],\"type\":\"bar\"},{\"customdata\":[[27.170369696359884,1306.046033397084,1215.867739818059,\"1215.868<br>1276.598<br>1306.046<br>1296.438<br>1290.191<br>1280.608<br>1282.925\"]],\"hovertemplate\":\"<b>Average:</b> %{y} +/-%{customdata[0]:.3f}<br><b>Maximum:</b> %{customdata[1]:.3f}<br><b>Minimum:</b> %{customdata[2]:.3f}<br><b>Using:</b><br>%{customdata[3]}\",\"marker\":{\"color\":\"#FF7F0E\"},\"name\":\"2 Nodes\",\"texttemplate\":\"%{y:.3r}\",\"visible\":true,\"x\":[2],\"y\":[1278.3821190041158],\"type\":\"bar\"},{\"customdata\":[[12.87618722020952,565.9590245711152,528.5642748128157,\"555.449<br>542.763<br>565.959<br>556.707<br>528.564<br>559.11<br>534.397\"]],\"hovertemplate\":\"<b>Average:</b> %{y} +/-%{customdata[0]:.3f}<br><b>Maximum:</b> %{customdata[1]:.3f}<br><b>Minimum:</b> %{customdata[2]:.3f}<br><b>Using:</b><br>%{customdata[3]}\",\"marker\":{\"color\":\"#2CA02C\"},\"name\":\"4 Nodes\",\"texttemplate\":\"%{y:.3r}\",\"visible\":true,\"x\":[4],\"y\":[548.9926779365633],\"type\":\"bar\"},{\"customdata\":[[5.35271891496251,292.2038199568633,278.60568394185975,\"290.902<br>292.204<br>291.927<br>290.301<br>280.096<br>284.773<br>278.606\"]],\"hovertemplate\":\"<b>Average:</b> %{y} +/-%{customdata[0]:.3f}<br><b>Maximum:</b> %{customdata[1]:.3f}<br><b>Minimum:</b> %{customdata[2]:.3f}<br><b>Using:</b><br>%{customdata[3]}\",\"marker\":{\"color\":\"#D62728\"},\"name\":\"8 Nodes\",\"texttemplate\":\"%{y:.3r}\",\"visible\":true,\"x\":[8],\"y\":[286.972606316741],\"type\":\"bar\"},{\"customdata\":[[1.1871529900240076,135.662331729196,131.88837560405955,\"131.888<br>134.162<br>135.662<br>135.532<br>134.775<br>135.161<br>134.439\"]],\"hovertemplate\":\"<b>Average:</b> %{y} +/-%{customdata[0]:.3f}<br><b>Maximum:</b> %{customdata[1]:.3f}<br><b>Minimum:</b> %{customdata[2]:.3f}<br><b>Using:</b><br>%{customdata[3]}\",\"marker\":{\"color\":\"#9467BD\"},\"name\":\"16 Nodes\",\"texttemplate\":\"%{y:.3r}\",\"visible\":true,\"x\":[16],\"y\":[134.5170275551001],\"type\":\"bar\"},{\"customdata\":[[2.2155855313497685,65.93959673121572,58.66939322417602,\"58.669<br>62.621<br>63.535<br>64.667<br>64.174<br>65.078<br>65.94\"]],\"hovertemplate\":\"<b>Average:</b> %{y} +/-%{customdata[0]:.3f}<br><b>Maximum:</b> %{customdata[1]:.3f}<br><b>Minimum:</b> %{customdata[2]:.3f}<br><b>Using:</b><br>%{customdata[3]}\",\"marker\":{\"color\":\"#8C564B\"},\"name\":\"32 Nodes\",\"texttemplate\":\"%{y:.3r}\",\"visible\":true,\"x\":[32],\"y\":[63.52625965007714],\"type\":\"bar\"},{\"customdata\":[[433.81680018735176,3600.0372043999378,2029.0853691000957,\"2031.066<br>2138.197<br>2029.085<br>2117.454<br>2114.544<br>2100.791<br>2084.116<br>2127.245<br>2106.615<br>2107.107<br>...\"]],\"hovertemplate\":\"<b>Average:</b> %{y} +/-%{customdata[0]:.3f}<br><b>Maximum:</b> %{customdata[1]:.3f}<br><b>Minimum:</b> %{customdata[2]:.3f}<br><b>Using:</b><br>%{customdata[3]}\",\"marker\":{\"color\":\"#1F77B4\"},\"name\":\"1 Nodes\",\"texttemplate\":\"%{y:.3r}\",\"visible\":false,\"x\":[1],\"y\":[2232.387118475427],\"type\":\"bar\"},{\"customdata\":[[36.58708303447304,1130.6405008579604,996.3403633350972,\"1053.656<br>1016.014<br>996.34<br>1058.846<br>1056.016<br>1104.468<br>1112.424<br>1115.694<br>1095.953<br>1111.106<br>...\"]],\"hovertemplate\":\"<b>Average:</b> %{y} +/-%{customdata[0]:.3f}<br><b>Maximum:</b> %{customdata[1]:.3f}<br><b>Minimum:</b> %{customdata[2]:.3f}<br><b>Using:</b><br>%{customdata[3]}\",\"marker\":{\"color\":\"#FF7F0E\"},\"name\":\"2 Nodes\",\"texttemplate\":\"%{y:.3r}\",\"visible\":false,\"x\":[2],\"y\":[1084.981258140781],\"type\":\"bar\"},{\"customdata\":[[18.310852221523735,545.0132404179312,482.1853377460502,\"487.382<br>514.672<br>494.735<br>482.185<br>482.572<br>505.648<br>518.313<br>539.99<br>545.013<br>486.984<br>...\"]],\"hovertemplate\":\"<b>Average:</b> %{y} +/-%{customdata[0]:.3f}<br><b>Maximum:</b> %{customdata[1]:.3f}<br><b>Minimum:</b> %{customdata[2]:.3f}<br><b>Using:</b><br>%{customdata[3]}\",\"marker\":{\"color\":\"#2CA02C\"},\"name\":\"4 Nodes\",\"texttemplate\":\"%{y:.3r}\",\"visible\":false,\"x\":[4],\"y\":[500.1275432941312],\"type\":\"bar\"},{\"customdata\":[[5.482718288075665,268.995110495016,243.0028503681533,\"247.417<br>244.042<br>243.003<br>253.246<br>252.613<br>252.308<br>256.06<br>255.433<br>252.666<br>253.084<br>...\"]],\"hovertemplate\":\"<b>Average:</b> %{y} +/-%{customdata[0]:.3f}<br><b>Maximum:</b> %{customdata[1]:.3f}<br><b>Minimum:</b> %{customdata[2]:.3f}<br><b>Using:</b><br>%{customdata[3]}\",\"marker\":{\"color\":\"#D62728\"},\"name\":\"8 Nodes\",\"texttemplate\":\"%{y:.3r}\",\"visible\":false,\"x\":[8],\"y\":[253.0322443772354],\"type\":\"bar\"},{\"customdata\":[[2.712280511666027,125.87444045767188,115.67181248124689,\"122.791<br>118.127<br>115.672<br>119.869<br>119.857<br>119.378<br>120.5<br>125.37<br>120.013<br>125.874<br>...\"]],\"hovertemplate\":\"<b>Average:</b> %{y} +/-%{customdata[0]:.3f}<br><b>Maximum:</b> %{customdata[1]:.3f}<br><b>Minimum:</b> %{customdata[2]:.3f}<br><b>Using:</b><br>%{customdata[3]}\",\"marker\":{\"color\":\"#9467BD\"},\"name\":\"16 Nodes\",\"texttemplate\":\"%{y:.3r}\",\"visible\":false,\"x\":[16],\"y\":[120.94332435140934],\"type\":\"bar\"},{\"customdata\":[[5.2062596960131335,67.66360291978344,48.187859100755304,\"58.905<br>50.374<br>48.188<br>64.115<br>53.375<br>63.186<br>56.004<br>57.317<br>59.852<br>67.664<br>...\"]],\"hovertemplate\":\"<b>Average:</b> %{y} +/-%{customdata[0]:.3f}<br><b>Maximum:</b> %{customdata[1]:.3f}<br><b>Minimum:</b> %{customdata[2]:.3f}<br><b>Using:</b><br>%{customdata[3]}\",\"marker\":{\"color\":\"#8C564B\"},\"name\":\"32 Nodes\",\"texttemplate\":\"%{y:.3r}\",\"visible\":false,\"x\":[32],\"y\":[59.09581518710098],\"type\":\"bar\"},{\"customdata\":[],\"hovertemplate\":\"<b>Average:</b> %{y} +/-%{customdata[0]:.3f}<br><b>Maximum:</b> %{customdata[1]:.3f}<br><b>Minimum:</b> %{customdata[2]:.3f}<br><b>Using:</b><br>%{customdata[3]}\",\"marker\":{\"color\":\"#1F77B4\"},\"name\":\"1 Nodes\",\"texttemplate\":\"%{y:.3r}\",\"visible\":false,\"x\":[1],\"y\":[],\"type\":\"bar\"},{\"customdata\":[],\"hovertemplate\":\"<b>Average:</b> %{y} +/-%{customdata[0]:.3f}<br><b>Maximum:</b> %{customdata[1]:.3f}<br><b>Minimum:</b> %{customdata[2]:.3f}<br><b>Using:</b><br>%{customdata[3]}\",\"marker\":{\"color\":\"#FF7F0E\"},\"name\":\"2 Nodes\",\"texttemplate\":\"%{y:.3r}\",\"visible\":false,\"x\":[2],\"y\":[],\"type\":\"bar\"},{\"customdata\":[[77.7490790856451,4430.085106567014,4121.758417467121,\"4249.973<br>4289.837<br>4430.085<br>4121.758<br>4331.843<br>4258.2<br>4259.678<br>4228.436<br>4286.995\"]],\"hovertemplate\":\"<b>Average:</b> %{y} +/-%{customdata[0]:.3f}<br><b>Maximum:</b> %{customdata[1]:.3f}<br><b>Minimum:</b> %{customdata[2]:.3f}<br><b>Using:</b><br>%{customdata[3]}\",\"marker\":{\"color\":\"#2CA02C\"},\"name\":\"4 Nodes\",\"texttemplate\":\"%{y:.3r}\",\"visible\":false,\"x\":[4],\"y\":[4272.978284515802],\"type\":\"bar\"},{\"customdata\":[[0.0,3231.19698284287,3231.19698284287,\"3231.197\"]],\"hovertemplate\":\"<b>Average:</b> %{y} +/-%{customdata[0]:.3f}<br><b>Maximum:</b> %{customdata[1]:.3f}<br><b>Minimum:</b> %{customdata[2]:.3f}<br><b>Using:</b><br>%{customdata[3]}\",\"marker\":{\"color\":\"#D62728\"},\"name\":\"8 Nodes\",\"texttemplate\":\"%{y:.3r}\",\"visible\":false,\"x\":[8],\"y\":[3231.19698284287],\"type\":\"bar\"},{\"customdata\":[],\"hovertemplate\":\"<b>Average:</b> %{y} +/-%{customdata[0]:.3f}<br><b>Maximum:</b> %{customdata[1]:.3f}<br><b>Minimum:</b> %{customdata[2]:.3f}<br><b>Using:</b><br>%{customdata[3]}\",\"marker\":{\"color\":\"#9467BD\"},\"name\":\"16 Nodes\",\"texttemplate\":\"%{y:.3r}\",\"visible\":false,\"x\":[16],\"y\":[],\"type\":\"bar\"},{\"customdata\":[[14.257534218365452,412.01823760708794,365.94652909832075,\"383.151<br>412.018<br>378.854<br>373.216<br>395.662<br>365.947<br>391.325\"]],\"hovertemplate\":\"<b>Average:</b> %{y} +/-%{customdata[0]:.3f}<br><b>Maximum:</b> %{customdata[1]:.3f}<br><b>Minimum:</b> %{customdata[2]:.3f}<br><b>Using:</b><br>%{customdata[3]}\",\"marker\":{\"color\":\"#8C564B\"},\"name\":\"32 Nodes\",\"texttemplate\":\"%{y:.3r}\",\"visible\":false,\"x\":[32],\"y\":[385.73890056248223],\"type\":\"bar\"},{\"customdata\":[],\"hovertemplate\":\"<b>Average:</b> %{y} +/-%{customdata[0]:.3f}<br><b>Maximum:</b> %{customdata[1]:.3f}<br><b>Minimum:</b> %{customdata[2]:.3f}<br><b>Using:</b><br>%{customdata[3]}\",\"marker\":{\"color\":\"#1F77B4\"},\"name\":\"1 Nodes\",\"texttemplate\":\"%{y:.3r}\",\"visible\":false,\"x\":[1],\"y\":[],\"type\":\"bar\"},{\"customdata\":[],\"hovertemplate\":\"<b>Average:</b> %{y} +/-%{customdata[0]:.3f}<br><b>Maximum:</b> %{customdata[1]:.3f}<br><b>Minimum:</b> %{customdata[2]:.3f}<br><b>Using:</b><br>%{customdata[3]}\",\"marker\":{\"color\":\"#FF7F0E\"},\"name\":\"2 Nodes\",\"texttemplate\":\"%{y:.3r}\",\"visible\":false,\"x\":[2],\"y\":[],\"type\":\"bar\"},{\"customdata\":[[52.46078414896029,5236.8290179879405,5038.13990059169,\"5113.659<br>5159.975<br>5236.829<br>5144.462<br>5130.829<br>5038.14<br>5112.308<br>5142.221<br>5073.03<br>5181.951<br>...\"]],\"hovertemplate\":\"<b>Average:</b> %{y} +/-%{customdata[0]:.3f}<br><b>Maximum:</b> %{customdata[1]:.3f}<br><b>Minimum:</b> %{customdata[2]:.3f}<br><b>Using:</b><br>%{customdata[3]}\",\"marker\":{\"color\":\"#2CA02C\"},\"name\":\"4 Nodes\",\"texttemplate\":\"%{y:.3r}\",\"visible\":false,\"x\":[4],\"y\":[5133.340400877455],\"type\":\"bar\"},{\"customdata\":[],\"hovertemplate\":\"<b>Average:</b> %{y} +/-%{customdata[0]:.3f}<br><b>Maximum:</b> %{customdata[1]:.3f}<br><b>Minimum:</b> %{customdata[2]:.3f}<br><b>Using:</b><br>%{customdata[3]}\",\"marker\":{\"color\":\"#D62728\"},\"name\":\"8 Nodes\",\"texttemplate\":\"%{y:.3r}\",\"visible\":false,\"x\":[8],\"y\":[],\"type\":\"bar\"},{\"customdata\":[],\"hovertemplate\":\"<b>Average:</b> %{y} +/-%{customdata[0]:.3f}<br><b>Maximum:</b> %{customdata[1]:.3f}<br><b>Minimum:</b> %{customdata[2]:.3f}<br><b>Using:</b><br>%{customdata[3]}\",\"marker\":{\"color\":\"#9467BD\"},\"name\":\"16 Nodes\",\"texttemplate\":\"%{y:.3r}\",\"visible\":false,\"x\":[16],\"y\":[],\"type\":\"bar\"},{\"customdata\":[[19.435781559498828,557.3670004801825,508.04325856873766,\"508.043<br>508.416<br>510.469<br>551.471<br>557.367<br>531.787<br>540.123\"]],\"hovertemplate\":\"<b>Average:</b> %{y} +/-%{customdata[0]:.3f}<br><b>Maximum:</b> %{customdata[1]:.3f}<br><b>Minimum:</b> %{customdata[2]:.3f}<br><b>Using:</b><br>%{customdata[3]}\",\"marker\":{\"color\":\"#8C564B\"},\"name\":\"32 Nodes\",\"texttemplate\":\"%{y:.3r}\",\"visible\":false,\"x\":[32],\"y\":[529.667892168409],\"type\":\"bar\"},{\"customdata\":[[49.615252566111415,1888.656876476016,1728.660190679133,\"1739.913<br>1888.657<br>1728.66<br>1787.908<br>1880.993<br>1731.898<br>1851.592<br>1822.668<br>1779.999<br>1814.803<br>...\"]],\"hovertemplate\":\"<b>Average:</b> %{y} +/-%{customdata[0]:.3f}<br><b>Maximum:</b> %{customdata[1]:.3f}<br><b>Minimum:</b> %{customdata[2]:.3f}<br><b>Using:</b><br>%{customdata[3]}\",\"marker\":{\"color\":\"#1F77B4\"},\"name\":\"1 Nodes\",\"texttemplate\":\"%{y:.3r}\",\"visible\":false,\"x\":[1],\"y\":[1813.3981360503992],\"type\":\"bar\"},{\"customdata\":[[19.074951463833823,950.3729761629365,867.1918242180254,\"867.192<br>950.373<br>906.344<br>885.729<br>881.015<br>909.347<br>904.087<br>919.119<br>910.614<br>891.024<br>...\"]],\"hovertemplate\":\"<b>Average:</b> %{y} +/-%{customdata[0]:.3f}<br><b>Maximum:</b> %{customdata[1]:.3f}<br><b>Minimum:</b> %{customdata[2]:.3f}<br><b>Using:</b><br>%{customdata[3]}\",\"marker\":{\"color\":\"#FF7F0E\"},\"name\":\"2 Nodes\",\"texttemplate\":\"%{y:.3r}\",\"visible\":false,\"x\":[2],\"y\":[901.1522023792735],\"type\":\"bar\"},{\"customdata\":[[12.1867524062709,420.62295808596537,360.1860932521522,\"360.186<br>420.623<br>367.754<br>380.359<br>373.237<br>369.004<br>369.831<br>370.539<br>372.008<br>371.234<br>...\"]],\"hovertemplate\":\"<b>Average:</b> %{y} +/-%{customdata[0]:.3f}<br><b>Maximum:</b> %{customdata[1]:.3f}<br><b>Minimum:</b> %{customdata[2]:.3f}<br><b>Using:</b><br>%{customdata[3]}\",\"marker\":{\"color\":\"#2CA02C\"},\"name\":\"4 Nodes\",\"texttemplate\":\"%{y:.3r}\",\"visible\":false,\"x\":[4],\"y\":[374.38466261905234],\"type\":\"bar\"},{\"customdata\":[[8.937221477348167,215.4038946570363,179.11636284086853,\"179.116<br>203.567<br>184.145<br>184.407<br>186.484<br>182.445<br>185.474<br>185.183<br>215.404<br>183.848<br>...\"]],\"hovertemplate\":\"<b>Average:</b> %{y} +/-%{customdata[0]:.3f}<br><b>Maximum:</b> %{customdata[1]:.3f}<br><b>Minimum:</b> %{customdata[2]:.3f}<br><b>Using:</b><br>%{customdata[3]}\",\"marker\":{\"color\":\"#D62728\"},\"name\":\"8 Nodes\",\"texttemplate\":\"%{y:.3r}\",\"visible\":false,\"x\":[8],\"y\":[187.73631039227578],\"type\":\"bar\"},{\"customdata\":[[5.929514520668461,108.84554803697392,88.48044012999162,\"91.248<br>101.775<br>105.155<br>91.553<br>91.607<br>91.693<br>98.292<br>108.846<br>93.677<br>95.745<br>...\"]],\"hovertemplate\":\"<b>Average:</b> %{y} +/-%{customdata[0]:.3f}<br><b>Maximum:</b> %{customdata[1]:.3f}<br><b>Minimum:</b> %{customdata[2]:.3f}<br><b>Using:</b><br>%{customdata[3]}\",\"marker\":{\"color\":\"#9467BD\"},\"name\":\"16 Nodes\",\"texttemplate\":\"%{y:.3r}\",\"visible\":false,\"x\":[16],\"y\":[93.875868287184],\"type\":\"bar\"},{\"customdata\":[[2.8057419635772725,53.73308042762801,41.30246428074315,\"43.485<br>53.733<br>47.08<br>42.907<br>43.969<br>43.735<br>48.129<br>46.108<br>41.302<br>43.872<br>...\"]],\"hovertemplate\":\"<b>Average:</b> %{y} +/-%{customdata[0]:.3f}<br><b>Maximum:</b> %{customdata[1]:.3f}<br><b>Minimum:</b> %{customdata[2]:.3f}<br><b>Using:</b><br>%{customdata[3]}\",\"marker\":{\"color\":\"#8C564B\"},\"name\":\"32 Nodes\",\"texttemplate\":\"%{y:.3r}\",\"visible\":false,\"x\":[32],\"y\":[45.31952059241559],\"type\":\"bar\"},{\"customdata\":[[2.255501285517579,213.03919890592806,205.21048436593264,\"210.625<br>209.945<br>210.395<br>205.21<br>213.039<br>208.271<br>208.528\"]],\"hovertemplate\":\"<b>Average:</b> %{y} +/-%{customdata[0]:.3f}<br><b>Maximum:</b> %{customdata[1]:.3f}<br><b>Minimum:</b> %{customdata[2]:.3f}<br><b>Using:</b><br>%{customdata[3]}\",\"marker\":{\"color\":\"#1F77B4\"},\"name\":\"1 Nodes\",\"texttemplate\":\"%{y:.3r}\",\"visible\":false,\"x\":[1],\"y\":[209.430376210383],\"type\":\"bar\"},{\"customdata\":[[0.44457168728042734,106.00097939907573,104.73219397198409,\"105.674<br>104.882<br>105.37<br>104.732<br>106.001<br>105.098<br>105.788\"]],\"hovertemplate\":\"<b>Average:</b> %{y} +/-%{customdata[0]:.3f}<br><b>Maximum:</b> %{customdata[1]:.3f}<br><b>Minimum:</b> %{customdata[2]:.3f}<br><b>Using:</b><br>%{customdata[3]}\",\"marker\":{\"color\":\"#FF7F0E\"},\"name\":\"2 Nodes\",\"texttemplate\":\"%{y:.3r}\",\"visible\":false,\"x\":[2],\"y\":[105.36341434374584],\"type\":\"bar\"},{\"customdata\":[[0.37594288593405545,52.64999827509746,51.42167600407265,\"52.219<br>51.66<br>52.65<br>51.422<br>51.695<br>51.957<br>51.921\"]],\"hovertemplate\":\"<b>Average:</b> %{y} +/-%{customdata[0]:.3f}<br><b>Maximum:</b> %{customdata[1]:.3f}<br><b>Minimum:</b> %{customdata[2]:.3f}<br><b>Using:</b><br>%{customdata[3]}\",\"marker\":{\"color\":\"#2CA02C\"},\"name\":\"4 Nodes\",\"texttemplate\":\"%{y:.3r}\",\"visible\":false,\"x\":[4],\"y\":[51.93193558091298],\"type\":\"bar\"},{\"customdata\":[[0.925106404949476,28.64489594218321,25.822643724968657,\"28.645<br>25.823<br>25.982<br>25.829<br>26.208<br>26.487<br>26.11\"]],\"hovertemplate\":\"<b>Average:</b> %{y} +/-%{customdata[0]:.3f}<br><b>Maximum:</b> %{customdata[1]:.3f}<br><b>Minimum:</b> %{customdata[2]:.3f}<br><b>Using:</b><br>%{customdata[3]}\",\"marker\":{\"color\":\"#D62728\"},\"name\":\"8 Nodes\",\"texttemplate\":\"%{y:.3r}\",\"visible\":false,\"x\":[8],\"y\":[26.44051283398377],\"type\":\"bar\"},{\"customdata\":[[0.8186207265155171,15.735090350732207,13.54062087321654,\"14.57<br>15.735<br>15.479<br>15.291<br>14.027<br>13.76<br>13.541\"]],\"hovertemplate\":\"<b>Average:</b> %{y} +/-%{customdata[0]:.3f}<br><b>Maximum:</b> %{customdata[1]:.3f}<br><b>Minimum:</b> %{customdata[2]:.3f}<br><b>Using:</b><br>%{customdata[3]}\",\"marker\":{\"color\":\"#9467BD\"},\"name\":\"16 Nodes\",\"texttemplate\":\"%{y:.3r}\",\"visible\":false,\"x\":[16],\"y\":[14.628912477354918],\"type\":\"bar\"},{\"customdata\":[[0.20813367097031868,8.32505031907931,7.651226557325572,\"7.651<br>8.325<br>7.84<br>7.802<br>7.778<br>7.688<br>7.777\"]],\"hovertemplate\":\"<b>Average:</b> %{y} +/-%{customdata[0]:.3f}<br><b>Maximum:</b> %{customdata[1]:.3f}<br><b>Minimum:</b> %{customdata[2]:.3f}<br><b>Using:</b><br>%{customdata[3]}\",\"marker\":{\"color\":\"#8C564B\"},\"name\":\"32 Nodes\",\"texttemplate\":\"%{y:.3r}\",\"visible\":false,\"x\":[32],\"y\":[7.8372946243866215],\"type\":\"bar\"},{\"customdata\":[],\"hovertemplate\":\"<b>Average:</b> %{y} +/-%{customdata[0]:.3f}<br><b>Maximum:</b> %{customdata[1]:.3f}<br><b>Minimum:</b> %{customdata[2]:.3f}<br><b>Using:</b><br>%{customdata[3]}\",\"marker\":{\"color\":\"#1F77B4\"},\"name\":\"1 Nodes\",\"texttemplate\":\"%{y:.3r}\",\"visible\":false,\"x\":[1],\"y\":[],\"type\":\"bar\"},{\"customdata\":[],\"hovertemplate\":\"<b>Average:</b> %{y} +/-%{customdata[0]:.3f}<br><b>Maximum:</b> %{customdata[1]:.3f}<br><b>Minimum:</b> %{customdata[2]:.3f}<br><b>Using:</b><br>%{customdata[3]}\",\"marker\":{\"color\":\"#FF7F0E\"},\"name\":\"2 Nodes\",\"texttemplate\":\"%{y:.3r}\",\"visible\":false,\"x\":[2],\"y\":[],\"type\":\"bar\"},{\"customdata\":[[530.4242826375572,3600.0311181589495,2219.5050200980622,\"2350.134<br>2219.505<br>2220.564<br>2334.096<br>3600.031\"]],\"hovertemplate\":\"<b>Average:</b> %{y} +/-%{customdata[0]:.3f}<br><b>Maximum:</b> %{customdata[1]:.3f}<br><b>Minimum:</b> %{customdata[2]:.3f}<br><b>Using:</b><br>%{customdata[3]}\",\"marker\":{\"color\":\"#2CA02C\"},\"name\":\"4 Nodes\",\"texttemplate\":\"%{y:.3r}\",\"visible\":false,\"x\":[4],\"y\":[2544.8659935787787],\"type\":\"bar\"},{\"customdata\":[[101.24990411630758,1335.8441617290955,1047.8957989569753,\"1317.424<br>1068.17<br>1078.05<br>1129.259<br>1273.956<br>1174.492<br>1110.408<br>1247.425<br>1132.43<br>1335.844<br>...\"]],\"hovertemplate\":\"<b>Average:</b> %{y} +/-%{customdata[0]:.3f}<br><b>Maximum:</b> %{customdata[1]:.3f}<br><b>Minimum:</b> %{customdata[2]:.3f}<br><b>Using:</b><br>%{customdata[3]}\",\"marker\":{\"color\":\"#D62728\"},\"name\":\"8 Nodes\",\"texttemplate\":\"%{y:.3r}\",\"visible\":false,\"x\":[8],\"y\":[1144.8158823907622],\"type\":\"bar\"},{\"customdata\":[[186.49120572642903,1304.246100329794,493.2862954312004,\"633.132<br>501.668<br>499.826<br>557.612<br>1304.246<br>526.583<br>634.795<br>526.97<br>606.725<br>530.696<br>...\"]],\"hovertemplate\":\"<b>Average:</b> %{y} +/-%{customdata[0]:.3f}<br><b>Maximum:</b> %{customdata[1]:.3f}<br><b>Minimum:</b> %{customdata[2]:.3f}<br><b>Using:</b><br>%{customdata[3]}\",\"marker\":{\"color\":\"#9467BD\"},\"name\":\"16 Nodes\",\"texttemplate\":\"%{y:.3r}\",\"visible\":false,\"x\":[16],\"y\":[582.6069451520384],\"type\":\"bar\"},{\"customdata\":[[38.59985560120105,393.2098467927426,264.2980560339056,\"299.559<br>273.869<br>273.507<br>386.095<br>393.21<br>300.382<br>289.72<br>344.98<br>305.641<br>291.992<br>...\"]],\"hovertemplate\":\"<b>Average:</b> %{y} +/-%{customdata[0]:.3f}<br><b>Maximum:</b> %{customdata[1]:.3f}<br><b>Minimum:</b> %{customdata[2]:.3f}<br><b>Using:</b><br>%{customdata[3]}\",\"marker\":{\"color\":\"#8C564B\"},\"name\":\"32 Nodes\",\"texttemplate\":\"%{y:.3r}\",\"visible\":false,\"x\":[32],\"y\":[300.48676829360534],\"type\":\"bar\"},{\"customdata\":[],\"hovertemplate\":\"<b>Average:</b> %{y} +/-%{customdata[0]:.3f}<br><b>Maximum:</b> %{customdata[1]:.3f}<br><b>Minimum:</b> %{customdata[2]:.3f}<br><b>Using:</b><br>%{customdata[3]}\",\"marker\":{\"color\":\"#1F77B4\"},\"name\":\"1 Nodes\",\"texttemplate\":\"%{y:.3r}\",\"visible\":false,\"x\":[1],\"y\":[],\"type\":\"bar\"},{\"customdata\":[],\"hovertemplate\":\"<b>Average:</b> %{y} +/-%{customdata[0]:.3f}<br><b>Maximum:</b> %{customdata[1]:.3f}<br><b>Minimum:</b> %{customdata[2]:.3f}<br><b>Using:</b><br>%{customdata[3]}\",\"marker\":{\"color\":\"#FF7F0E\"},\"name\":\"2 Nodes\",\"texttemplate\":\"%{y:.3r}\",\"visible\":false,\"x\":[2],\"y\":[],\"type\":\"bar\"},{\"customdata\":[],\"hovertemplate\":\"<b>Average:</b> %{y} +/-%{customdata[0]:.3f}<br><b>Maximum:</b> %{customdata[1]:.3f}<br><b>Minimum:</b> %{customdata[2]:.3f}<br><b>Using:</b><br>%{customdata[3]}\",\"marker\":{\"color\":\"#2CA02C\"},\"name\":\"4 Nodes\",\"texttemplate\":\"%{y:.3r}\",\"visible\":false,\"x\":[4],\"y\":[],\"type\":\"bar\"},{\"customdata\":[],\"hovertemplate\":\"<b>Average:</b> %{y} +/-%{customdata[0]:.3f}<br><b>Maximum:</b> %{customdata[1]:.3f}<br><b>Minimum:</b> %{customdata[2]:.3f}<br><b>Using:</b><br>%{customdata[3]}\",\"marker\":{\"color\":\"#D62728\"},\"name\":\"8 Nodes\",\"texttemplate\":\"%{y:.3r}\",\"visible\":false,\"x\":[8],\"y\":[],\"type\":\"bar\"},{\"customdata\":[],\"hovertemplate\":\"<b>Average:</b> %{y} +/-%{customdata[0]:.3f}<br><b>Maximum:</b> %{customdata[1]:.3f}<br><b>Minimum:</b> %{customdata[2]:.3f}<br><b>Using:</b><br>%{customdata[3]}\",\"marker\":{\"color\":\"#9467BD\"},\"name\":\"16 Nodes\",\"texttemplate\":\"%{y:.3r}\",\"visible\":false,\"x\":[16],\"y\":[],\"type\":\"bar\"},{\"customdata\":[[535.6749169360729,2263.884091910906,575.0339033883065,\"819.388<br>2263.884<br>1274.917<br>639.709<br>980.219<br>575.034<br>867.616\"]],\"hovertemplate\":\"<b>Average:</b> %{y} +/-%{customdata[0]:.3f}<br><b>Maximum:</b> %{customdata[1]:.3f}<br><b>Minimum:</b> %{customdata[2]:.3f}<br><b>Using:</b><br>%{customdata[3]}\",\"marker\":{\"color\":\"#8C564B\"},\"name\":\"32 Nodes\",\"texttemplate\":\"%{y:.3r}\",\"visible\":false,\"x\":[32],\"y\":[1060.1095431755696],\"type\":\"bar\"},{\"customdata\":[[26.738236148535528,92.80499579408206,0.08058743388392031,\"71.436<br>71.614<br>92.805<br>8.007<br>64.562<br>40.097<br>75.146<br>50.561<br>77.409<br>72.107<br>...\"]],\"hovertemplate\":\"<b>Average:</b> %{y} +/-%{customdata[0]:.3f}<br><b>Maximum:</b> %{customdata[1]:.3f}<br><b>Minimum:</b> %{customdata[2]:.3f}<br><b>Using:</b><br>%{customdata[3]}\",\"marker\":{\"color\":\"#1F77B4\"},\"name\":\"1 Nodes\",\"texttemplate\":\"%{y:.3r}\",\"visible\":false,\"x\":[1],\"y\":[51.445095558274296],\"type\":\"bar\"},{\"customdata\":[[13.617051764621758,68.22037794697098,0.9715839268174022,\"27.155<br>68.22<br>56.039<br>22.007<br>5.085<br>30.794<br>7.517<br>16.173<br>0.972<br>24.736<br>...\"]],\"hovertemplate\":\"<b>Average:</b> %{y} +/-%{customdata[0]:.3f}<br><b>Maximum:</b> %{customdata[1]:.3f}<br><b>Minimum:</b> %{customdata[2]:.3f}<br><b>Using:</b><br>%{customdata[3]}\",\"marker\":{\"color\":\"#FF7F0E\"},\"name\":\"2 Nodes\",\"texttemplate\":\"%{y:.3r}\",\"visible\":false,\"x\":[2],\"y\":[23.26491664061224],\"type\":\"bar\"},{\"customdata\":[[5.624778536183987,34.023974963929504,0.11303903697989881,\"17.901<br>19.942<br>34.024<br>7.185<br>4.507<br>5.607<br>14.133<br>6.242<br>11.454<br>3.975<br>...\"]],\"hovertemplate\":\"<b>Average:</b> %{y} +/-%{customdata[0]:.3f}<br><b>Maximum:</b> %{customdata[1]:.3f}<br><b>Minimum:</b> %{customdata[2]:.3f}<br><b>Using:</b><br>%{customdata[3]}\",\"marker\":{\"color\":\"#2CA02C\"},\"name\":\"4 Nodes\",\"texttemplate\":\"%{y:.3r}\",\"visible\":false,\"x\":[4],\"y\":[7.354935139472141],\"type\":\"bar\"},{\"customdata\":[[2.7692808410305174,13.551974300062284,0.7780010751448572,\"3.162<br>8.661<br>7.555<br>0.909<br>2.785<br>13.552<br>13.383<br>1.333<br>3.293<br>0.778<br>...\"]],\"hovertemplate\":\"<b>Average:</b> %{y} +/-%{customdata[0]:.3f}<br><b>Maximum:</b> %{customdata[1]:.3f}<br><b>Minimum:</b> %{customdata[2]:.3f}<br><b>Using:</b><br>%{customdata[3]}\",\"marker\":{\"color\":\"#D62728\"},\"name\":\"8 Nodes\",\"texttemplate\":\"%{y:.3r}\",\"visible\":false,\"x\":[8],\"y\":[3.5749623068420098],\"type\":\"bar\"},{\"customdata\":[[1.037415487572598,6.614503377117217,0.1970094651915133,\"0.265<br>1.71<br>1.918<br>1.66<br>1.13<br>4.632<br>6.615<br>0.71<br>1.071<br>1.328<br>...\"]],\"hovertemplate\":\"<b>Average:</b> %{y} +/-%{customdata[0]:.3f}<br><b>Maximum:</b> %{customdata[1]:.3f}<br><b>Minimum:</b> %{customdata[2]:.3f}<br><b>Using:</b><br>%{customdata[3]}\",\"marker\":{\"color\":\"#9467BD\"},\"name\":\"16 Nodes\",\"texttemplate\":\"%{y:.3r}\",\"visible\":false,\"x\":[16],\"y\":[1.4381882265665906],\"type\":\"bar\"},{\"customdata\":[[0.6266148174942093,3.7573389220051467,0.22568948799744248,\"0.699<br>0.955<br>0.531<br>0.457<br>0.703<br>3.757<br>3.112<br>0.449<br>0.438<br>0.406<br>...\"]],\"hovertemplate\":\"<b>Average:</b> %{y} +/-%{customdata[0]:.3f}<br><b>Maximum:</b> %{customdata[1]:.3f}<br><b>Minimum:</b> %{customdata[2]:.3f}<br><b>Using:</b><br>%{customdata[3]}\",\"marker\":{\"color\":\"#8C564B\"},\"name\":\"32 Nodes\",\"texttemplate\":\"%{y:.3r}\",\"visible\":false,\"x\":[32],\"y\":[0.5636573028453487],\"type\":\"bar\"},{\"customdata\":[[27.395334513850788,96.9663975990843,0.21077739307656884,\"46.089<br>54.43<br>47.472<br>65.62<br>0.335<br>47.523<br>19.049<br>62.81<br>61.899<br>63.863<br>...\"]],\"hovertemplate\":\"<b>Average:</b> %{y} +/-%{customdata[0]:.3f}<br><b>Maximum:</b> %{customdata[1]:.3f}<br><b>Minimum:</b> %{customdata[2]:.3f}<br><b>Using:</b><br>%{customdata[3]}\",\"marker\":{\"color\":\"#1F77B4\"},\"name\":\"1 Nodes\",\"texttemplate\":\"%{y:.3r}\",\"visible\":false,\"x\":[1],\"y\":[44.078243732482115],\"type\":\"bar\"},{\"customdata\":[[13.230452292295634,65.19357958505861,0.19652437209151685,\"13.615<br>65.194<br>39.394<br>13.089<br>26.455<br>3.989<br>16.857<br>0.852<br>29.778<br>9.416<br>...\"]],\"hovertemplate\":\"<b>Average:</b> %{y} +/-%{customdata[0]:.3f}<br><b>Maximum:</b> %{customdata[1]:.3f}<br><b>Minimum:</b> %{customdata[2]:.3f}<br><b>Using:</b><br>%{customdata[3]}\",\"marker\":{\"color\":\"#FF7F0E\"},\"name\":\"2 Nodes\",\"texttemplate\":\"%{y:.3r}\",\"visible\":false,\"x\":[2],\"y\":[22.343472172843015],\"type\":\"bar\"},{\"customdata\":[[3.9468078585918707,22.518773270072415,0.27245984389446676,\"8.082<br>22.519<br>0.357<br>11.759<br>3.655<br>13.696<br>17.278<br>0.971<br>7.766<br>7.491<br>...\"]],\"hovertemplate\":\"<b>Average:</b> %{y} +/-%{customdata[0]:.3f}<br><b>Maximum:</b> %{customdata[1]:.3f}<br><b>Minimum:</b> %{customdata[2]:.3f}<br><b>Using:</b><br>%{customdata[3]}\",\"marker\":{\"color\":\"#2CA02C\"},\"name\":\"4 Nodes\",\"texttemplate\":\"%{y:.3r}\",\"visible\":false,\"x\":[4],\"y\":[6.754335740511801],\"type\":\"bar\"},{\"customdata\":[[2.458100780694122,14.200616657035425,0.33055191999301314,\"4.709<br>14.201<br>4.212<br>4.458<br>3.142<br>3.571<br>4.277<br>2.392<br>1.213<br>4.17<br>...\"]],\"hovertemplate\":\"<b>Average:</b> %{y} +/-%{customdata[0]:.3f}<br><b>Maximum:</b> %{customdata[1]:.3f}<br><b>Minimum:</b> %{customdata[2]:.3f}<br><b>Using:</b><br>%{customdata[3]}\",\"marker\":{\"color\":\"#D62728\"},\"name\":\"8 Nodes\",\"texttemplate\":\"%{y:.3r}\",\"visible\":false,\"x\":[8],\"y\":[4.042850160461038],\"type\":\"bar\"},{\"customdata\":[[1.0567831181560154,6.794837557245046,0.4135774429887533,\"0.485<br>6.795<br>1.714<br>2.918<br>1.687<br>1.818<br>2.546<br>1.772<br>0.421<br>1.782<br>...\"]],\"hovertemplate\":\"<b>Average:</b> %{y} +/-%{customdata[0]:.3f}<br><b>Maximum:</b> %{customdata[1]:.3f}<br><b>Minimum:</b> %{customdata[2]:.3f}<br><b>Using:</b><br>%{customdata[3]}\",\"marker\":{\"color\":\"#9467BD\"},\"name\":\"16 Nodes\",\"texttemplate\":\"%{y:.3r}\",\"visible\":false,\"x\":[16],\"y\":[1.6232189582660794],\"type\":\"bar\"},{\"customdata\":[[0.4704864452365721,3.753158784005791,0.4715214241296053,\"0.762<br>3.753<br>0.564<br>0.94<br>0.949<br>0.712<br>0.723<br>0.945<br>0.876<br>0.529<br>...\"]],\"hovertemplate\":\"<b>Average:</b> %{y} +/-%{customdata[0]:.3f}<br><b>Maximum:</b> %{customdata[1]:.3f}<br><b>Minimum:</b> %{customdata[2]:.3f}<br><b>Using:</b><br>%{customdata[3]}\",\"marker\":{\"color\":\"#8C564B\"},\"name\":\"32 Nodes\",\"texttemplate\":\"%{y:.3r}\",\"visible\":false,\"x\":[32],\"y\":[0.7463496557258545],\"type\":\"bar\"},{\"customdata\":[[1.9856605378284167,9.674280396895483,0.18087760382331908,\"3.43<br>2.985<br>5.049<br>9.674<br>4.006<br>1.908<br>5.239<br>2.421<br>1.696<br>0.5<br>...\"]],\"hovertemplate\":\"<b>Average:</b> %{y} +/-%{customdata[0]:.3f}<br><b>Maximum:</b> %{customdata[1]:.3f}<br><b>Minimum:</b> %{customdata[2]:.3f}<br><b>Using:</b><br>%{customdata[3]}\",\"marker\":{\"color\":\"#1F77B4\"},\"name\":\"1 Nodes\",\"texttemplate\":\"%{y:.3r}\",\"visible\":false,\"x\":[1],\"y\":[2.5094033171363335],\"type\":\"bar\"},{\"customdata\":[[0.9899369618425145,4.834275701781735,0.2616578759625554,\"3.728<br>1.866<br>1.734<br>3.282<br>4.834<br>0.985<br>0.484<br>1.123<br>0.756<br>0.759<br>...\"]],\"hovertemplate\":\"<b>Average:</b> %{y} +/-%{customdata[0]:.3f}<br><b>Maximum:</b> %{customdata[1]:.3f}<br><b>Minimum:</b> %{customdata[2]:.3f}<br><b>Using:</b><br>%{customdata[3]}\",\"marker\":{\"color\":\"#FF7F0E\"},\"name\":\"2 Nodes\",\"texttemplate\":\"%{y:.3r}\",\"visible\":false,\"x\":[2],\"y\":[1.5160623155633344],\"type\":\"bar\"},{\"customdata\":[[0.5677396349836522,2.642760860035196,0.24758315295912325,\"2.643<br>2.197<br>0.522<br>2.028<br>0.985<br>0.577<br>0.756<br>1.317<br>0.932<br>1.207<br>...\"]],\"hovertemplate\":\"<b>Average:</b> %{y} +/-%{customdata[0]:.3f}<br><b>Maximum:</b> %{customdata[1]:.3f}<br><b>Minimum:</b> %{customdata[2]:.3f}<br><b>Using:</b><br>%{customdata[3]}\",\"marker\":{\"color\":\"#2CA02C\"},\"name\":\"4 Nodes\",\"texttemplate\":\"%{y:.3r}\",\"visible\":false,\"x\":[4],\"y\":[0.9825612648310972],\"type\":\"bar\"},{\"customdata\":[[0.3982582817024422,2.1458655141759664,0.32147404295392334,\"1.538<br>1.116<br>1.527<br>1.595<br>1.024<br>0.684<br>0.606<br>1.705<br>0.604<br>1.185<br>...\"]],\"hovertemplate\":\"<b>Average:</b> %{y} +/-%{customdata[0]:.3f}<br><b>Maximum:</b> %{customdata[1]:.3f}<br><b>Minimum:</b> %{customdata[2]:.3f}<br><b>Using:</b><br>%{customdata[3]}\",\"marker\":{\"color\":\"#D62728\"},\"name\":\"8 Nodes\",\"texttemplate\":\"%{y:.3r}\",\"visible\":false,\"x\":[8],\"y\":[0.8473817059730596],\"type\":\"bar\"},{\"customdata\":[[0.28235792974574797,1.5769052016548812,0.4345451961271465,\"1.022<br>1.308<br>0.627<br>1.496<br>0.715<br>0.68<br>0.596<br>0.494<br>0.477<br>1.41<br>...\"]],\"hovertemplate\":\"<b>Average:</b> %{y} +/-%{customdata[0]:.3f}<br><b>Maximum:</b> %{customdata[1]:.3f}<br><b>Minimum:</b> %{customdata[2]:.3f}<br><b>Using:</b><br>%{customdata[3]}\",\"marker\":{\"color\":\"#9467BD\"},\"name\":\"16 Nodes\",\"texttemplate\":\"%{y:.3r}\",\"visible\":false,\"x\":[16],\"y\":[0.725877589546144],\"type\":\"bar\"},{\"customdata\":[[0.2662521049435835,1.6980274938978255,0.5263987518846989,\"1.565<br>1.036<br>1.698<br>1.391<br>1.214<br>1.098<br>0.844<br>0.995<br>0.888<br>0.857<br>...\"]],\"hovertemplate\":\"<b>Average:</b> %{y} +/-%{customdata[0]:.3f}<br><b>Maximum:</b> %{customdata[1]:.3f}<br><b>Minimum:</b> %{customdata[2]:.3f}<br><b>Using:</b><br>%{customdata[3]}\",\"marker\":{\"color\":\"#8C564B\"},\"name\":\"32 Nodes\",\"texttemplate\":\"%{y:.3r}\",\"visible\":false,\"x\":[32],\"y\":[0.8642644224529887],\"type\":\"bar\"},{\"customdata\":[[1.0245801663881573,5.318331117043272,0.13206508988514543,\"2.963<br>2.882<br>2.724<br>0.773<br>1.573<br>0.497<br>0.393<br>0.706<br>1.588<br>0.242<br>...\"]],\"hovertemplate\":\"<b>Average:</b> %{y} +/-%{customdata[0]:.3f}<br><b>Maximum:</b> %{customdata[1]:.3f}<br><b>Minimum:</b> %{customdata[2]:.3f}<br><b>Using:</b><br>%{customdata[3]}\",\"marker\":{\"color\":\"#1F77B4\"},\"name\":\"1 Nodes\",\"texttemplate\":\"%{y:.3r}\",\"visible\":false,\"x\":[1],\"y\":[1.163901081734753],\"type\":\"bar\"},{\"customdata\":[[0.4989788162975451,2.206409632926807,0.11855070386081934,\"1.986<br>0.957<br>1.041<br>0.93<br>0.574<br>0.588<br>1.04<br>0.498<br>1.664<br>0.313<br>...\"]],\"hovertemplate\":\"<b>Average:</b> %{y} +/-%{customdata[0]:.3f}<br><b>Maximum:</b> %{customdata[1]:.3f}<br><b>Minimum:</b> %{customdata[2]:.3f}<br><b>Using:</b><br>%{customdata[3]}\",\"marker\":{\"color\":\"#FF7F0E\"},\"name\":\"2 Nodes\",\"texttemplate\":\"%{y:.3r}\",\"visible\":false,\"x\":[2],\"y\":[0.7036461464149204],\"type\":\"bar\"},{\"customdata\":[[0.23035636850432686,1.2660064839292318,0.15251847612671554,\"1.266<br>0.593<br>0.652<br>0.425<br>0.398<br>0.564<br>0.549<br>0.462<br>0.779<br>0.341<br>...\"]],\"hovertemplate\":\"<b>Average:</b> %{y} +/-%{customdata[0]:.3f}<br><b>Maximum:</b> %{customdata[1]:.3f}<br><b>Minimum:</b> %{customdata[2]:.3f}<br><b>Using:</b><br>%{customdata[3]}\",\"marker\":{\"color\":\"#2CA02C\"},\"name\":\"4 Nodes\",\"texttemplate\":\"%{y:.3r}\",\"visible\":false,\"x\":[4],\"y\":[0.3819424738968782],\"type\":\"bar\"},{\"customdata\":[[0.18066246839048206,0.9246622149366885,0.176947871921584,\"0.853<br>0.585<br>0.562<br>0.291<br>0.288<br>0.309<br>0.532<br>0.242<br>0.388<br>0.772<br>...\"]],\"hovertemplate\":\"<b>Average:</b> %{y} +/-%{customdata[0]:.3f}<br><b>Maximum:</b> %{customdata[1]:.3f}<br><b>Minimum:</b> %{customdata[2]:.3f}<br><b>Using:</b><br>%{customdata[3]}\",\"marker\":{\"color\":\"#D62728\"},\"name\":\"8 Nodes\",\"texttemplate\":\"%{y:.3r}\",\"visible\":false,\"x\":[8],\"y\":[0.392823421653915],\"type\":\"bar\"},{\"customdata\":[[0.143301154777636,0.8150427173823118,0.22260870318859816,\"0.747<br>0.576<br>0.385<br>0.462<br>0.623<br>0.543<br>0.648<br>0.285<br>0.27<br>0.374<br>...\"]],\"hovertemplate\":\"<b>Average:</b> %{y} +/-%{customdata[0]:.3f}<br><b>Maximum:</b> %{customdata[1]:.3f}<br><b>Minimum:</b> %{customdata[2]:.3f}<br><b>Using:</b><br>%{customdata[3]}\",\"marker\":{\"color\":\"#9467BD\"},\"name\":\"16 Nodes\",\"texttemplate\":\"%{y:.3r}\",\"visible\":false,\"x\":[16],\"y\":[0.40081056448175234],\"type\":\"bar\"},{\"customdata\":[[0.199297342239583,1.3123539579100907,0.2599600306712091,\"1.312<br>1.078<br>0.503<br>0.562<br>0.606<br>0.547<br>0.419<br>0.512<br>0.468<br>0.377<br>...\"]],\"hovertemplate\":\"<b>Average:</b> %{y} +/-%{customdata[0]:.3f}<br><b>Maximum:</b> %{customdata[1]:.3f}<br><b>Minimum:</b> %{customdata[2]:.3f}<br><b>Using:</b><br>%{customdata[3]}\",\"marker\":{\"color\":\"#8C564B\"},\"name\":\"32 Nodes\",\"texttemplate\":\"%{y:.3r}\",\"visible\":false,\"x\":[32],\"y\":[0.40414955550210274],\"type\":\"bar\"},{\"customdata\":[[0.33109715558210234,1.4414395468775183,0.056383271934464574,\"0.073<br>1.411<br>0.108<br>0.091<br>0.08<br>0.079<br>1.441<br>0.146<br>0.109<br>0.16<br>...\"]],\"hovertemplate\":\"<b>Average:</b> %{y} +/-%{customdata[0]:.3f}<br><b>Maximum:</b> %{customdata[1]:.3f}<br><b>Minimum:</b> %{customdata[2]:.3f}<br><b>Using:</b><br>%{customdata[3]}\",\"marker\":{\"color\":\"#1F77B4\"},\"name\":\"1 Nodes\",\"texttemplate\":\"%{y:.3r}\",\"visible\":false,\"x\":[1],\"y\":[0.15903092598780355],\"type\":\"bar\"},{\"customdata\":[[0.37539586485158927,1.8375712188426405,0.05266940011642873,\"0.07<br>1.497<br>0.147<br>0.084<br>0.076<br>0.08<br>1.838<br>0.14<br>0.113<br>0.149<br>...\"]],\"hovertemplate\":\"<b>Average:</b> %{y} +/-%{customdata[0]:.3f}<br><b>Maximum:</b> %{customdata[1]:.3f}<br><b>Minimum:</b> %{customdata[2]:.3f}<br><b>Using:</b><br>%{customdata[3]}\",\"marker\":{\"color\":\"#FF7F0E\"},\"name\":\"2 Nodes\",\"texttemplate\":\"%{y:.3r}\",\"visible\":false,\"x\":[2],\"y\":[0.16657635885627664],\"type\":\"bar\"},{\"customdata\":[[0.4056184956942158,1.9750637030228972,0.05562538397498429,\"0.076<br>1.608<br>0.113<br>0.111<br>0.086<br>0.106<br>1.975<br>0.155<br>0.117<br>0.244<br>...\"]],\"hovertemplate\":\"<b>Average:</b> %{y} +/-%{customdata[0]:.3f}<br><b>Maximum:</b> %{customdata[1]:.3f}<br><b>Minimum:</b> %{customdata[2]:.3f}<br><b>Using:</b><br>%{customdata[3]}\",\"marker\":{\"color\":\"#2CA02C\"},\"name\":\"4 Nodes\",\"texttemplate\":\"%{y:.3r}\",\"visible\":false,\"x\":[4],\"y\":[0.18105338496017329],\"type\":\"bar\"},{\"customdata\":[[0.2995798170308143,1.6436242209747434,0.05278006219305098,\"0.065<br>0.075<br>0.072<br>0.064<br>0.063<br>0.065<br>1.437<br>0.177<br>0.135<br>0.265<br>...\"]],\"hovertemplate\":\"<b>Average:</b> %{y} +/-%{customdata[0]:.3f}<br><b>Maximum:</b> %{customdata[1]:.3f}<br><b>Minimum:</b> %{customdata[2]:.3f}<br><b>Using:</b><br>%{customdata[3]}\",\"marker\":{\"color\":\"#D62728\"},\"name\":\"8 Nodes\",\"texttemplate\":\"%{y:.3r}\",\"visible\":false,\"x\":[8],\"y\":[0.13371386802061758],\"type\":\"bar\"},{\"customdata\":[[0.2993115381038372,1.586174163967371,0.05846220115199685,\"0.09<br>0.116<br>0.084<br>0.083<br>0.091<br>0.085<br>1.54<br>0.178<br>0.157<br>0.198<br>...\"]],\"hovertemplate\":\"<b>Average:</b> %{y} +/-%{customdata[0]:.3f}<br><b>Maximum:</b> %{customdata[1]:.3f}<br><b>Minimum:</b> %{customdata[2]:.3f}<br><b>Using:</b><br>%{customdata[3]}\",\"marker\":{\"color\":\"#9467BD\"},\"name\":\"16 Nodes\",\"texttemplate\":\"%{y:.3r}\",\"visible\":false,\"x\":[16],\"y\":[0.148868008734698],\"type\":\"bar\"},{\"customdata\":[[0.2586889516458699,1.4122587507590652,0.06777360662817955,\"0.09<br>0.084<br>0.088<br>0.097<br>0.085<br>0.089<br>1.323<br>0.17<br>0.115<br>0.18<br>...\"]],\"hovertemplate\":\"<b>Average:</b> %{y} +/-%{customdata[0]:.3f}<br><b>Maximum:</b> %{customdata[1]:.3f}<br><b>Minimum:</b> %{customdata[2]:.3f}<br><b>Using:</b><br>%{customdata[3]}\",\"marker\":{\"color\":\"#8C564B\"},\"name\":\"32 Nodes\",\"texttemplate\":\"%{y:.3r}\",\"visible\":false,\"x\":[32],\"y\":[0.14557404830021428],\"type\":\"bar\"},{\"customdata\":[[0.23016708811728553,1.66966481693089,0.06179100996814668,\"0.102<br>0.158<br>0.195<br>0.095<br>1.67<br>0.104<br>0.105<br>0.082<br>0.165<br>0.106<br>...\"]],\"hovertemplate\":\"<b>Average:</b> %{y} +/-%{customdata[0]:.3f}<br><b>Maximum:</b> %{customdata[1]:.3f}<br><b>Minimum:</b> %{customdata[2]:.3f}<br><b>Using:</b><br>%{customdata[3]}\",\"marker\":{\"color\":\"#1F77B4\"},\"name\":\"1 Nodes\",\"texttemplate\":\"%{y:.3r}\",\"visible\":false,\"x\":[1],\"y\":[0.1395545417908579],\"type\":\"bar\"},{\"customdata\":[[0.2316558953970664,1.6825911209452897,0.06468558497726917,\"0.172<br>0.188<br>0.251<br>0.112<br>1.683<br>0.115<br>0.168<br>0.085<br>0.082<br>0.096<br>...\"]],\"hovertemplate\":\"<b>Average:</b> %{y} +/-%{customdata[0]:.3f}<br><b>Maximum:</b> %{customdata[1]:.3f}<br><b>Minimum:</b> %{customdata[2]:.3f}<br><b>Using:</b><br>%{customdata[3]}\",\"marker\":{\"color\":\"#FF7F0E\"},\"name\":\"2 Nodes\",\"texttemplate\":\"%{y:.3r}\",\"visible\":false,\"x\":[2],\"y\":[0.13803965816313915],\"type\":\"bar\"},{\"customdata\":[[0.25041911283680224,1.8524680689442903,0.08598954393528402,\"0.223<br>0.169<br>0.255<br>0.139<br>1.852<br>0.147<br>0.139<br>0.23<br>0.157<br>0.166<br>...\"]],\"hovertemplate\":\"<b>Average:</b> %{y} +/-%{customdata[0]:.3f}<br><b>Maximum:</b> %{customdata[1]:.3f}<br><b>Minimum:</b> %{customdata[2]:.3f}<br><b>Using:</b><br>%{customdata[3]}\",\"marker\":{\"color\":\"#2CA02C\"},\"name\":\"4 Nodes\",\"texttemplate\":\"%{y:.3r}\",\"visible\":false,\"x\":[4],\"y\":[0.16816319197297414],\"type\":\"bar\"},{\"customdata\":[[0.2407530458882469,1.8204155629500747,0.1367664048448205,\"0.268<br>0.177<br>0.306<br>0.176<br>1.82<br>0.197<br>0.178<br>0.18<br>0.172<br>0.179<br>...\"]],\"hovertemplate\":\"<b>Average:</b> %{y} +/-%{customdata[0]:.3f}<br><b>Maximum:</b> %{customdata[1]:.3f}<br><b>Minimum:</b> %{customdata[2]:.3f}<br><b>Using:</b><br>%{customdata[3]}\",\"marker\":{\"color\":\"#D62728\"},\"name\":\"8 Nodes\",\"texttemplate\":\"%{y:.3r}\",\"visible\":false,\"x\":[8],\"y\":[0.19926083517914756],\"type\":\"bar\"},{\"customdata\":[[0.2872405698169206,2.168452660087496,0.18105506198480725,\"0.63<br>0.238<br>0.423<br>0.235<br>2.168<br>0.272<br>0.233<br>0.233<br>0.235<br>0.234<br>...\"]],\"hovertemplate\":\"<b>Average:</b> %{y} +/-%{customdata[0]:.3f}<br><b>Maximum:</b> %{customdata[1]:.3f}<br><b>Minimum:</b> %{customdata[2]:.3f}<br><b>Using:</b><br>%{customdata[3]}\",\"marker\":{\"color\":\"#9467BD\"},\"name\":\"16 Nodes\",\"texttemplate\":\"%{y:.3r}\",\"visible\":false,\"x\":[16],\"y\":[0.27423544645190556],\"type\":\"bar\"},{\"customdata\":[[0.2579971456950592,2.032077596988529,0.22612987970933318,\"0.485<br>0.326<br>0.596<br>0.343<br>2.032<br>0.303<br>0.271<br>0.331<br>0.297<br>0.282<br>...\"]],\"hovertemplate\":\"<b>Average:</b> %{y} +/-%{customdata[0]:.3f}<br><b>Maximum:</b> %{customdata[1]:.3f}<br><b>Minimum:</b> %{customdata[2]:.3f}<br><b>Using:</b><br>%{customdata[3]}\",\"marker\":{\"color\":\"#8C564B\"},\"name\":\"32 Nodes\",\"texttemplate\":\"%{y:.3r}\",\"visible\":false,\"x\":[32],\"y\":[0.3317167588232204],\"type\":\"bar\"},{\"customdata\":[[0.01741188024627952,0.16255162796005607,0.04345494392327964,\"0.063<br>0.085<br>0.056<br>0.163<br>0.078<br>0.06<br>0.055<br>0.054<br>0.056<br>0.051<br>...\"]],\"hovertemplate\":\"<b>Average:</b> %{y} +/-%{customdata[0]:.3f}<br><b>Maximum:</b> %{customdata[1]:.3f}<br><b>Minimum:</b> %{customdata[2]:.3f}<br><b>Using:</b><br>%{customdata[3]}\",\"marker\":{\"color\":\"#1F77B4\"},\"name\":\"1 Nodes\",\"texttemplate\":\"%{y:.3r}\",\"visible\":false,\"x\":[1],\"y\":[0.05592060050966733],\"type\":\"bar\"},{\"customdata\":[[0.011183994763533664,0.1019774021115154,0.04131188592873514,\"0.057<br>0.081<br>0.057<br>0.102<br>0.08<br>0.055<br>0.051<br>0.061<br>0.05<br>0.05<br>...\"]],\"hovertemplate\":\"<b>Average:</b> %{y} +/-%{customdata[0]:.3f}<br><b>Maximum:</b> %{customdata[1]:.3f}<br><b>Minimum:</b> %{customdata[2]:.3f}<br><b>Using:</b><br>%{customdata[3]}\",\"marker\":{\"color\":\"#FF7F0E\"},\"name\":\"2 Nodes\",\"texttemplate\":\"%{y:.3r}\",\"visible\":false,\"x\":[2],\"y\":[0.050478625215312586],\"type\":\"bar\"},{\"customdata\":[[0.014043023896412446,0.12214490585029125,0.044293785002082586,\"0.065<br>0.09<br>0.064<br>0.122<br>0.07<br>0.063<br>0.052<br>0.05<br>0.051<br>0.052<br>...\"]],\"hovertemplate\":\"<b>Average:</b> %{y} +/-%{customdata[0]:.3f}<br><b>Maximum:</b> %{customdata[1]:.3f}<br><b>Minimum:</b> %{customdata[2]:.3f}<br><b>Using:</b><br>%{customdata[3]}\",\"marker\":{\"color\":\"#2CA02C\"},\"name\":\"4 Nodes\",\"texttemplate\":\"%{y:.3r}\",\"visible\":false,\"x\":[4],\"y\":[0.05500256891877569],\"type\":\"bar\"},{\"customdata\":[[0.014775120283693793,0.12123136594891548,0.04245084710419178,\"0.05<br>0.121<br>0.057<br>0.114<br>0.065<br>0.056<br>0.051<br>0.051<br>0.048<br>0.049<br>...\"]],\"hovertemplate\":\"<b>Average:</b> %{y} +/-%{customdata[0]:.3f}<br><b>Maximum:</b> %{customdata[1]:.3f}<br><b>Minimum:</b> %{customdata[2]:.3f}<br><b>Using:</b><br>%{customdata[3]}\",\"marker\":{\"color\":\"#D62728\"},\"name\":\"8 Nodes\",\"texttemplate\":\"%{y:.3r}\",\"visible\":false,\"x\":[8],\"y\":[0.050878040101181],\"type\":\"bar\"},{\"customdata\":[[0.012094883098358506,0.11540139699354768,0.04981696978211403,\"0.069<br>0.105<br>0.069<br>0.115<br>0.08<br>0.065<br>0.057<br>0.052<br>0.062<br>0.083<br>...\"]],\"hovertemplate\":\"<b>Average:</b> %{y} +/-%{customdata[0]:.3f}<br><b>Maximum:</b> %{customdata[1]:.3f}<br><b>Minimum:</b> %{customdata[2]:.3f}<br><b>Using:</b><br>%{customdata[3]}\",\"marker\":{\"color\":\"#9467BD\"},\"name\":\"16 Nodes\",\"texttemplate\":\"%{y:.3r}\",\"visible\":false,\"x\":[16],\"y\":[0.06402509084882889],\"type\":\"bar\"},{\"customdata\":[[0.011362629045294025,0.13237193692475557,0.0630767080001533,\"0.069<br>0.109<br>0.076<br>0.132<br>0.085<br>0.086<br>0.075<br>0.084<br>0.075<br>0.073<br>...\"]],\"hovertemplate\":\"<b>Average:</b> %{y} +/-%{customdata[0]:.3f}<br><b>Maximum:</b> %{customdata[1]:.3f}<br><b>Minimum:</b> %{customdata[2]:.3f}<br><b>Using:</b><br>%{customdata[3]}\",\"marker\":{\"color\":\"#8C564B\"},\"name\":\"32 Nodes\",\"texttemplate\":\"%{y:.3r}\",\"visible\":false,\"x\":[32],\"y\":[0.07560923245755281],\"type\":\"bar\"},{\"customdata\":[[0.018364990217865532,0.1528341518715024,0.05095229996368289,\"0.09<br>0.078<br>0.153<br>0.092<br>0.071<br>0.072<br>0.119<br>0.088<br>0.088<br>0.071<br>...\"]],\"hovertemplate\":\"<b>Average:</b> %{y} +/-%{customdata[0]:.3f}<br><b>Maximum:</b> %{customdata[1]:.3f}<br><b>Minimum:</b> %{customdata[2]:.3f}<br><b>Using:</b><br>%{customdata[3]}\",\"marker\":{\"color\":\"#1F77B4\"},\"name\":\"1 Nodes\",\"texttemplate\":\"%{y:.3r}\",\"visible\":false,\"x\":[1],\"y\":[0.06613080214927013],\"type\":\"bar\"},{\"customdata\":[[0.0212519822851975,0.14388127904385328,0.04641686589457095,\"0.084<br>0.087<br>0.143<br>0.082<br>0.063<br>0.079<br>0.112<br>0.085<br>0.084<br>0.066<br>...\"]],\"hovertemplate\":\"<b>Average:</b> %{y} +/-%{customdata[0]:.3f}<br><b>Maximum:</b> %{customdata[1]:.3f}<br><b>Minimum:</b> %{customdata[2]:.3f}<br><b>Using:</b><br>%{customdata[3]}\",\"marker\":{\"color\":\"#FF7F0E\"},\"name\":\"2 Nodes\",\"texttemplate\":\"%{y:.3r}\",\"visible\":false,\"x\":[2],\"y\":[0.06437554639427269],\"type\":\"bar\"},{\"customdata\":[[0.23870566521329475,1.7238868020940572,0.05313937203027308,\"0.099<br>0.081<br>0.148<br>0.096<br>0.072<br>0.071<br>0.125<br>0.082<br>0.089<br>0.082<br>...\"]],\"hovertemplate\":\"<b>Average:</b> %{y} +/-%{customdata[0]:.3f}<br><b>Maximum:</b> %{customdata[1]:.3f}<br><b>Minimum:</b> %{customdata[2]:.3f}<br><b>Using:</b><br>%{customdata[3]}\",\"marker\":{\"color\":\"#2CA02C\"},\"name\":\"4 Nodes\",\"texttemplate\":\"%{y:.3r}\",\"visible\":false,\"x\":[4],\"y\":[0.10881185085274914],\"type\":\"bar\"},{\"customdata\":[[0.018845704725934057,0.1726115751080215,0.06902995891869068,\"0.093<br>0.1<br>0.173<br>0.127<br>0.095<br>0.097<br>0.128<br>0.105<br>0.112<br>0.095<br>...\"]],\"hovertemplate\":\"<b>Average:</b> %{y} +/-%{customdata[0]:.3f}<br><b>Maximum:</b> %{customdata[1]:.3f}<br><b>Minimum:</b> %{customdata[2]:.3f}<br><b>Using:</b><br>%{customdata[3]}\",\"marker\":{\"color\":\"#D62728\"},\"name\":\"8 Nodes\",\"texttemplate\":\"%{y:.3r}\",\"visible\":false,\"x\":[8],\"y\":[0.08915592577962324],\"type\":\"bar\"},{\"customdata\":[[0.021489599800837745,0.2304194737225771,0.08926529483869672,\"0.119<br>0.12<br>0.23<br>0.145<br>0.12<br>0.121<br>0.154<br>0.14<br>0.114<br>0.118<br>...\"]],\"hovertemplate\":\"<b>Average:</b> %{y} +/-%{customdata[0]:.3f}<br><b>Maximum:</b> %{customdata[1]:.3f}<br><b>Minimum:</b> %{customdata[2]:.3f}<br><b>Using:</b><br>%{customdata[3]}\",\"marker\":{\"color\":\"#9467BD\"},\"name\":\"16 Nodes\",\"texttemplate\":\"%{y:.3r}\",\"visible\":false,\"x\":[16],\"y\":[0.11383312070702618],\"type\":\"bar\"},{\"customdata\":[[0.023596369393721856,0.2671649022959173,0.11637908918783069,\"0.135<br>0.134<br>0.267<br>0.155<br>0.147<br>0.124<br>0.2<br>0.165<br>0.14<br>0.137<br>...\"]],\"hovertemplate\":\"<b>Average:</b> %{y} +/-%{customdata[0]:.3f}<br><b>Maximum:</b> %{customdata[1]:.3f}<br><b>Minimum:</b> %{customdata[2]:.3f}<br><b>Using:</b><br>%{customdata[3]}\",\"marker\":{\"color\":\"#8C564B\"},\"name\":\"32 Nodes\",\"texttemplate\":\"%{y:.3r}\",\"visible\":false,\"x\":[32],\"y\":[0.1352308160783921],\"type\":\"bar\"},{\"customdata\":[[0.2729928234228184,1.9611306770239025,0.11440377100370824,\"0.347<br>1.961<br>0.193<br>0.194<br>0.614<br>0.141<br>0.142<br>0.145<br>0.131<br>0.131<br>...\"]],\"hovertemplate\":\"<b>Average:</b> %{y} +/-%{customdata[0]:.3f}<br><b>Maximum:</b> %{customdata[1]:.3f}<br><b>Minimum:</b> %{customdata[2]:.3f}<br><b>Using:</b><br>%{customdata[3]}\",\"marker\":{\"color\":\"#1F77B4\"},\"name\":\"1 Nodes\",\"texttemplate\":\"%{y:.3r}\",\"visible\":false,\"x\":[1],\"y\":[0.18591154976054391],\"type\":\"bar\"},{\"customdata\":[[0.285188169869809,2.048096110112965,0.1220191908068955,\"0.356<br>2.048<br>0.237<br>0.195<br>0.665<br>0.157<br>0.158<br>0.146<br>0.136<br>0.145<br>...\"]],\"hovertemplate\":\"<b>Average:</b> %{y} +/-%{customdata[0]:.3f}<br><b>Maximum:</b> %{customdata[1]:.3f}<br><b>Minimum:</b> %{customdata[2]:.3f}<br><b>Using:</b><br>%{customdata[3]}\",\"marker\":{\"color\":\"#FF7F0E\"},\"name\":\"2 Nodes\",\"texttemplate\":\"%{y:.3r}\",\"visible\":false,\"x\":[2],\"y\":[0.20299828650945045],\"type\":\"bar\"},{\"customdata\":[[0.2998557881002675,2.2546159899793565,0.19272302486933768,\"0.38<br>2.255<br>0.387<br>0.309<br>0.732<br>0.229<br>0.218<br>0.223<br>0.247<br>0.234<br>...\"]],\"hovertemplate\":\"<b>Average:</b> %{y} +/-%{customdata[0]:.3f}<br><b>Maximum:</b> %{customdata[1]:.3f}<br><b>Minimum:</b> %{customdata[2]:.3f}<br><b>Using:</b><br>%{customdata[3]}\",\"marker\":{\"color\":\"#2CA02C\"},\"name\":\"4 Nodes\",\"texttemplate\":\"%{y:.3r}\",\"visible\":false,\"x\":[4],\"y\":[0.2938673957350089],\"type\":\"bar\"},{\"customdata\":[[0.2804403657029798,2.2108732850756496,0.28858981700614095,\"0.358<br>2.211<br>0.496<br>0.419<br>0.792<br>0.334<br>0.342<br>0.325<br>0.322<br>0.324<br>...\"]],\"hovertemplate\":\"<b>Average:</b> %{y} +/-%{customdata[0]:.3f}<br><b>Maximum:</b> %{customdata[1]:.3f}<br><b>Minimum:</b> %{customdata[2]:.3f}<br><b>Using:</b><br>%{customdata[3]}\",\"marker\":{\"color\":\"#D62728\"},\"name\":\"8 Nodes\",\"texttemplate\":\"%{y:.3r}\",\"visible\":false,\"x\":[8],\"y\":[0.37640008709809564],\"type\":\"bar\"},{\"customdata\":[[0.2816360238527687,2.3024649913422763,0.3921583369374275,\"0.449<br>2.302<br>0.652<br>0.467<br>0.961<br>0.445<br>0.432<br>0.425<br>0.425<br>0.434<br>...\"]],\"hovertemplate\":\"<b>Average:</b> %{y} +/-%{customdata[0]:.3f}<br><b>Maximum:</b> %{customdata[1]:.3f}<br><b>Minimum:</b> %{customdata[2]:.3f}<br><b>Using:</b><br>%{customdata[3]}\",\"marker\":{\"color\":\"#9467BD\"},\"name\":\"16 Nodes\",\"texttemplate\":\"%{y:.3r}\",\"visible\":false,\"x\":[16],\"y\":[0.4803569217787144],\"type\":\"bar\"},{\"customdata\":[[0.37187248199314255,3.0367997409775853,0.4715602546930313,\"0.748<br>3.037<br>0.717<br>0.57<br>0.945<br>0.538<br>0.734<br>0.496<br>0.689<br>0.486<br>...\"]],\"hovertemplate\":\"<b>Average:</b> %{y} +/-%{customdata[0]:.3f}<br><b>Maximum:</b> %{customdata[1]:.3f}<br><b>Minimum:</b> %{customdata[2]:.3f}<br><b>Using:</b><br>%{customdata[3]}\",\"marker\":{\"color\":\"#8C564B\"},\"name\":\"32 Nodes\",\"texttemplate\":\"%{y:.3r}\",\"visible\":false,\"x\":[32],\"y\":[0.5925346047300449],\"type\":\"bar\"}],                        {\"template\":{\"data\":{\"histogram2dcontour\":[{\"type\":\"histogram2dcontour\",\"colorbar\":{\"outlinewidth\":0,\"ticks\":\"\"},\"colorscale\":[[0.0,\"#0d0887\"],[0.1111111111111111,\"#46039f\"],[0.2222222222222222,\"#7201a8\"],[0.3333333333333333,\"#9c179e\"],[0.4444444444444444,\"#bd3786\"],[0.5555555555555556,\"#d8576b\"],[0.6666666666666666,\"#ed7953\"],[0.7777777777777778,\"#fb9f3a\"],[0.8888888888888888,\"#fdca26\"],[1.0,\"#f0f921\"]]}],\"choropleth\":[{\"type\":\"choropleth\",\"colorbar\":{\"outlinewidth\":0,\"ticks\":\"\"}}],\"histogram2d\":[{\"type\":\"histogram2d\",\"colorbar\":{\"outlinewidth\":0,\"ticks\":\"\"},\"colorscale\":[[0.0,\"#0d0887\"],[0.1111111111111111,\"#46039f\"],[0.2222222222222222,\"#7201a8\"],[0.3333333333333333,\"#9c179e\"],[0.4444444444444444,\"#bd3786\"],[0.5555555555555556,\"#d8576b\"],[0.6666666666666666,\"#ed7953\"],[0.7777777777777778,\"#fb9f3a\"],[0.8888888888888888,\"#fdca26\"],[1.0,\"#f0f921\"]]}],\"heatmap\":[{\"type\":\"heatmap\",\"colorbar\":{\"outlinewidth\":0,\"ticks\":\"\"},\"colorscale\":[[0.0,\"#0d0887\"],[0.1111111111111111,\"#46039f\"],[0.2222222222222222,\"#7201a8\"],[0.3333333333333333,\"#9c179e\"],[0.4444444444444444,\"#bd3786\"],[0.5555555555555556,\"#d8576b\"],[0.6666666666666666,\"#ed7953\"],[0.7777777777777778,\"#fb9f3a\"],[0.8888888888888888,\"#fdca26\"],[1.0,\"#f0f921\"]]}],\"heatmapgl\":[{\"type\":\"heatmapgl\",\"colorbar\":{\"outlinewidth\":0,\"ticks\":\"\"},\"colorscale\":[[0.0,\"#0d0887\"],[0.1111111111111111,\"#46039f\"],[0.2222222222222222,\"#7201a8\"],[0.3333333333333333,\"#9c179e\"],[0.4444444444444444,\"#bd3786\"],[0.5555555555555556,\"#d8576b\"],[0.6666666666666666,\"#ed7953\"],[0.7777777777777778,\"#fb9f3a\"],[0.8888888888888888,\"#fdca26\"],[1.0,\"#f0f921\"]]}],\"contourcarpet\":[{\"type\":\"contourcarpet\",\"colorbar\":{\"outlinewidth\":0,\"ticks\":\"\"}}],\"contour\":[{\"type\":\"contour\",\"colorbar\":{\"outlinewidth\":0,\"ticks\":\"\"},\"colorscale\":[[0.0,\"#0d0887\"],[0.1111111111111111,\"#46039f\"],[0.2222222222222222,\"#7201a8\"],[0.3333333333333333,\"#9c179e\"],[0.4444444444444444,\"#bd3786\"],[0.5555555555555556,\"#d8576b\"],[0.6666666666666666,\"#ed7953\"],[0.7777777777777778,\"#fb9f3a\"],[0.8888888888888888,\"#fdca26\"],[1.0,\"#f0f921\"]]}],\"surface\":[{\"type\":\"surface\",\"colorbar\":{\"outlinewidth\":0,\"ticks\":\"\"},\"colorscale\":[[0.0,\"#0d0887\"],[0.1111111111111111,\"#46039f\"],[0.2222222222222222,\"#7201a8\"],[0.3333333333333333,\"#9c179e\"],[0.4444444444444444,\"#bd3786\"],[0.5555555555555556,\"#d8576b\"],[0.6666666666666666,\"#ed7953\"],[0.7777777777777778,\"#fb9f3a\"],[0.8888888888888888,\"#fdca26\"],[1.0,\"#f0f921\"]]}],\"mesh3d\":[{\"type\":\"mesh3d\",\"colorbar\":{\"outlinewidth\":0,\"ticks\":\"\"}}],\"scatter\":[{\"fillpattern\":{\"fillmode\":\"overlay\",\"size\":10,\"solidity\":0.2},\"type\":\"scatter\"}],\"parcoords\":[{\"type\":\"parcoords\",\"line\":{\"colorbar\":{\"outlinewidth\":0,\"ticks\":\"\"}}}],\"scatterpolargl\":[{\"type\":\"scatterpolargl\",\"marker\":{\"colorbar\":{\"outlinewidth\":0,\"ticks\":\"\"}}}],\"bar\":[{\"error_x\":{\"color\":\"#2a3f5f\"},\"error_y\":{\"color\":\"#2a3f5f\"},\"marker\":{\"line\":{\"color\":\"#E5ECF6\",\"width\":0.5},\"pattern\":{\"fillmode\":\"overlay\",\"size\":10,\"solidity\":0.2}},\"type\":\"bar\"}],\"scattergeo\":[{\"type\":\"scattergeo\",\"marker\":{\"colorbar\":{\"outlinewidth\":0,\"ticks\":\"\"}}}],\"scatterpolar\":[{\"type\":\"scatterpolar\",\"marker\":{\"colorbar\":{\"outlinewidth\":0,\"ticks\":\"\"}}}],\"histogram\":[{\"marker\":{\"pattern\":{\"fillmode\":\"overlay\",\"size\":10,\"solidity\":0.2}},\"type\":\"histogram\"}],\"scattergl\":[{\"type\":\"scattergl\",\"marker\":{\"colorbar\":{\"outlinewidth\":0,\"ticks\":\"\"}}}],\"scatter3d\":[{\"type\":\"scatter3d\",\"line\":{\"colorbar\":{\"outlinewidth\":0,\"ticks\":\"\"}},\"marker\":{\"colorbar\":{\"outlinewidth\":0,\"ticks\":\"\"}}}],\"scattermapbox\":[{\"type\":\"scattermapbox\",\"marker\":{\"colorbar\":{\"outlinewidth\":0,\"ticks\":\"\"}}}],\"scatterternary\":[{\"type\":\"scatterternary\",\"marker\":{\"colorbar\":{\"outlinewidth\":0,\"ticks\":\"\"}}}],\"scattercarpet\":[{\"type\":\"scattercarpet\",\"marker\":{\"colorbar\":{\"outlinewidth\":0,\"ticks\":\"\"}}}],\"carpet\":[{\"aaxis\":{\"endlinecolor\":\"#2a3f5f\",\"gridcolor\":\"white\",\"linecolor\":\"white\",\"minorgridcolor\":\"white\",\"startlinecolor\":\"#2a3f5f\"},\"baxis\":{\"endlinecolor\":\"#2a3f5f\",\"gridcolor\":\"white\",\"linecolor\":\"white\",\"minorgridcolor\":\"white\",\"startlinecolor\":\"#2a3f5f\"},\"type\":\"carpet\"}],\"table\":[{\"cells\":{\"fill\":{\"color\":\"#EBF0F8\"},\"line\":{\"color\":\"white\"}},\"header\":{\"fill\":{\"color\":\"#C8D4E3\"},\"line\":{\"color\":\"white\"}},\"type\":\"table\"}],\"barpolar\":[{\"marker\":{\"line\":{\"color\":\"#E5ECF6\",\"width\":0.5},\"pattern\":{\"fillmode\":\"overlay\",\"size\":10,\"solidity\":0.2}},\"type\":\"barpolar\"}],\"pie\":[{\"automargin\":true,\"type\":\"pie\"}]},\"layout\":{\"autotypenumbers\":\"strict\",\"colorway\":[\"#636efa\",\"#EF553B\",\"#00cc96\",\"#ab63fa\",\"#FFA15A\",\"#19d3f3\",\"#FF6692\",\"#B6E880\",\"#FF97FF\",\"#FECB52\"],\"font\":{\"color\":\"#2a3f5f\"},\"hovermode\":\"closest\",\"hoverlabel\":{\"align\":\"left\"},\"paper_bgcolor\":\"white\",\"plot_bgcolor\":\"#E5ECF6\",\"polar\":{\"bgcolor\":\"#E5ECF6\",\"angularaxis\":{\"gridcolor\":\"white\",\"linecolor\":\"white\",\"ticks\":\"\"},\"radialaxis\":{\"gridcolor\":\"white\",\"linecolor\":\"white\",\"ticks\":\"\"}},\"ternary\":{\"bgcolor\":\"#E5ECF6\",\"aaxis\":{\"gridcolor\":\"white\",\"linecolor\":\"white\",\"ticks\":\"\"},\"baxis\":{\"gridcolor\":\"white\",\"linecolor\":\"white\",\"ticks\":\"\"},\"caxis\":{\"gridcolor\":\"white\",\"linecolor\":\"white\",\"ticks\":\"\"}},\"coloraxis\":{\"colorbar\":{\"outlinewidth\":0,\"ticks\":\"\"}},\"colorscale\":{\"sequential\":[[0.0,\"#0d0887\"],[0.1111111111111111,\"#46039f\"],[0.2222222222222222,\"#7201a8\"],[0.3333333333333333,\"#9c179e\"],[0.4444444444444444,\"#bd3786\"],[0.5555555555555556,\"#d8576b\"],[0.6666666666666666,\"#ed7953\"],[0.7777777777777778,\"#fb9f3a\"],[0.8888888888888888,\"#fdca26\"],[1.0,\"#f0f921\"]],\"sequentialminus\":[[0.0,\"#0d0887\"],[0.1111111111111111,\"#46039f\"],[0.2222222222222222,\"#7201a8\"],[0.3333333333333333,\"#9c179e\"],[0.4444444444444444,\"#bd3786\"],[0.5555555555555556,\"#d8576b\"],[0.6666666666666666,\"#ed7953\"],[0.7777777777777778,\"#fb9f3a\"],[0.8888888888888888,\"#fdca26\"],[1.0,\"#f0f921\"]],\"diverging\":[[0,\"#8e0152\"],[0.1,\"#c51b7d\"],[0.2,\"#de77ae\"],[0.3,\"#f1b6da\"],[0.4,\"#fde0ef\"],[0.5,\"#f7f7f7\"],[0.6,\"#e6f5d0\"],[0.7,\"#b8e186\"],[0.8,\"#7fbc41\"],[0.9,\"#4d9221\"],[1,\"#276419\"]]},\"xaxis\":{\"gridcolor\":\"white\",\"linecolor\":\"white\",\"ticks\":\"\",\"title\":{\"standoff\":15},\"zerolinecolor\":\"white\",\"automargin\":true,\"zerolinewidth\":2},\"yaxis\":{\"gridcolor\":\"white\",\"linecolor\":\"white\",\"ticks\":\"\",\"title\":{\"standoff\":15},\"zerolinecolor\":\"white\",\"automargin\":true,\"zerolinewidth\":2},\"scene\":{\"xaxis\":{\"backgroundcolor\":\"#E5ECF6\",\"gridcolor\":\"white\",\"linecolor\":\"white\",\"showbackground\":true,\"ticks\":\"\",\"zerolinecolor\":\"white\",\"gridwidth\":2},\"yaxis\":{\"backgroundcolor\":\"#E5ECF6\",\"gridcolor\":\"white\",\"linecolor\":\"white\",\"showbackground\":true,\"ticks\":\"\",\"zerolinecolor\":\"white\",\"gridwidth\":2},\"zaxis\":{\"backgroundcolor\":\"#E5ECF6\",\"gridcolor\":\"white\",\"linecolor\":\"white\",\"showbackground\":true,\"ticks\":\"\",\"zerolinecolor\":\"white\",\"gridwidth\":2}},\"shapedefaults\":{\"line\":{\"color\":\"#2a3f5f\"}},\"annotationdefaults\":{\"arrowcolor\":\"#2a3f5f\",\"arrowhead\":0,\"arrowwidth\":1},\"geo\":{\"bgcolor\":\"white\",\"landcolor\":\"#E5ECF6\",\"subunitcolor\":\"white\",\"showland\":true,\"showlakes\":true,\"lakecolor\":\"white\"},\"title\":{\"x\":0.05},\"mapbox\":{\"style\":\"light\"}}},\"shapes\":[{\"line\":{\"color\":\"#17BECF\",\"dash\":\"dot\",\"width\":3},\"type\":\"line\",\"visible\":true,\"x0\":0,\"x1\":1,\"xref\":\"paper\",\"y0\":10330.676810829435,\"y1\":10330.676810829435,\"yref\":\"y\"},{\"line\":{\"color\":\"#17BECF\",\"dash\":\"dot\",\"width\":3},\"type\":\"line\",\"visible\":false,\"x0\":0,\"x1\":1,\"xref\":\"paper\",\"y0\":7003.022285007805,\"y1\":7003.022285007805,\"yref\":\"y\"},{\"line\":{\"color\":\"#17BECF\",\"dash\":\"dot\",\"width\":3},\"type\":\"line\",\"visible\":false,\"x0\":0,\"x1\":1,\"xref\":\"paper\",\"y0\":229.84836674532724,\"y1\":229.84836674532724,\"yref\":\"y\"},{\"line\":{\"color\":\"#17BECF\",\"dash\":\"dot\",\"width\":3},\"type\":\"line\",\"visible\":false,\"x0\":0,\"x1\":1,\"xref\":\"paper\",\"y0\":1877.607759527862,\"y1\":1877.607759527862,\"yref\":\"y\"},{\"line\":{\"color\":\"#17BECF\",\"dash\":\"dot\",\"width\":3},\"type\":\"line\",\"visible\":false,\"x0\":0,\"x1\":1,\"xref\":\"paper\",\"y0\":0,\"y1\":0,\"yref\":\"y\"},{\"line\":{\"color\":\"#17BECF\",\"dash\":\"dot\",\"width\":3},\"type\":\"line\",\"visible\":false,\"x0\":0,\"x1\":1,\"xref\":\"paper\",\"y0\":0,\"y1\":0,\"yref\":\"y\"},{\"line\":{\"color\":\"#17BECF\",\"dash\":\"dot\",\"width\":3},\"type\":\"line\",\"visible\":false,\"x0\":0,\"x1\":1,\"xref\":\"paper\",\"y0\":0,\"y1\":0,\"yref\":\"y\"},{\"line\":{\"color\":\"#17BECF\",\"dash\":\"dot\",\"width\":3},\"type\":\"line\",\"visible\":false,\"x0\":0,\"x1\":1,\"xref\":\"paper\",\"y0\":541.1098149106838,\"y1\":541.1098149106838,\"yref\":\"y\"},{\"line\":{\"color\":\"#17BECF\",\"dash\":\"dot\",\"width\":3},\"type\":\"line\",\"visible\":false,\"x0\":0,\"x1\":1,\"xref\":\"paper\",\"y0\":101.44813941267785,\"y1\":101.44813941267785,\"yref\":\"y\"},{\"line\":{\"color\":\"#17BECF\",\"dash\":\"dot\",\"width\":3},\"type\":\"line\",\"visible\":false,\"x0\":0,\"x1\":1,\"xref\":\"paper\",\"y0\":41.26449846264292,\"y1\":41.26449846264292,\"yref\":\"y\"},{\"line\":{\"color\":\"#17BECF\",\"dash\":\"dot\",\"width\":3},\"type\":\"line\",\"visible\":false,\"x0\":0,\"x1\":1,\"xref\":\"paper\",\"y0\":0.8596987715907435,\"y1\":0.8596987715907435,\"yref\":\"y\"},{\"line\":{\"color\":\"#17BECF\",\"dash\":\"dot\",\"width\":3},\"type\":\"line\",\"visible\":false,\"x0\":0,\"x1\":1,\"xref\":\"paper\",\"y0\":0.6366492685108901,\"y1\":0.6366492685108901,\"yref\":\"y\"},{\"line\":{\"color\":\"#17BECF\",\"dash\":\"dot\",\"width\":3},\"type\":\"line\",\"visible\":false,\"x0\":0,\"x1\":1,\"xref\":\"paper\",\"y0\":0.026403239678016843,\"y1\":0.026403239678016843,\"yref\":\"y\"},{\"line\":{\"color\":\"#17BECF\",\"dash\":\"dot\",\"width\":3},\"type\":\"line\",\"visible\":false,\"x0\":0,\"x1\":1,\"xref\":\"paper\",\"y0\":4.907451367679689,\"y1\":4.907451367679689,\"yref\":\"y\"},{\"line\":{\"color\":\"#17BECF\",\"dash\":\"dot\",\"width\":3},\"type\":\"line\",\"visible\":false,\"x0\":0,\"x1\":1,\"xref\":\"paper\",\"y0\":0.024790378146250038,\"y1\":0.024790378146250038,\"yref\":\"y\"},{\"line\":{\"color\":\"#17BECF\",\"dash\":\"dot\",\"width\":3},\"type\":\"line\",\"visible\":false,\"x0\":0,\"x1\":1,\"xref\":\"paper\",\"y0\":0.025874005833719956,\"y1\":0.025874005833719956,\"yref\":\"y\"},{\"line\":{\"color\":\"#17BECF\",\"dash\":\"dot\",\"width\":3},\"type\":\"line\",\"visible\":false,\"x0\":0,\"x1\":1,\"xref\":\"paper\",\"y0\":0.044444916616293025,\"y1\":0.044444916616293025,\"yref\":\"y\"}],\"title\":{\"font\":{\"size\":24},\"text\":\"Graphix Scale-Out: bi-1\",\"xanchor\":\"center\",\"yanchor\":\"top\",\"x\":0.5},\"xaxis\":{\"title\":{\"text\":\"Cluster Size\"},\"type\":\"category\",\"categoryorder\":\"array\",\"categoryarray\":[1,2,4,8,16,32]},\"yaxis\":{\"title\":{\"text\":\"Running Time (s)\"},\"showspikes\":true},\"updatemenus\":[{\"active\":0,\"buttons\":[{\"args\":[{\"visible\":[true,true,true,true,true,true,false,false,false,false,false,false,false,false,false,false,false,false,false,false,false,false,false,false,false,false,false,false,false,false,false,false,false,false,false,false,false,false,false,false,false,false,false,false,false,false,false,false,false,false,false,false,false,false,false,false,false,false,false,false,false,false,false,false,false,false,false,false,false,false,false,false,false,false,false,false,false,false,false,false,false,false,false,false,false,false,false,false,false,false,false,false,false,false,false,false,false,false,false,false,false,false]},{\"title.text\":\"Graphix Scale-Out: bi-1\",\"shapes[0].visible\":true,\"shapes[1].visible\":false,\"shapes[2].visible\":false,\"shapes[3].visible\":false,\"shapes[4].visible\":false,\"shapes[5].visible\":false,\"shapes[6].visible\":false,\"shapes[7].visible\":false,\"shapes[8].visible\":false,\"shapes[9].visible\":false,\"shapes[10].visible\":false,\"shapes[11].visible\":false,\"shapes[12].visible\":false,\"shapes[13].visible\":false,\"shapes[14].visible\":false,\"shapes[15].visible\":false,\"shapes[16].visible\":false}],\"label\":\"bi-1\",\"method\":\"update\"},{\"args\":[{\"visible\":[false,false,false,false,false,false,true,true,true,true,true,true,false,false,false,false,false,false,false,false,false,false,false,false,false,false,false,false,false,false,false,false,false,false,false,false,false,false,false,false,false,false,false,false,false,false,false,false,false,false,false,false,false,false,false,false,false,false,false,false,false,false,false,false,false,false,false,false,false,false,false,false,false,false,false,false,false,false,false,false,false,false,false,false,false,false,false,false,false,false,false,false,false,false,false,false,false,false,false,false,false,false]},{\"title.text\":\"Graphix Scale-Out: bi-2\",\"shapes[0].visible\":false,\"shapes[1].visible\":true,\"shapes[2].visible\":false,\"shapes[3].visible\":false,\"shapes[4].visible\":false,\"shapes[5].visible\":false,\"shapes[6].visible\":false,\"shapes[7].visible\":false,\"shapes[8].visible\":false,\"shapes[9].visible\":false,\"shapes[10].visible\":false,\"shapes[11].visible\":false,\"shapes[12].visible\":false,\"shapes[13].visible\":false,\"shapes[14].visible\":false,\"shapes[15].visible\":false,\"shapes[16].visible\":false}],\"label\":\"bi-2\",\"method\":\"update\"},{\"args\":[{\"visible\":[false,false,false,false,false,false,false,false,false,false,false,false,true,true,true,true,true,true,false,false,false,false,false,false,false,false,false,false,false,false,false,false,false,false,false,false,false,false,false,false,false,false,false,false,false,false,false,false,false,false,false,false,false,false,false,false,false,false,false,false,false,false,false,false,false,false,false,false,false,false,false,false,false,false,false,false,false,false,false,false,false,false,false,false,false,false,false,false,false,false,false,false,false,false,false,false,false,false,false,false,false,false]},{\"title.text\":\"Graphix Scale-Out: bi-5\",\"shapes[0].visible\":false,\"shapes[1].visible\":false,\"shapes[2].visible\":true,\"shapes[3].visible\":false,\"shapes[4].visible\":false,\"shapes[5].visible\":false,\"shapes[6].visible\":false,\"shapes[7].visible\":false,\"shapes[8].visible\":false,\"shapes[9].visible\":false,\"shapes[10].visible\":false,\"shapes[11].visible\":false,\"shapes[12].visible\":false,\"shapes[13].visible\":false,\"shapes[14].visible\":false,\"shapes[15].visible\":false,\"shapes[16].visible\":false}],\"label\":\"bi-5\",\"method\":\"update\"},{\"args\":[{\"visible\":[false,false,false,false,false,false,false,false,false,false,false,false,false,false,false,false,false,false,true,true,true,true,true,true,false,false,false,false,false,false,false,false,false,false,false,false,false,false,false,false,false,false,false,false,false,false,false,false,false,false,false,false,false,false,false,false,false,false,false,false,false,false,false,false,false,false,false,false,false,false,false,false,false,false,false,false,false,false,false,false,false,false,false,false,false,false,false,false,false,false,false,false,false,false,false,false,false,false,false,false,false,false]},{\"title.text\":\"Graphix Scale-Out: bi-7\",\"shapes[0].visible\":false,\"shapes[1].visible\":false,\"shapes[2].visible\":false,\"shapes[3].visible\":true,\"shapes[4].visible\":false,\"shapes[5].visible\":false,\"shapes[6].visible\":false,\"shapes[7].visible\":false,\"shapes[8].visible\":false,\"shapes[9].visible\":false,\"shapes[10].visible\":false,\"shapes[11].visible\":false,\"shapes[12].visible\":false,\"shapes[13].visible\":false,\"shapes[14].visible\":false,\"shapes[15].visible\":false,\"shapes[16].visible\":false}],\"label\":\"bi-7\",\"method\":\"update\"},{\"args\":[{\"visible\":[false,false,false,false,false,false,false,false,false,false,false,false,false,false,false,false,false,false,false,false,false,false,false,false,true,true,true,true,true,true,false,false,false,false,false,false,false,false,false,false,false,false,false,false,false,false,false,false,false,false,false,false,false,false,false,false,false,false,false,false,false,false,false,false,false,false,false,false,false,false,false,false,false,false,false,false,false,false,false,false,false,false,false,false,false,false,false,false,false,false,false,false,false,false,false,false,false,false,false,false,false,false]},{\"title.text\":\"Graphix Scale-Out: bi-8\",\"shapes[0].visible\":false,\"shapes[1].visible\":false,\"shapes[2].visible\":false,\"shapes[3].visible\":false,\"shapes[4].visible\":false,\"shapes[5].visible\":false,\"shapes[6].visible\":false,\"shapes[7].visible\":false,\"shapes[8].visible\":false,\"shapes[9].visible\":false,\"shapes[10].visible\":false,\"shapes[11].visible\":false,\"shapes[12].visible\":false,\"shapes[13].visible\":false,\"shapes[14].visible\":false,\"shapes[15].visible\":false,\"shapes[16].visible\":false}],\"label\":\"bi-8\",\"method\":\"update\"},{\"args\":[{\"visible\":[false,false,false,false,false,false,false,false,false,false,false,false,false,false,false,false,false,false,false,false,false,false,false,false,false,false,false,false,false,false,true,true,true,true,true,true,false,false,false,false,false,false,false,false,false,false,false,false,false,false,false,false,false,false,false,false,false,false,false,false,false,false,false,false,false,false,false,false,false,false,false,false,false,false,false,false,false,false,false,false,false,false,false,false,false,false,false,false,false,false,false,false,false,false,false,false,false,false,false,false,false,false]},{\"title.text\":\"Graphix Scale-Out: bi-11\",\"shapes[0].visible\":false,\"shapes[1].visible\":false,\"shapes[2].visible\":false,\"shapes[3].visible\":false,\"shapes[4].visible\":false,\"shapes[5].visible\":false,\"shapes[6].visible\":false,\"shapes[7].visible\":false,\"shapes[8].visible\":false,\"shapes[9].visible\":false,\"shapes[10].visible\":false,\"shapes[11].visible\":false,\"shapes[12].visible\":false,\"shapes[13].visible\":false,\"shapes[14].visible\":false,\"shapes[15].visible\":false,\"shapes[16].visible\":false}],\"label\":\"bi-11\",\"method\":\"update\"},{\"args\":[{\"visible\":[false,false,false,false,false,false,false,false,false,false,false,false,false,false,false,false,false,false,false,false,false,false,false,false,false,false,false,false,false,false,false,false,false,false,false,false,true,true,true,true,true,true,false,false,false,false,false,false,false,false,false,false,false,false,false,false,false,false,false,false,false,false,false,false,false,false,false,false,false,false,false,false,false,false,false,false,false,false,false,false,false,false,false,false,false,false,false,false,false,false,false,false,false,false,false,false,false,false,false,false,false,false]},{\"title.text\":\"Graphix Scale-Out: bi-16\",\"shapes[0].visible\":false,\"shapes[1].visible\":false,\"shapes[2].visible\":false,\"shapes[3].visible\":false,\"shapes[4].visible\":false,\"shapes[5].visible\":false,\"shapes[6].visible\":false,\"shapes[7].visible\":false,\"shapes[8].visible\":false,\"shapes[9].visible\":false,\"shapes[10].visible\":false,\"shapes[11].visible\":false,\"shapes[12].visible\":false,\"shapes[13].visible\":false,\"shapes[14].visible\":false,\"shapes[15].visible\":false,\"shapes[16].visible\":false}],\"label\":\"bi-16\",\"method\":\"update\"},{\"args\":[{\"visible\":[false,false,false,false,false,false,false,false,false,false,false,false,false,false,false,false,false,false,false,false,false,false,false,false,false,false,false,false,false,false,false,false,false,false,false,false,false,false,false,false,false,false,true,true,true,true,true,true,false,false,false,false,false,false,false,false,false,false,false,false,false,false,false,false,false,false,false,false,false,false,false,false,false,false,false,false,false,false,false,false,false,false,false,false,false,false,false,false,false,false,false,false,false,false,false,false,false,false,false,false,false,false]},{\"title.text\":\"Graphix Scale-Out: bi-18\",\"shapes[0].visible\":false,\"shapes[1].visible\":false,\"shapes[2].visible\":false,\"shapes[3].visible\":false,\"shapes[4].visible\":false,\"shapes[5].visible\":false,\"shapes[6].visible\":false,\"shapes[7].visible\":true,\"shapes[8].visible\":false,\"shapes[9].visible\":false,\"shapes[10].visible\":false,\"shapes[11].visible\":false,\"shapes[12].visible\":false,\"shapes[13].visible\":false,\"shapes[14].visible\":false,\"shapes[15].visible\":false,\"shapes[16].visible\":false}],\"label\":\"bi-18\",\"method\":\"update\"},{\"args\":[{\"visible\":[false,false,false,false,false,false,false,false,false,false,false,false,false,false,false,false,false,false,false,false,false,false,false,false,false,false,false,false,false,false,false,false,false,false,false,false,false,false,false,false,false,false,false,false,false,false,false,false,true,true,true,true,true,true,false,false,false,false,false,false,false,false,false,false,false,false,false,false,false,false,false,false,false,false,false,false,false,false,false,false,false,false,false,false,false,false,false,false,false,false,false,false,false,false,false,false,false,false,false,false,false,false]},{\"title.text\":\"Graphix Scale-Out: complex-2\",\"shapes[0].visible\":false,\"shapes[1].visible\":false,\"shapes[2].visible\":false,\"shapes[3].visible\":false,\"shapes[4].visible\":false,\"shapes[5].visible\":false,\"shapes[6].visible\":false,\"shapes[7].visible\":false,\"shapes[8].visible\":true,\"shapes[9].visible\":false,\"shapes[10].visible\":false,\"shapes[11].visible\":false,\"shapes[12].visible\":false,\"shapes[13].visible\":false,\"shapes[14].visible\":false,\"shapes[15].visible\":false,\"shapes[16].visible\":false}],\"label\":\"complex-2\",\"method\":\"update\"},{\"args\":[{\"visible\":[false,false,false,false,false,false,false,false,false,false,false,false,false,false,false,false,false,false,false,false,false,false,false,false,false,false,false,false,false,false,false,false,false,false,false,false,false,false,false,false,false,false,false,false,false,false,false,false,false,false,false,false,false,false,true,true,true,true,true,true,false,false,false,false,false,false,false,false,false,false,false,false,false,false,false,false,false,false,false,false,false,false,false,false,false,false,false,false,false,false,false,false,false,false,false,false,false,false,false,false,false,false]},{\"title.text\":\"Graphix Scale-Out: complex-4\",\"shapes[0].visible\":false,\"shapes[1].visible\":false,\"shapes[2].visible\":false,\"shapes[3].visible\":false,\"shapes[4].visible\":false,\"shapes[5].visible\":false,\"shapes[6].visible\":false,\"shapes[7].visible\":false,\"shapes[8].visible\":false,\"shapes[9].visible\":true,\"shapes[10].visible\":false,\"shapes[11].visible\":false,\"shapes[12].visible\":false,\"shapes[13].visible\":false,\"shapes[14].visible\":false,\"shapes[15].visible\":false,\"shapes[16].visible\":false}],\"label\":\"complex-4\",\"method\":\"update\"},{\"args\":[{\"visible\":[false,false,false,false,false,false,false,false,false,false,false,false,false,false,false,false,false,false,false,false,false,false,false,false,false,false,false,false,false,false,false,false,false,false,false,false,false,false,false,false,false,false,false,false,false,false,false,false,false,false,false,false,false,false,false,false,false,false,false,false,true,true,true,true,true,true,false,false,false,false,false,false,false,false,false,false,false,false,false,false,false,false,false,false,false,false,false,false,false,false,false,false,false,false,false,false,false,false,false,false,false,false]},{\"title.text\":\"Graphix Scale-Out: complex-7\",\"shapes[0].visible\":false,\"shapes[1].visible\":false,\"shapes[2].visible\":false,\"shapes[3].visible\":false,\"shapes[4].visible\":false,\"shapes[5].visible\":false,\"shapes[6].visible\":false,\"shapes[7].visible\":false,\"shapes[8].visible\":false,\"shapes[9].visible\":false,\"shapes[10].visible\":true,\"shapes[11].visible\":false,\"shapes[12].visible\":false,\"shapes[13].visible\":false,\"shapes[14].visible\":false,\"shapes[15].visible\":false,\"shapes[16].visible\":false}],\"label\":\"complex-7\",\"method\":\"update\"},{\"args\":[{\"visible\":[false,false,false,false,false,false,false,false,false,false,false,false,false,false,false,false,false,false,false,false,false,false,false,false,false,false,false,false,false,false,false,false,false,false,false,false,false,false,false,false,false,false,false,false,false,false,false,false,false,false,false,false,false,false,false,false,false,false,false,false,false,false,false,false,false,false,true,true,true,true,true,true,false,false,false,false,false,false,false,false,false,false,false,false,false,false,false,false,false,false,false,false,false,false,false,false,false,false,false,false,false,false]},{\"title.text\":\"Graphix Scale-Out: complex-8\",\"shapes[0].visible\":false,\"shapes[1].visible\":false,\"shapes[2].visible\":false,\"shapes[3].visible\":false,\"shapes[4].visible\":false,\"shapes[5].visible\":false,\"shapes[6].visible\":false,\"shapes[7].visible\":false,\"shapes[8].visible\":false,\"shapes[9].visible\":false,\"shapes[10].visible\":false,\"shapes[11].visible\":true,\"shapes[12].visible\":false,\"shapes[13].visible\":false,\"shapes[14].visible\":false,\"shapes[15].visible\":false,\"shapes[16].visible\":false}],\"label\":\"complex-8\",\"method\":\"update\"},{\"args\":[{\"visible\":[false,false,false,false,false,false,false,false,false,false,false,false,false,false,false,false,false,false,false,false,false,false,false,false,false,false,false,false,false,false,false,false,false,false,false,false,false,false,false,false,false,false,false,false,false,false,false,false,false,false,false,false,false,false,false,false,false,false,false,false,false,false,false,false,false,false,false,false,false,false,false,false,true,true,true,true,true,true,false,false,false,false,false,false,false,false,false,false,false,false,false,false,false,false,false,false,false,false,false,false,false,false]},{\"title.text\":\"Graphix Scale-Out: short-1\",\"shapes[0].visible\":false,\"shapes[1].visible\":false,\"shapes[2].visible\":false,\"shapes[3].visible\":false,\"shapes[4].visible\":false,\"shapes[5].visible\":false,\"shapes[6].visible\":false,\"shapes[7].visible\":false,\"shapes[8].visible\":false,\"shapes[9].visible\":false,\"shapes[10].visible\":false,\"shapes[11].visible\":false,\"shapes[12].visible\":true,\"shapes[13].visible\":false,\"shapes[14].visible\":false,\"shapes[15].visible\":false,\"shapes[16].visible\":false}],\"label\":\"short-1\",\"method\":\"update\"},{\"args\":[{\"visible\":[false,false,false,false,false,false,false,false,false,false,false,false,false,false,false,false,false,false,false,false,false,false,false,false,false,false,false,false,false,false,false,false,false,false,false,false,false,false,false,false,false,false,false,false,false,false,false,false,false,false,false,false,false,false,false,false,false,false,false,false,false,false,false,false,false,false,false,false,false,false,false,false,false,false,false,false,false,false,true,true,true,true,true,true,false,false,false,false,false,false,false,false,false,false,false,false,false,false,false,false,false,false]},{\"title.text\":\"Graphix Scale-Out: short-3\",\"shapes[0].visible\":false,\"shapes[1].visible\":false,\"shapes[2].visible\":false,\"shapes[3].visible\":false,\"shapes[4].visible\":false,\"shapes[5].visible\":false,\"shapes[6].visible\":false,\"shapes[7].visible\":false,\"shapes[8].visible\":false,\"shapes[9].visible\":false,\"shapes[10].visible\":false,\"shapes[11].visible\":false,\"shapes[12].visible\":false,\"shapes[13].visible\":true,\"shapes[14].visible\":false,\"shapes[15].visible\":false,\"shapes[16].visible\":false}],\"label\":\"short-3\",\"method\":\"update\"},{\"args\":[{\"visible\":[false,false,false,false,false,false,false,false,false,false,false,false,false,false,false,false,false,false,false,false,false,false,false,false,false,false,false,false,false,false,false,false,false,false,false,false,false,false,false,false,false,false,false,false,false,false,false,false,false,false,false,false,false,false,false,false,false,false,false,false,false,false,false,false,false,false,false,false,false,false,false,false,false,false,false,false,false,false,false,false,false,false,false,false,true,true,true,true,true,true,false,false,false,false,false,false,false,false,false,false,false,false]},{\"title.text\":\"Graphix Scale-Out: short-4\",\"shapes[0].visible\":false,\"shapes[1].visible\":false,\"shapes[2].visible\":false,\"shapes[3].visible\":false,\"shapes[4].visible\":false,\"shapes[5].visible\":false,\"shapes[6].visible\":false,\"shapes[7].visible\":false,\"shapes[8].visible\":false,\"shapes[9].visible\":false,\"shapes[10].visible\":false,\"shapes[11].visible\":false,\"shapes[12].visible\":false,\"shapes[13].visible\":false,\"shapes[14].visible\":true,\"shapes[15].visible\":false,\"shapes[16].visible\":false}],\"label\":\"short-4\",\"method\":\"update\"},{\"args\":[{\"visible\":[false,false,false,false,false,false,false,false,false,false,false,false,false,false,false,false,false,false,false,false,false,false,false,false,false,false,false,false,false,false,false,false,false,false,false,false,false,false,false,false,false,false,false,false,false,false,false,false,false,false,false,false,false,false,false,false,false,false,false,false,false,false,false,false,false,false,false,false,false,false,false,false,false,false,false,false,false,false,false,false,false,false,false,false,false,false,false,false,false,false,true,true,true,true,true,true,false,false,false,false,false,false]},{\"title.text\":\"Graphix Scale-Out: short-5\",\"shapes[0].visible\":false,\"shapes[1].visible\":false,\"shapes[2].visible\":false,\"shapes[3].visible\":false,\"shapes[4].visible\":false,\"shapes[5].visible\":false,\"shapes[6].visible\":false,\"shapes[7].visible\":false,\"shapes[8].visible\":false,\"shapes[9].visible\":false,\"shapes[10].visible\":false,\"shapes[11].visible\":false,\"shapes[12].visible\":false,\"shapes[13].visible\":false,\"shapes[14].visible\":false,\"shapes[15].visible\":true,\"shapes[16].visible\":false}],\"label\":\"short-5\",\"method\":\"update\"},{\"args\":[{\"visible\":[false,false,false,false,false,false,false,false,false,false,false,false,false,false,false,false,false,false,false,false,false,false,false,false,false,false,false,false,false,false,false,false,false,false,false,false,false,false,false,false,false,false,false,false,false,false,false,false,false,false,false,false,false,false,false,false,false,false,false,false,false,false,false,false,false,false,false,false,false,false,false,false,false,false,false,false,false,false,false,false,false,false,false,false,false,false,false,false,false,false,false,false,false,false,false,false,true,true,true,true,true,true]},{\"title.text\":\"Graphix Scale-Out: short-7\",\"shapes[0].visible\":false,\"shapes[1].visible\":false,\"shapes[2].visible\":false,\"shapes[3].visible\":false,\"shapes[4].visible\":false,\"shapes[5].visible\":false,\"shapes[6].visible\":false,\"shapes[7].visible\":false,\"shapes[8].visible\":false,\"shapes[9].visible\":false,\"shapes[10].visible\":false,\"shapes[11].visible\":false,\"shapes[12].visible\":false,\"shapes[13].visible\":false,\"shapes[14].visible\":false,\"shapes[15].visible\":false,\"shapes[16].visible\":true}],\"label\":\"short-7\",\"method\":\"update\"}]}]},                        {\"responsive\": true}                    ).then(function(){\n                            \nvar gd = document.getElementById('fba5d025-eadf-44a6-bd6a-037d6be2cadb');\nvar x = new MutationObserver(function (mutations, observer) {{\n        var display = window.getComputedStyle(gd).display;\n        if (!display || display === 'none') {{\n            console.log([gd, 'removed!']);\n            Plotly.purge(gd);\n            observer.disconnect();\n        }}\n}});\n\n// Listen for the removal of the full notebook cells\nvar notebookContainer = gd.closest('#notebook-container');\nif (notebookContainer) {{\n    x.observe(notebookContainer, {childList: true});\n}}\n\n// Listen for the clearing of the current output cell\nvar outputEl = gd.closest('.output');\nif (outputEl) {{\n    x.observe(outputEl, {childList: true});\n}}\n\n                        })                };                });            </script>        </div>"
     },
     "metadata": {},
     "output_type": "display_data"
    }
   ],
   "source": [
    "import requests\n",
    "import pandas\n",
    "import plotly.graph_objects\n",
    "import plotly.colors\n",
    "import natsort\n",
    "\n",
    "# Fetch our data.\n",
    "response = requests.post('http://localhost:19002/query/service', {\n",
    "    'statement': f\"\"\"\n",
    "        SET    `compiler.sortmemory` \"128MB\";\n",
    "        SET    `compiler.groupmemory` \"128MB\";\n",
    "        SELECT CASE WHEN LEN(stringTimes) < 10\n",
    "                    THEN STRING_JOIN(stringTimes, \"<br>\")\n",
    "                    ELSE STRING_JOIN(stringTimes, \"<br>\") || \"<br>...\"\n",
    "                    END AS timesAsString,\n",
    "               S.* EXCLUDE notes\n",
    "        FROM   SNB.Analysis.Statistics S\n",
    "        LET    stringTimes = (\n",
    "                   SELECT VALUE TO_STRING(ROUND(T, 3))\n",
    "                   FROM   S.allTimes T\n",
    "                   LIMIT  10\n",
    "               );\n",
    "    \"\"\"\n",
    "}).json()\n",
    "df = pandas.json_normalize(response['results'])\n",
    "\n",
    "# In addition to our plot, we also want to build CSV outputs.\n",
    "output_neo4j, output_graphix = [], []\n",
    "\n",
    "# Plot our results with a bar chart.\n",
    "fig = plotly.graph_objects.Figure()\n",
    "cluster_sizes = [1, 2, 4, 8, 16, 32]\n",
    "query_classes = natsort.natsorted(df.queryClass.unique())\n",
    "neo4j_visible_vector = []\n",
    "for i, qc in enumerate(query_classes):\n",
    "    qc_sf = df.query(\n",
    "        f'system == \"Neo4J\" and '\n",
    "        f'queryClass == \"{qc}\" and '\n",
    "        f'scaleFactor == \"300\"'\n",
    "    )\n",
    "    neo4j_has_value = len(qc_sf.avgTime) > 0\n",
    "    neo4j_visible_vector += [neo4j_has_value]\n",
    "    neo4j_value = qc_sf.avgTime.item() if neo4j_has_value else None\n",
    "    fig.add_shape(\n",
    "        type='line',\n",
    "        yref='y',\n",
    "        y0=(neo4j_value if neo4j_has_value else 0),\n",
    "        y1=(neo4j_value if neo4j_has_value else 0),\n",
    "        xref='paper',\n",
    "        x0=0,\n",
    "        x1=1,\n",
    "        visible=i == 0,\n",
    "        line={\n",
    "            'color': plotly.colors.qualitative.D3[-1],\n",
    "            'width': 3,\n",
    "            'dash': 'dot'\n",
    "        }\n",
    "    )\n",
    "    if neo4j_has_value:\n",
    "        output_neo4j += [f'{neo4j_value},\"{qc}\",-1000']\n",
    "        output_neo4j += [f'{neo4j_value},\"{qc}\",1000']\n",
    "    for j, cluster_size in enumerate(cluster_sizes):\n",
    "        if qc == 'bi-7':\n",
    "            version_conjunct = 'queryVersion == \"2\" and '\n",
    "        elif qc == 'bi-18':\n",
    "            version_conjunct = 'queryVersion == \"2\" and '\n",
    "        else:\n",
    "            version_conjunct = ''\n",
    "        qc_sf = df.query(\n",
    "            f'system == \"Graphix\" and '\n",
    "            f'clusterSize == \"{cluster_size}\" and '\n",
    "            f'queryClass == \"{qc}\" and '\n",
    "            f'{version_conjunct} '\n",
    "            f'scaleFactor == \"300\"'\n",
    "        )\n",
    "        if len(qc_sf.avgTime) > 0:\n",
    "            output_graphix += [f'{qc_sf.avgTime.item()},{cluster_size},\"{qc}\"']\n",
    "        fig.add_trace(plotly.graph_objects.Bar(\n",
    "            x=[cluster_size],\n",
    "            y=qc_sf.avgTime,\n",
    "            name=f'{cluster_size} Nodes',\n",
    "            texttemplate='%{y:.3r}',\n",
    "            visible=i == 0,\n",
    "            marker={'color': plotly.colors.qualitative.D3[j]},\n",
    "            customdata=qc_sf[['spreadTime', 'maxTime', 'minTime', 'timesAsString']],\n",
    "            hovertemplate=\"<b>Average:</b> %{y} +/-%{customdata[0]:.3f}<br>\"\n",
    "                          \"<b>Maximum:</b> %{customdata[1]:.3f}<br>\"\n",
    "                          \"<b>Minimum:</b> %{customdata[2]:.3f}<br>\"\n",
    "                          \"<b>Using:</b><br>%{customdata[3]}\"\n",
    "        ))\n",
    "\n",
    "# Write our results to a CSV.\n",
    "with open('results/neo4j.csv', 'w') as fp:\n",
    "    fp.write('time,queryclass,misc\\n')\n",
    "    for p in output_neo4j:\n",
    "        fp.write(p + '\\n')\n",
    "with open('results/graphix.csv', 'w') as fp:\n",
    "    fp.write('time,clustersize,queryclass\\n')\n",
    "    for p in output_graphix:\n",
    "        fp.write(p + '\\n')\n",
    "\n",
    "# For all query classes, build an update action.\n",
    "fig.update_layout(\n",
    "    title={\n",
    "        'text': f'Graphix Scale-Out: {query_classes[0]}',\n",
    "        'xanchor': 'center',\n",
    "        'yanchor': 'top',\n",
    "        'x': 0.5,\n",
    "        'font': {\n",
    "            'size': 24\n",
    "        }\n",
    "    },\n",
    "    xaxis={\n",
    "        'title': 'Cluster Size',\n",
    "        'type': 'category',\n",
    "        'categoryorder': 'array',\n",
    "        'categoryarray': cluster_sizes\n",
    "    },\n",
    "    yaxis={\n",
    "        'title': 'Running Time (s)',\n",
    "        'showspikes': True,\n",
    "    }\n",
    ")\n",
    "buttons = list()\n",
    "for i, qc in enumerate(query_classes):\n",
    "    visible_data_vector = [False for f in range(0, len(query_classes) * len(cluster_sizes))]\n",
    "    for j in range(len(cluster_sizes)):\n",
    "        visible_data_vector[(i * len(cluster_sizes)) + j] = True\n",
    "    visible_shapes_dict = {f'shapes[{j}].visible': False for j in range(len(query_classes))}\n",
    "    if neo4j_visible_vector[i]:\n",
    "        visible_shapes_dict[f'shapes[{i}].visible'] = True\n",
    "    buttons.append({\n",
    "        'label': qc,\n",
    "        'method': 'update',\n",
    "        'args': [\n",
    "            {'visible': visible_data_vector},\n",
    "            {'title.text': f'Graphix Scale-Out: {qc}', **visible_shapes_dict}\n",
    "        ]\n",
    "    })\n",
    "fig.update_layout(updatemenus=[{\n",
    "    'active': 0,\n",
    "    'buttons': buttons\n",
    "}])\n",
    "fig.show()"
   ]
  },
  {
   "cell_type": "code",
   "execution_count": null,
   "outputs": [],
   "source": [],
   "metadata": {
    "collapsed": false
   }
  }
 ],
 "metadata": {
  "kernelspec": {
   "display_name": "Python 3 (ipykernel)",
   "language": "python",
   "name": "python3"
  },
  "language_info": {
   "codemirror_mode": {
    "name": "ipython",
    "version": 3
   },
   "file_extension": ".py",
   "mimetype": "text/x-python",
   "name": "python",
   "nbconvert_exporter": "python",
   "pygments_lexer": "ipython3",
   "version": "3.11.1"
  }
 },
 "nbformat": 4,
 "nbformat_minor": 1
}
